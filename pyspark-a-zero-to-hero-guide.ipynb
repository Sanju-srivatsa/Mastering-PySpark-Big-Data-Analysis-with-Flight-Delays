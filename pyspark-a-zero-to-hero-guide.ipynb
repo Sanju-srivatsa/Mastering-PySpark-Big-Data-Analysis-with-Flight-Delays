{
 "cells": [
  {
   "cell_type": "markdown",
   "id": "3f127a7d",
   "metadata": {
    "_cell_guid": "b1076dfc-b9ad-4769-8c92-a6c4dae69d19",
    "_uuid": "8f2839f25d086af736a60e9eeb907d3b93b6e0e5",
    "papermill": {
     "duration": 0.014818,
     "end_time": "2024-12-24T06:10:14.362050",
     "exception": false,
     "start_time": "2024-12-24T06:10:14.347232",
     "status": "completed"
    },
    "tags": []
   },
   "source": [
    "# **PySpark: A Zero-to-Hero Guide**\n",
    "\n",
    "### **Introduction to PySpark**\n",
    "PySpark is the Python API for Apache Spark, an open-source, distributed computing system designed to process large-scale data. PySpark is widely used for big data processing, machine learning, and streaming due to its scalability, speed, and ease of use.\n",
    "\n",
    "---\n",
    "\n",
    "### **Why Use PySpark?**\n",
    "1. **Distributed Computing**: Automatically distributes data and computations across a cluster.\n",
    "2. **Fault Tolerance**: Ensures data is not lost due to node failures.\n",
    "3. **Ease of Use**: Provides simple APIs in Python while harnessing the power of Spark.\n",
    "4. **Big Data Ready**: Efficiently handles datasets too large for a single machine.\n",
    "5. **Integration**: Compatible with Hadoop, SQL, and Python libraries.\n",
    "\n",
    "---\n",
    "\n",
    "### **Core PySpark Concepts and Terminologies**\n",
    "\n",
    "#### **1. SparkSession**\n",
    "- **Definition**: The entry point for any PySpark application, managing configurations and the Spark cluster.\n",
    "- **Usage**:\n",
    "  ```python\n",
    "  from pyspark.sql import SparkSession\n",
    "  spark = SparkSession.builder.appName(\"PySpark Guide\").getOrCreate()\n",
    "  ```\n",
    "\n",
    "#### **2. RDD (Resilient Distributed Dataset)**\n",
    "- **Definition**: The core data structure in Spark, designed for fault-tolerant and distributed data processing.\n",
    "- **Key Features**:\n",
    "  - Immutable: Once created, RDDs cannot be modified.\n",
    "  - Partitioned: Data is split into partitions for parallel processing.\n",
    "  - Lazy Evaluation: Transformations are only executed when an action is triggered.\n",
    "- **Operations**:\n",
    "  - **Transformations**: `map`, `filter`, `flatMap`, `reduceByKey`.\n",
    "  - **Actions**: `collect`, `count`, `take`.\n",
    "\n",
    "#### **3. DataFrames**\n",
    "- **Definition**: A distributed collection of data organized into rows and columns, similar to a database table or Pandas DataFrame.\n",
    "- **Features**:\n",
    "  - Schema support for structured data.\n",
    "  - Optimized for performance with Catalyst Optimizer.\n",
    "- **Operations**:\n",
    "  - Selecting: `select`, `filter`, `where`.\n",
    "  - Aggregations: `groupBy`, `agg`, `count`.\n",
    "\n",
    "#### **4. Dataset**\n",
    "- **Definition**: Strongly-typed DataFrame-like structure introduced for statically-typed languages (Java/Scala). Not common in PySpark.\n",
    "\n",
    "#### **5. PySpark SQL**\n",
    "- **Definition**: Module for querying structured data using SQL.\n",
    "- **Key Operations**:\n",
    "  - Register a DataFrame as a temporary SQL table:\n",
    "    ```python\n",
    "    df.createOrReplaceTempView(\"table_name\")\n",
    "    spark.sql(\"SELECT * FROM table_name\").show()\n",
    "    ```\n",
    "\n",
    "#### **6. PySpark MLlib**\n",
    "- **Definition**: A machine learning library for scalable machine learning.\n",
    "- **Key Features**:\n",
    "  - Classification and Regression: Logistic regression, linear regression.\n",
    "  - Clustering: K-means.\n",
    "  - Recommendation Systems: Collaborative filtering.\n",
    "  - Feature Engineering: VectorAssembler, StandardScaler.\n",
    "  - Model Evaluation: RegressionEvaluator.\n",
    "\n",
    "#### **7. Transformations**\n",
    "- **Definition**: Lazy operations that define how data should be transformed but do not execute immediately.\n",
    "- **Examples**:\n",
    "  - `map()`: Applies a function to each element.\n",
    "  - `filter()`: Filters data based on a condition.\n",
    "\n",
    "#### **8. Actions**\n",
    "- **Definition**: Triggers the execution of transformations and returns a result.\n",
    "- **Examples**:\n",
    "  - `count()`: Counts the number of elements.\n",
    "  - `collect()`: Returns all elements in the RDD/DataFrame.\n",
    "\n",
    "#### **9. Partitions**\n",
    "- **Definition**: Logical divisions of data within an RDD or DataFrame.\n",
    "- **Importance**:\n",
    "  - Improves parallelism.\n",
    "  - Can be controlled using `repartition` or `coalesce`.\n",
    "\n",
    "#### **10. Catalyst Optimizer**\n",
    "- **Definition**: An optimization engine for DataFrame queries to improve execution plans.\n",
    "\n",
    "#### **11. Tungsten Engine**\n",
    "- **Definition**: Optimizes Spark jobs by improving CPU and memory utilization.\n",
    "\n",
    "#### **12. Lazy Evaluation**\n",
    "- **Definition**: Operations are not executed until an action is triggered, optimizing the execution plan.\n",
    "\n",
    "#### **13. Broadcast Variables**\n",
    "- **Definition**: Used to cache a value on all nodes for efficient access.\n",
    "- **Usage**:\n",
    "  ```python\n",
    "  broadcastVar = spark.sparkContext.broadcast([1, 2, 3])\n",
    "  ```\n",
    "\n",
    "#### **14. Accumulators**\n",
    "- **Definition**: Write-only shared variables for aggregating data across nodes.\n",
    "\n",
    "#### **15. PySpark Streaming**\n",
    "- **Definition**: Enables real-time processing of streaming data.\n",
    "- **Key Concepts**:\n",
    "  - DStream: Continuous stream of data.\n",
    "  - Window Operations: Aggregations over a sliding window.\n",
    "\n",
    "#### **16. PySpark Structured Streaming**\n",
    "- **Definition**: High-level API for stream processing using SQL and DataFrames.\n",
    "\n",
    "#### **17. Serialization**\n",
    "- **Definition**: Converts data for transmission over the network or storage.\n",
    "\n",
    "---\n",
    "\n",
    "### **PySpark Architecture**\n",
    "\n",
    "1. **Driver Program**:\n",
    "   - Manages application lifecycle and scheduling tasks.\n",
    "2. **Executors**:\n",
    "   - Run tasks assigned by the driver program.\n",
    "3. **Cluster Manager**:\n",
    "   - Allocates resources for applications (e.g., YARN, Mesos).\n",
    "\n",
    "---"
   ]
  },
  {
   "cell_type": "markdown",
   "id": "7bf10f8a",
   "metadata": {
    "papermill": {
     "duration": 0.013573,
     "end_time": "2024-12-24T06:10:14.389277",
     "exception": false,
     "start_time": "2024-12-24T06:10:14.375704",
     "status": "completed"
    },
    "tags": []
   },
   "source": [
    "### **PySpark Walkthrough: Learning PySpark Step by Step with Flight Delay Dataset**\n",
    "\n",
    "This notebook is designed as a **step-by-step guide** to learn PySpark. It explains each concept in detail using the **Flight Delay dataset** and focuses on building an understanding of PySpark, its operations, and real-world applications.\n"
   ]
  },
  {
   "cell_type": "markdown",
   "id": "b90414a1",
   "metadata": {
    "papermill": {
     "duration": 0.012878,
     "end_time": "2024-12-24T06:10:14.416104",
     "exception": false,
     "start_time": "2024-12-24T06:10:14.403226",
     "status": "completed"
    },
    "tags": []
   },
   "source": [
    "## **Step 1: Understanding PySpark**\n",
    "**What is PySpark?**\n",
    "- PySpark is the Python API for Apache Spark.\n",
    "- Apache Spark is a distributed computing framework for big data processing.\n",
    "- PySpark provides a way to write Spark applications using Python, enabling scalability for large datasets."
   ]
  },
  {
   "cell_type": "markdown",
   "id": "f49ef63b",
   "metadata": {
    "papermill": {
     "duration": 0.013304,
     "end_time": "2024-12-24T06:10:14.442712",
     "exception": false,
     "start_time": "2024-12-24T06:10:14.429408",
     "status": "completed"
    },
    "tags": []
   },
   "source": [
    "## **Step 2: Install and Import Libraries**\n",
    "\n",
    "### **Installing PySpark**\n",
    "PySpark can be installed using pip:"
   ]
  },
  {
   "cell_type": "code",
   "execution_count": 1,
   "id": "dee55b35",
   "metadata": {
    "execution": {
     "iopub.execute_input": "2024-12-24T06:10:14.471305Z",
     "iopub.status.busy": "2024-12-24T06:10:14.470963Z",
     "iopub.status.idle": "2024-12-24T06:11:00.041011Z",
     "shell.execute_reply": "2024-12-24T06:11:00.039709Z"
    },
    "papermill": {
     "duration": 45.586982,
     "end_time": "2024-12-24T06:11:00.042986",
     "exception": false,
     "start_time": "2024-12-24T06:10:14.456004",
     "status": "completed"
    },
    "tags": []
   },
   "outputs": [
    {
     "name": "stdout",
     "output_type": "stream",
     "text": [
      "Collecting pyspark\r\n",
      "  Downloading pyspark-3.5.4.tar.gz (317.3 MB)\r\n",
      "\u001b[2K     \u001b[90m━━━━━━━━━━━━━━━━━━━━━━━━━━━━━━━━━━━━━━━━\u001b[0m \u001b[32m317.3/317.3 MB\u001b[0m \u001b[31m4.9 MB/s\u001b[0m eta \u001b[36m0:00:00\u001b[0m\r\n",
      "\u001b[?25h  Preparing metadata (setup.py) ... \u001b[?25l\u001b[?25hdone\r\n",
      "Requirement already satisfied: py4j==0.10.9.7 in /usr/local/lib/python3.10/dist-packages (from pyspark) (0.10.9.7)\r\n",
      "Building wheels for collected packages: pyspark\r\n",
      "  Building wheel for pyspark (setup.py) ... \u001b[?25l\u001b[?25hdone\r\n",
      "  Created wheel for pyspark: filename=pyspark-3.5.4-py2.py3-none-any.whl size=317849765 sha256=4c374686a827934c6cba080ace0aa66ffae3b9a1c6ed9a6db2bd09a0ab48d66d\r\n",
      "  Stored in directory: /root/.cache/pip/wheels/d9/1c/98/31e395a42d1735d18d42124971ecbbade844b50bb9845b6f4a\r\n",
      "Successfully built pyspark\r\n",
      "Installing collected packages: pyspark\r\n",
      "Successfully installed pyspark-3.5.4\r\n"
     ]
    }
   ],
   "source": [
    "!pip install pyspark"
   ]
  },
  {
   "cell_type": "markdown",
   "id": "edf19324",
   "metadata": {
    "papermill": {
     "duration": 0.018003,
     "end_time": "2024-12-24T06:11:00.079841",
     "exception": false,
     "start_time": "2024-12-24T06:11:00.061838",
     "status": "completed"
    },
    "tags": []
   },
   "source": [
    "### **Importing Required Libraries**"
   ]
  },
  {
   "cell_type": "code",
   "execution_count": 2,
   "id": "9627d105",
   "metadata": {
    "execution": {
     "iopub.execute_input": "2024-12-24T06:11:00.118811Z",
     "iopub.status.busy": "2024-12-24T06:11:00.118377Z",
     "iopub.status.idle": "2024-12-24T06:11:00.608305Z",
     "shell.execute_reply": "2024-12-24T06:11:00.607042Z"
    },
    "papermill": {
     "duration": 0.511904,
     "end_time": "2024-12-24T06:11:00.610373",
     "exception": false,
     "start_time": "2024-12-24T06:11:00.098469",
     "status": "completed"
    },
    "tags": []
   },
   "outputs": [],
   "source": [
    "import os  # For working with file paths\n",
    "import time  # To calculate execution times\n",
    "import pandas as pd  # For handling smaller datasets and debugging\n",
    "import pyspark.sql.functions as F  # For transformations and aggregations\n",
    "from pyspark.sql import SparkSession  # To start a PySpark session"
   ]
  },
  {
   "cell_type": "markdown",
   "id": "81a7826c",
   "metadata": {
    "papermill": {
     "duration": 0.027862,
     "end_time": "2024-12-24T06:11:00.662257",
     "exception": false,
     "start_time": "2024-12-24T06:11:00.634395",
     "status": "completed"
    },
    "tags": []
   },
   "source": [
    "## **Step 3: Creating a SparkSession**\n",
    "\n",
    "A `SparkSession` is the starting point for any PySpark application. It allows us to interact with Spark."
   ]
  },
  {
   "cell_type": "code",
   "execution_count": 3,
   "id": "2bddab0e",
   "metadata": {
    "execution": {
     "iopub.execute_input": "2024-12-24T06:11:00.720892Z",
     "iopub.status.busy": "2024-12-24T06:11:00.720237Z",
     "iopub.status.idle": "2024-12-24T06:11:06.614376Z",
     "shell.execute_reply": "2024-12-24T06:11:06.612720Z"
    },
    "papermill": {
     "duration": 5.927646,
     "end_time": "2024-12-24T06:11:06.616740",
     "exception": false,
     "start_time": "2024-12-24T06:11:00.689094",
     "status": "completed"
    },
    "tags": []
   },
   "outputs": [],
   "source": [
    "spark = SparkSession.builder \\\n",
    "    .appName(\"Flight Delay Analysis\") \\\n",
    "    .getOrCreate()"
   ]
  },
  {
   "cell_type": "markdown",
   "id": "c3c59410",
   "metadata": {
    "papermill": {
     "duration": 0.018719,
     "end_time": "2024-12-24T06:11:06.653695",
     "exception": false,
     "start_time": "2024-12-24T06:11:06.634976",
     "status": "completed"
    },
    "tags": []
   },
   "source": [
    "**Explanation:**\n",
    "- `appName`: Assigns a name to the Spark application.\n",
    "- `getOrCreate`: Creates a new session or retrieves an existing one."
   ]
  },
  {
   "cell_type": "markdown",
   "id": "6f602015",
   "metadata": {
    "papermill": {
     "duration": 0.018194,
     "end_time": "2024-12-24T06:11:06.691648",
     "exception": false,
     "start_time": "2024-12-24T06:11:06.673454",
     "status": "completed"
    },
    "tags": []
   },
   "source": [
    "## **Step 4: Loading the Dataset**\n",
    "\n",
    "PySpark allows us to load various types of files such as CSV, JSON, and Parquet. Here, we load the datasets."
   ]
  },
  {
   "cell_type": "code",
   "execution_count": 4,
   "id": "5a7b727d",
   "metadata": {
    "execution": {
     "iopub.execute_input": "2024-12-24T06:11:06.729377Z",
     "iopub.status.busy": "2024-12-24T06:11:06.729000Z",
     "iopub.status.idle": "2024-12-24T06:11:18.952175Z",
     "shell.execute_reply": "2024-12-24T06:11:18.950813Z"
    },
    "papermill": {
     "duration": 12.245079,
     "end_time": "2024-12-24T06:11:18.954849",
     "exception": false,
     "start_time": "2024-12-24T06:11:06.709770",
     "status": "completed"
    },
    "tags": []
   },
   "outputs": [],
   "source": [
    "# File paths for datasets\n",
    "file_path_flights = '/kaggle/input/fligths-delays/flights.csv'\n",
    "file_path_airlines = '/kaggle/input/fligths-delays/airlines.csv'\n",
    "file_path_airports = '/kaggle/input/fligths-delays/airports.csv'\n",
    "\n",
    "# Loading datasets\n",
    "flights = spark.read.csv(file_path_flights, header=True, inferSchema=True)\n",
    "airlines = spark.read.csv(file_path_airlines, header=True, inferSchema=True)\n",
    "airports = spark.read.csv(file_path_airports, header=True, inferSchema=True)"
   ]
  },
  {
   "cell_type": "markdown",
   "id": "40334ceb",
   "metadata": {
    "papermill": {
     "duration": 0.031153,
     "end_time": "2024-12-24T06:11:19.021504",
     "exception": false,
     "start_time": "2024-12-24T06:11:18.990351",
     "status": "completed"
    },
    "tags": []
   },
   "source": [
    "**Key Options:**\n",
    "- `header=True`: Indicates the first row contains column names.\n",
    "- `inferSchema=True`: Automatically infers the data types for each column."
   ]
  },
  {
   "cell_type": "markdown",
   "id": "b16903a2",
   "metadata": {
    "papermill": {
     "duration": 0.034056,
     "end_time": "2024-12-24T06:11:19.088463",
     "exception": false,
     "start_time": "2024-12-24T06:11:19.054407",
     "status": "completed"
    },
    "tags": []
   },
   "source": [
    "## **Step 5: Exploring the Data**\n",
    "\n",
    "### **5.1 Displaying Rows**\n",
    "Use `.show()` to display rows from a DataFrame:"
   ]
  },
  {
   "cell_type": "code",
   "execution_count": 5,
   "id": "1b460847",
   "metadata": {
    "execution": {
     "iopub.execute_input": "2024-12-24T06:11:19.156263Z",
     "iopub.status.busy": "2024-12-24T06:11:19.155773Z",
     "iopub.status.idle": "2024-12-24T06:11:19.813179Z",
     "shell.execute_reply": "2024-12-24T06:11:19.810932Z"
    },
    "papermill": {
     "duration": 0.693914,
     "end_time": "2024-12-24T06:11:19.816119",
     "exception": false,
     "start_time": "2024-12-24T06:11:19.122205",
     "status": "completed"
    },
    "tags": []
   },
   "outputs": [
    {
     "name": "stdout",
     "output_type": "stream",
     "text": [
      "+-----+------+----+-----------+-------+-------------+-----------+--------------+-------------------+-------------------+--------------+---------------+--------+----------+--------------+------------+--------+--------+---------+-------+-----------------+------------+-------------+--------+---------+-------------------+----------------+--------------+-------------+-------------------+-------------+\n",
      "|YEAR_|MONTH_|DAY_|DAY_OF_WEEK|AIRLINE|FLIGHT_NUMBER|TAIL_NUMBER|ORIGIN_AIRPORT|DESTINATION_AIRPORT|SCHEDULED_DEPARTURE|DEPARTURE_TIME|DEPARTURE_DELAY|TAXI_OUT|WHEELS_OFF|SCHEDULED_TIME|ELAPSED_TIME|AIR_TIME|DISTANCE|WHEELS_ON|TAXI_IN|SCHEDULED_ARRIVAL|ARRIVAL_TIME|ARRIVAL_DELAY|DIVERTED|CANCELLED|CANCELLATION_REASON|AIR_SYSTEM_DELAY|SECURITY_DELAY|AIRLINE_DELAY|LATE_AIRCRAFT_DELAY|WEATHER_DELAY|\n",
      "+-----+------+----+-----------+-------+-------------+-----------+--------------+-------------------+-------------------+--------------+---------------+--------+----------+--------------+------------+--------+--------+---------+-------+-----------------+------------+-------------+--------+---------+-------------------+----------------+--------------+-------------+-------------------+-------------+\n",
      "| 2015|     1|   1|          4|     AS|           98|     N407AS|           ANC|                SEA|                  5|          2354|            -11|      21|        15|           205|         194|     169|    1448|      404|      4|              430|         408|          -22|       0|        0|               NULL|            NULL|          NULL|         NULL|               NULL|         NULL|\n",
      "| 2015|     1|   1|          4|     AA|         2336|     N3KUAA|           LAX|                PBI|                 10|             2|             -8|      12|        14|           280|         279|     263|    2330|      737|      4|              750|         741|           -9|       0|        0|               NULL|            NULL|          NULL|         NULL|               NULL|         NULL|\n",
      "| 2015|     1|   1|          4|     US|          840|     N171US|           SFO|                CLT|                 20|            18|             -2|      16|        34|           286|         293|     266|    2296|      800|     11|              806|         811|            5|       0|        0|               NULL|            NULL|          NULL|         NULL|               NULL|         NULL|\n",
      "| 2015|     1|   1|          4|     AA|          258|     N3HYAA|           LAX|                MIA|                 20|            15|             -5|      15|        30|           285|         281|     258|    2342|      748|      8|              805|         756|           -9|       0|        0|               NULL|            NULL|          NULL|         NULL|               NULL|         NULL|\n",
      "| 2015|     1|   1|          4|     AS|          135|     N527AS|           SEA|                ANC|                 25|            24|             -1|      11|        35|           235|         215|     199|    1448|      254|      5|              320|         259|          -21|       0|        0|               NULL|            NULL|          NULL|         NULL|               NULL|         NULL|\n",
      "+-----+------+----+-----------+-------+-------------+-----------+--------------+-------------------+-------------------+--------------+---------------+--------+----------+--------------+------------+--------+--------+---------+-------+-----------------+------------+-------------+--------+---------+-------------------+----------------+--------------+-------------+-------------------+-------------+\n",
      "only showing top 5 rows\n",
      "\n"
     ]
    }
   ],
   "source": [
    "flights.show(5)"
   ]
  },
  {
   "cell_type": "markdown",
   "id": "45c2bd10",
   "metadata": {
    "papermill": {
     "duration": 0.032425,
     "end_time": "2024-12-24T06:11:19.883927",
     "exception": false,
     "start_time": "2024-12-24T06:11:19.851502",
     "status": "completed"
    },
    "tags": []
   },
   "source": [
    "### **5.2 Checking Schema**\n",
    "Use `.printSchema()` to view the structure of the DataFrame:"
   ]
  },
  {
   "cell_type": "code",
   "execution_count": 6,
   "id": "0f5089bc",
   "metadata": {
    "execution": {
     "iopub.execute_input": "2024-12-24T06:11:19.925516Z",
     "iopub.status.busy": "2024-12-24T06:11:19.924993Z",
     "iopub.status.idle": "2024-12-24T06:11:19.934522Z",
     "shell.execute_reply": "2024-12-24T06:11:19.932389Z"
    },
    "papermill": {
     "duration": 0.033553,
     "end_time": "2024-12-24T06:11:19.937602",
     "exception": false,
     "start_time": "2024-12-24T06:11:19.904049",
     "status": "completed"
    },
    "tags": []
   },
   "outputs": [
    {
     "name": "stdout",
     "output_type": "stream",
     "text": [
      "root\n",
      " |-- YEAR_: integer (nullable = true)\n",
      " |-- MONTH_: integer (nullable = true)\n",
      " |-- DAY_: integer (nullable = true)\n",
      " |-- DAY_OF_WEEK: integer (nullable = true)\n",
      " |-- AIRLINE: string (nullable = true)\n",
      " |-- FLIGHT_NUMBER: integer (nullable = true)\n",
      " |-- TAIL_NUMBER: string (nullable = true)\n",
      " |-- ORIGIN_AIRPORT: string (nullable = true)\n",
      " |-- DESTINATION_AIRPORT: string (nullable = true)\n",
      " |-- SCHEDULED_DEPARTURE: integer (nullable = true)\n",
      " |-- DEPARTURE_TIME: integer (nullable = true)\n",
      " |-- DEPARTURE_DELAY: integer (nullable = true)\n",
      " |-- TAXI_OUT: integer (nullable = true)\n",
      " |-- WHEELS_OFF: integer (nullable = true)\n",
      " |-- SCHEDULED_TIME: integer (nullable = true)\n",
      " |-- ELAPSED_TIME: integer (nullable = true)\n",
      " |-- AIR_TIME: integer (nullable = true)\n",
      " |-- DISTANCE: integer (nullable = true)\n",
      " |-- WHEELS_ON: integer (nullable = true)\n",
      " |-- TAXI_IN: integer (nullable = true)\n",
      " |-- SCHEDULED_ARRIVAL: integer (nullable = true)\n",
      " |-- ARRIVAL_TIME: integer (nullable = true)\n",
      " |-- ARRIVAL_DELAY: integer (nullable = true)\n",
      " |-- DIVERTED: integer (nullable = true)\n",
      " |-- CANCELLED: integer (nullable = true)\n",
      " |-- CANCELLATION_REASON: string (nullable = true)\n",
      " |-- AIR_SYSTEM_DELAY: integer (nullable = true)\n",
      " |-- SECURITY_DELAY: integer (nullable = true)\n",
      " |-- AIRLINE_DELAY: integer (nullable = true)\n",
      " |-- LATE_AIRCRAFT_DELAY: integer (nullable = true)\n",
      " |-- WEATHER_DELAY: integer (nullable = true)\n",
      "\n"
     ]
    }
   ],
   "source": [
    "flights.printSchema()"
   ]
  },
  {
   "cell_type": "markdown",
   "id": "3cdcd29f",
   "metadata": {
    "papermill": {
     "duration": 0.018478,
     "end_time": "2024-12-24T06:11:19.975320",
     "exception": false,
     "start_time": "2024-12-24T06:11:19.956842",
     "status": "completed"
    },
    "tags": []
   },
   "source": [
    "**Explanation:**\n",
    "- Shows the column names, data types, and whether the columns allow null values."
   ]
  },
  {
   "cell_type": "markdown",
   "id": "43113936",
   "metadata": {
    "papermill": {
     "duration": 0.020386,
     "end_time": "2024-12-24T06:11:20.014930",
     "exception": false,
     "start_time": "2024-12-24T06:11:19.994544",
     "status": "completed"
    },
    "tags": []
   },
   "source": [
    "### **5.3 Counting Rows**"
   ]
  },
  {
   "cell_type": "code",
   "execution_count": 7,
   "id": "67294f08",
   "metadata": {
    "execution": {
     "iopub.execute_input": "2024-12-24T06:11:20.054283Z",
     "iopub.status.busy": "2024-12-24T06:11:20.053896Z",
     "iopub.status.idle": "2024-12-24T06:11:21.809025Z",
     "shell.execute_reply": "2024-12-24T06:11:21.807380Z"
    },
    "papermill": {
     "duration": 1.77889,
     "end_time": "2024-12-24T06:11:21.812994",
     "exception": false,
     "start_time": "2024-12-24T06:11:20.034104",
     "status": "completed"
    },
    "tags": []
   },
   "outputs": [
    {
     "name": "stdout",
     "output_type": "stream",
     "text": [
      "Number of rows in the Flights dataset: 1048575\n"
     ]
    }
   ],
   "source": [
    "print(f\"Number of rows in the Flights dataset: {flights.count()}\")"
   ]
  },
  {
   "cell_type": "markdown",
   "id": "9c3b2eb3",
   "metadata": {
    "papermill": {
     "duration": 0.038714,
     "end_time": "2024-12-24T06:11:21.892960",
     "exception": false,
     "start_time": "2024-12-24T06:11:21.854246",
     "status": "completed"
    },
    "tags": []
   },
   "source": [
    "## **Step 6: Data Cleaning**\n",
    "\n",
    "### **6.1 Handling Missing Data**\n",
    "To check for missing values:"
   ]
  },
  {
   "cell_type": "code",
   "execution_count": 8,
   "id": "f20e0a54",
   "metadata": {
    "execution": {
     "iopub.execute_input": "2024-12-24T06:11:21.965059Z",
     "iopub.status.busy": "2024-12-24T06:11:21.964549Z",
     "iopub.status.idle": "2024-12-24T06:11:26.441475Z",
     "shell.execute_reply": "2024-12-24T06:11:26.440316Z"
    },
    "papermill": {
     "duration": 4.516498,
     "end_time": "2024-12-24T06:11:26.444302",
     "exception": false,
     "start_time": "2024-12-24T06:11:21.927804",
     "status": "completed"
    },
    "tags": []
   },
   "outputs": [
    {
     "name": "stdout",
     "output_type": "stream",
     "text": [
      "Missing Values Per Column:\n",
      "YEAR_: 0\n",
      "MONTH_: 0\n",
      "DAY_: 0\n",
      "DAY_OF_WEEK: 0\n",
      "AIRLINE: 0\n",
      "FLIGHT_NUMBER: 0\n",
      "TAIL_NUMBER: 7750\n",
      "ORIGIN_AIRPORT: 0\n",
      "DESTINATION_AIRPORT: 0\n",
      "SCHEDULED_DEPARTURE: 0\n",
      "DEPARTURE_TIME: 39515\n",
      "DEPARTURE_DELAY: 39515\n",
      "TAXI_OUT: 40229\n",
      "WHEELS_OFF: 40229\n",
      "SCHEDULED_TIME: 2\n",
      "ELAPSED_TIME: 43071\n",
      "AIR_TIME: 43071\n",
      "DISTANCE: 0\n",
      "WHEELS_ON: 41296\n",
      "TAXI_IN: 41296\n",
      "SCHEDULED_ARRIVAL: 0\n",
      "ARRIVAL_TIME: 41296\n",
      "ARRIVAL_DELAY: 43071\n",
      "DIVERTED: 0\n",
      "CANCELLED: 0\n",
      "CANCELLATION_REASON: 1008048\n",
      "AIR_SYSTEM_DELAY: 820047\n",
      "SECURITY_DELAY: 820047\n",
      "AIRLINE_DELAY: 820047\n",
      "LATE_AIRCRAFT_DELAY: 820047\n",
      "WEATHER_DELAY: 820047\n"
     ]
    }
   ],
   "source": [
    "# Count missing values for each column\n",
    "missing_values = flights.select([\n",
    "    F.count(F.when(F.col(c).isNull(), 1)).alias(c) for c in flights.columns\n",
    "]).collect()[0]\n",
    "\n",
    "# Format and print the results\n",
    "print(\"Missing Values Per Column:\")\n",
    "for col, count in missing_values.asDict().items():\n",
    "    print(f\"{col}: {count}\")"
   ]
  },
  {
   "cell_type": "markdown",
   "id": "0a5d4068",
   "metadata": {
    "papermill": {
     "duration": 0.019865,
     "end_time": "2024-12-24T06:11:26.490463",
     "exception": false,
     "start_time": "2024-12-24T06:11:26.470598",
     "status": "completed"
    },
    "tags": []
   },
   "source": [
    "### **Step 6.2: Strategies for Handling Missing Data**\n",
    "\n",
    "#### **1. Dropping Rows or Columns**\n",
    "   - Drop rows or columns with missing data if the proportion of missing values is significant or if the column is not critical for analysis."
   ]
  },
  {
   "cell_type": "code",
   "execution_count": 9,
   "id": "de96be6e",
   "metadata": {
    "execution": {
     "iopub.execute_input": "2024-12-24T06:11:26.532021Z",
     "iopub.status.busy": "2024-12-24T06:11:26.531578Z",
     "iopub.status.idle": "2024-12-24T06:11:26.611096Z",
     "shell.execute_reply": "2024-12-24T06:11:26.609925Z"
    },
    "papermill": {
     "duration": 0.103648,
     "end_time": "2024-12-24T06:11:26.614638",
     "exception": false,
     "start_time": "2024-12-24T06:11:26.510990",
     "status": "completed"
    },
    "tags": []
   },
   "outputs": [],
   "source": [
    "# Drop rows with any missing values\n",
    "flights_cleaned = flights.dropna()\n",
    "\n",
    "# Drop rows with missing values in specific columns\n",
    "flights_cleaned = flights.dropna(subset=['TAIL_NUMBER', 'DEPARTURE_TIME'])\n",
    "\n",
    "# Drop columns with a high proportion of missing values\n",
    "columns_to_drop = ['CANCELLATION_REASON', 'AIR_SYSTEM_DELAY', 'SECURITY_DELAY', \n",
    "                  'AIRLINE_DELAY', 'LATE_AIRCRAFT_DELAY', 'WEATHER_DELAY']\n",
    "flights_cleaned = flights.drop(*columns_to_drop)"
   ]
  },
  {
   "cell_type": "markdown",
   "id": "5746c861",
   "metadata": {
    "papermill": {
     "duration": 0.036604,
     "end_time": "2024-12-24T06:11:26.686370",
     "exception": false,
     "start_time": "2024-12-24T06:11:26.649766",
     "status": "completed"
    },
    "tags": []
   },
   "source": [
    "#### **2. Filling Missing Values**\n",
    "   - Replace missing values with statistical measures or placeholders."
   ]
  },
  {
   "cell_type": "code",
   "execution_count": 10,
   "id": "d941c1fe",
   "metadata": {
    "execution": {
     "iopub.execute_input": "2024-12-24T06:11:26.730536Z",
     "iopub.status.busy": "2024-12-24T06:11:26.730181Z",
     "iopub.status.idle": "2024-12-24T06:11:28.458506Z",
     "shell.execute_reply": "2024-12-24T06:11:28.457478Z"
    },
    "papermill": {
     "duration": 1.750984,
     "end_time": "2024-12-24T06:11:28.461270",
     "exception": false,
     "start_time": "2024-12-24T06:11:26.710286",
     "status": "completed"
    },
    "tags": []
   },
   "outputs": [],
   "source": [
    "# Fill missing numerical values with mean or median\n",
    "flights = flights.fillna({'DEPARTURE_DELAY': flights.select(F.mean('DEPARTURE_DELAY')).collect()[0][0]})\n",
    "\n",
    "# Fill missing categorical values with a placeholder\n",
    "flights = flights.fillna({'TAIL_NUMBER': 'Unknown'})"
   ]
  },
  {
   "cell_type": "code",
   "execution_count": 11,
   "id": "484747a9",
   "metadata": {
    "execution": {
     "iopub.execute_input": "2024-12-24T06:11:28.512125Z",
     "iopub.status.busy": "2024-12-24T06:11:28.511760Z",
     "iopub.status.idle": "2024-12-24T06:11:28.597069Z",
     "shell.execute_reply": "2024-12-24T06:11:28.595821Z"
    },
    "papermill": {
     "duration": 0.108256,
     "end_time": "2024-12-24T06:11:28.599253",
     "exception": false,
     "start_time": "2024-12-24T06:11:28.490997",
     "status": "completed"
    },
    "tags": []
   },
   "outputs": [],
   "source": [
    "from pyspark.sql.window import Window\n",
    "\n",
    "# Fill missing values forward\n",
    "window_spec = Window.partitionBy('ORIGIN_AIRPORT').orderBy('SCHEDULED_DEPARTURE')\n",
    "flights = flights.withColumn('DEPARTURE_TIME', \n",
    "                            F.last('DEPARTURE_TIME', ignorenulls=True).over(window_spec))"
   ]
  },
  {
   "cell_type": "code",
   "execution_count": 12,
   "id": "0018fa75",
   "metadata": {
    "execution": {
     "iopub.execute_input": "2024-12-24T06:11:28.644564Z",
     "iopub.status.busy": "2024-12-24T06:11:28.644191Z",
     "iopub.status.idle": "2024-12-24T06:11:28.695397Z",
     "shell.execute_reply": "2024-12-24T06:11:28.693983Z"
    },
    "papermill": {
     "duration": 0.076149,
     "end_time": "2024-12-24T06:11:28.698374",
     "exception": false,
     "start_time": "2024-12-24T06:11:28.622225",
     "status": "completed"
    },
    "tags": []
   },
   "outputs": [],
   "source": [
    "# Replace missing ARRIVAL_DELAY values with DEPARTURE_DELAY + SCHEDULED_TIME (if logical)\n",
    "flights = flights.withColumn('ARRIVAL_DELAY', \n",
    "                            F.when(F.col('ARRIVAL_DELAY').isNull(), \n",
    "                                   F.col('DEPARTURE_DELAY') + F.col('SCHEDULED_TIME')).otherwise(F.col('ARRIVAL_DELAY')))"
   ]
  },
  {
   "cell_type": "code",
   "execution_count": 13,
   "id": "01186251",
   "metadata": {
    "execution": {
     "iopub.execute_input": "2024-12-24T06:11:28.759802Z",
     "iopub.status.busy": "2024-12-24T06:11:28.759203Z",
     "iopub.status.idle": "2024-12-24T06:11:33.260779Z",
     "shell.execute_reply": "2024-12-24T06:11:33.259716Z"
    },
    "papermill": {
     "duration": 4.527351,
     "end_time": "2024-12-24T06:11:33.263220",
     "exception": false,
     "start_time": "2024-12-24T06:11:28.735869",
     "status": "completed"
    },
    "tags": []
   },
   "outputs": [
    {
     "name": "stdout",
     "output_type": "stream",
     "text": [
      "Missing Values Per Column After Final Handling:\n",
      "YEAR_: 0\n",
      "MONTH_: 0\n",
      "DAY_: 0\n",
      "DAY_OF_WEEK: 0\n",
      "AIRLINE: 0\n",
      "FLIGHT_NUMBER: 0\n",
      "TAIL_NUMBER: 7750\n",
      "ORIGIN_AIRPORT: 0\n",
      "DESTINATION_AIRPORT: 0\n",
      "SCHEDULED_DEPARTURE: 0\n",
      "DEPARTURE_TIME: 39515\n",
      "DEPARTURE_DELAY: 39515\n",
      "TAXI_OUT: 40229\n",
      "WHEELS_OFF: 40229\n",
      "SCHEDULED_TIME: 2\n",
      "ELAPSED_TIME: 43071\n",
      "AIR_TIME: 43071\n",
      "DISTANCE: 0\n",
      "WHEELS_ON: 41296\n",
      "TAXI_IN: 41296\n",
      "SCHEDULED_ARRIVAL: 0\n",
      "ARRIVAL_TIME: 41296\n",
      "ARRIVAL_DELAY: 41296\n",
      "DIVERTED: 0\n",
      "CANCELLED: 0\n"
     ]
    }
   ],
   "source": [
    "# Impute ELAPSED_TIME if AIR_TIME, TAXI_OUT, and TAXI_IN are available\n",
    "flights_cleaned = flights_cleaned.withColumn(\n",
    "    'ELAPSED_TIME',\n",
    "    F.when(F.col('ELAPSED_TIME').isNull() & F.col('AIR_TIME').isNotNull() & F.col('TAXI_OUT').isNotNull() & F.col('TAXI_IN').isNotNull(),\n",
    "           F.col('AIR_TIME') + F.col('TAXI_OUT') + F.col('TAXI_IN')).otherwise(F.col('ELAPSED_TIME'))\n",
    ")\n",
    "\n",
    "# Impute AIR_TIME using ELAPSED_TIME\n",
    "flights_cleaned = flights_cleaned.withColumn(\n",
    "    'AIR_TIME',\n",
    "    F.when(F.col('AIR_TIME').isNull() & F.col('ELAPSED_TIME').isNotNull() & F.col('TAXI_OUT').isNotNull() & F.col('TAXI_IN').isNotNull(),\n",
    "           F.col('ELAPSED_TIME') - F.col('TAXI_OUT') - F.col('TAXI_IN')).otherwise(F.col('AIR_TIME'))\n",
    ")\n",
    "\n",
    "# Impute WHEELS_ON using WHEELS_OFF and AIR_TIME\n",
    "flights_cleaned = flights_cleaned.withColumn(\n",
    "    'WHEELS_ON',\n",
    "    F.when(F.col('WHEELS_ON').isNull() & F.col('WHEELS_OFF').isNotNull() & F.col('AIR_TIME').isNotNull(),\n",
    "           F.col('WHEELS_OFF') + F.col('AIR_TIME')).otherwise(F.col('WHEELS_ON'))\n",
    ")\n",
    "\n",
    "# Impute ARRIVAL_TIME using WHEELS_ON and TAXI_IN\n",
    "flights_cleaned = flights_cleaned.withColumn(\n",
    "    'ARRIVAL_TIME',\n",
    "    F.when(F.col('ARRIVAL_TIME').isNull() & F.col('WHEELS_ON').isNotNull() & F.col('TAXI_IN').isNotNull(),\n",
    "           F.col('WHEELS_ON') + F.col('TAXI_IN')).otherwise(F.col('ARRIVAL_TIME'))\n",
    ")\n",
    "\n",
    "# Impute TAXI_IN using ARRIVAL_TIME and WHEELS_ON\n",
    "flights_cleaned = flights_cleaned.withColumn(\n",
    "    'TAXI_IN',\n",
    "    F.when(F.col('TAXI_IN').isNull() & F.col('ARRIVAL_TIME').isNotNull() & F.col('WHEELS_ON').isNotNull(),\n",
    "           F.col('ARRIVAL_TIME') - F.col('WHEELS_ON')).otherwise(F.col('TAXI_IN'))\n",
    ")\n",
    "\n",
    "# Impute ARRIVAL_DELAY using ARRIVAL_TIME and SCHEDULED_ARRIVAL\n",
    "flights_cleaned = flights_cleaned.withColumn(\n",
    "    'ARRIVAL_DELAY',\n",
    "    F.when(F.col('ARRIVAL_DELAY').isNull() & F.col('ARRIVAL_TIME').isNotNull() & F.col('SCHEDULED_ARRIVAL').isNotNull(),\n",
    "           F.col('ARRIVAL_TIME') - F.col('SCHEDULED_ARRIVAL')).otherwise(F.col('ARRIVAL_DELAY'))\n",
    ")\n",
    "\n",
    "# Recheck missing values after further imputation\n",
    "missing_values_final = flights_cleaned.select([\n",
    "    F.count(F.when(F.col(c).isNull(), 1)).alias(c) for c in flights_cleaned.columns\n",
    "]).collect()[0]\n",
    "\n",
    "print(\"Missing Values Per Column After Final Handling:\")\n",
    "for col, count in missing_values_final.asDict().items():\n",
    "    print(f\"{col}: {count}\")\n"
   ]
  },
  {
   "cell_type": "markdown",
   "id": "d47825a7",
   "metadata": {
    "papermill": {
     "duration": 0.019225,
     "end_time": "2024-12-24T06:11:33.302033",
     "exception": false,
     "start_time": "2024-12-24T06:11:33.282808",
     "status": "completed"
    },
    "tags": []
   },
   "source": [
    "### **Step 6.3: Visualizing Missing Data**\n",
    "   - Understanding the extent and patterns of missing data is crucial.\n",
    "\n",
    "   **Visualization**:\n",
    "   PySpark doesn’t have built-in visualization tools, so exporting data to Pandas for missing data visualization is an option:"
   ]
  },
  {
   "cell_type": "code",
   "execution_count": 14,
   "id": "1bef870d",
   "metadata": {
    "execution": {
     "iopub.execute_input": "2024-12-24T06:11:33.342704Z",
     "iopub.status.busy": "2024-12-24T06:11:33.342289Z",
     "iopub.status.idle": "2024-12-24T06:11:41.310549Z",
     "shell.execute_reply": "2024-12-24T06:11:41.309260Z"
    },
    "papermill": {
     "duration": 7.990821,
     "end_time": "2024-12-24T06:11:41.312935",
     "exception": false,
     "start_time": "2024-12-24T06:11:33.322114",
     "status": "completed"
    },
    "tags": []
   },
   "outputs": [
    {
     "name": "stdout",
     "output_type": "stream",
     "text": [
      "Missing Values Per Column After Handling:\n",
      "YEAR_: 0\n",
      "MONTH_: 0\n",
      "DAY_: 0\n",
      "DAY_OF_WEEK: 0\n",
      "AIRLINE: 0\n",
      "FLIGHT_NUMBER: 0\n",
      "TAIL_NUMBER: 7750\n",
      "ORIGIN_AIRPORT: 0\n",
      "DESTINATION_AIRPORT: 0\n",
      "SCHEDULED_DEPARTURE: 0\n",
      "DEPARTURE_TIME: 39515\n",
      "DEPARTURE_DELAY: 39515\n",
      "TAXI_OUT: 40229\n",
      "WHEELS_OFF: 40229\n",
      "SCHEDULED_TIME: 2\n",
      "ELAPSED_TIME: 43071\n",
      "AIR_TIME: 43071\n",
      "DISTANCE: 0\n",
      "WHEELS_ON: 41296\n",
      "TAXI_IN: 41296\n",
      "SCHEDULED_ARRIVAL: 0\n",
      "ARRIVAL_TIME: 41296\n",
      "ARRIVAL_DELAY: 41296\n",
      "DIVERTED: 0\n",
      "CANCELLED: 0\n"
     ]
    },
    {
     "data": {
      "image/png": "[encoded data removed]",
      "text/plain": [
       "<Figure size 1200x600 with 1 Axes>"
      ]
     },
     "metadata": {},
     "output_type": "display_data"
    }
   ],
   "source": [
    "# Count missing values for each column after handling\n",
    "missing_values_cleaned = flights_cleaned.select([\n",
    "    F.count(F.when(F.col(c).isNull(), 1)).alias(c) for c in flights_cleaned.columns\n",
    "]).collect()[0]\n",
    "\n",
    "# Format and print the results\n",
    "print(\"Missing Values Per Column After Handling:\")\n",
    "for col, count in missing_values_cleaned.asDict().items():\n",
    "    print(f\"{col}: {count}\")\n",
    "\n",
    "# Convert to Pandas for visualization\n",
    "missing_values_df = pd.DataFrame(flights_cleaned.select([\n",
    "    F.count(F.when(F.col(c).isNull(), 1)).alias(c) for c in flights_cleaned.columns\n",
    "]).collect()[0].asDict().items(), columns=['Column', 'MissingCount'])\n",
    "\n",
    "# Plot missing values\n",
    "import seaborn as sns\n",
    "import matplotlib.pyplot as plt\n",
    "\n",
    "plt.figure(figsize=(12, 6))\n",
    "sns.barplot(data=missing_values_df, x='Column', y='MissingCount')\n",
    "plt.title(\"Missing Values Per Column After Handling\")\n",
    "plt.xticks(rotation=90)\n",
    "plt.ylabel(\"Count of Missing Values\")\n",
    "plt.xlabel(\"Columns\")\n",
    "plt.show()"
   ]
  },
  {
   "cell_type": "markdown",
   "id": "6b462a52",
   "metadata": {
    "papermill": {
     "duration": 0.021151,
     "end_time": "2024-12-24T06:11:41.355165",
     "exception": false,
     "start_time": "2024-12-24T06:11:41.334014",
     "status": "completed"
    },
    "tags": []
   },
   "source": [
    "### **6.2 Dropping Columns**\n",
    "Columns that are not needed for analysis can be dropped:"
   ]
  },
  {
   "cell_type": "code",
   "execution_count": 15,
   "id": "74c05b67",
   "metadata": {
    "execution": {
     "iopub.execute_input": "2024-12-24T06:11:41.397706Z",
     "iopub.status.busy": "2024-12-24T06:11:41.397094Z",
     "iopub.status.idle": "2024-12-24T06:11:41.429749Z",
     "shell.execute_reply": "2024-12-24T06:11:41.428541Z"
    },
    "papermill": {
     "duration": 0.056482,
     "end_time": "2024-12-24T06:11:41.432443",
     "exception": false,
     "start_time": "2024-12-24T06:11:41.375961",
     "status": "completed"
    },
    "tags": []
   },
   "outputs": [],
   "source": [
    "flights = flights.drop('AIR_SYSTEM_DELAY', 'SECURITY_DELAY', 'AIRLINE_DELAY', 'LATE_AIRCRAFT_DELAY', 'WEATHER_DELAY')\n",
    "\n",
    "columns_to_drop = [\n",
    "    \"CANCELLATION_REASON\", \n",
    "    \"AIR_SYSTEM_DELAY\", \n",
    "    \"SECURITY_DELAY\", \n",
    "    \"AIRLINE_DELAY\", \n",
    "    \"LATE_AIRCRAFT_DELAY\", \n",
    "    \"WEATHER_DELAY\"\n",
    "]\n",
    "flights = flights.drop(*columns_to_drop)\n"
   ]
  },
  {
   "cell_type": "markdown",
   "id": "1c9b25de",
   "metadata": {
    "papermill": {
     "duration": 0.022316,
     "end_time": "2024-12-24T06:11:41.477007",
     "exception": false,
     "start_time": "2024-12-24T06:11:41.454691",
     "status": "completed"
    },
    "tags": []
   },
   "source": [
    "### **6.3 Replacing Null Values**\n",
    "Replace null values with default values:"
   ]
  },
  {
   "cell_type": "code",
   "execution_count": 16,
   "id": "d19a7980",
   "metadata": {
    "execution": {
     "iopub.execute_input": "2024-12-24T06:11:41.519443Z",
     "iopub.status.busy": "2024-12-24T06:11:41.519070Z",
     "iopub.status.idle": "2024-12-24T06:11:41.550553Z",
     "shell.execute_reply": "2024-12-24T06:11:41.549000Z"
    },
    "papermill": {
     "duration": 0.055925,
     "end_time": "2024-12-24T06:11:41.553393",
     "exception": false,
     "start_time": "2024-12-24T06:11:41.497468",
     "status": "completed"
    },
    "tags": []
   },
   "outputs": [],
   "source": [
    "flights = flights.fillna({\n",
    "    \"DEPARTURE_DELAY\": 0,\n",
    "    \"TAXI_OUT\": 0,\n",
    "    \"ELAPSED_TIME\": 0,\n",
    "    \"AIR_TIME\": 0,\n",
    "    \"DISTANCE\": 0\n",
    "})"
   ]
  },
  {
   "cell_type": "markdown",
   "id": "2deeff0f",
   "metadata": {
    "papermill": {
     "duration": 0.035453,
     "end_time": "2024-12-24T06:11:41.628846",
     "exception": false,
     "start_time": "2024-12-24T06:11:41.593393",
     "status": "completed"
    },
    "tags": []
   },
   "source": [
    "## **Step 7: Data Transformation**\n",
    "\n",
    "### **7.1 Adding New Columns**\n",
    "Create a new column for flight duration in hours:"
   ]
  },
  {
   "cell_type": "code",
   "execution_count": 17,
   "id": "4efc6e0b",
   "metadata": {
    "execution": {
     "iopub.execute_input": "2024-12-24T06:11:41.671015Z",
     "iopub.status.busy": "2024-12-24T06:11:41.670582Z",
     "iopub.status.idle": "2024-12-24T06:11:41.880218Z",
     "shell.execute_reply": "2024-12-24T06:11:41.878797Z"
    },
    "papermill": {
     "duration": 0.233308,
     "end_time": "2024-12-24T06:11:41.882495",
     "exception": false,
     "start_time": "2024-12-24T06:11:41.649187",
     "status": "completed"
    },
    "tags": []
   },
   "outputs": [
    {
     "name": "stdout",
     "output_type": "stream",
     "text": [
      "+--------+-----------------+\n",
      "|AIR_TIME|     duration_hrs|\n",
      "+--------+-----------------+\n",
      "|     169|2.816666666666667|\n",
      "|     263|4.383333333333334|\n",
      "|     266|4.433333333333334|\n",
      "|     258|              4.3|\n",
      "|     199|3.316666666666667|\n",
      "+--------+-----------------+\n",
      "only showing top 5 rows\n",
      "\n"
     ]
    }
   ],
   "source": [
    "flights = flights.withColumn(\"duration_hrs\", F.col(\"AIR_TIME\") / 60)\n",
    "flights.select(\"AIR_TIME\", \"duration_hrs\").show(5)"
   ]
  },
  {
   "cell_type": "markdown",
   "id": "13ab0224",
   "metadata": {
    "papermill": {
     "duration": 0.02328,
     "end_time": "2024-12-24T06:11:41.944293",
     "exception": false,
     "start_time": "2024-12-24T06:11:41.921013",
     "status": "completed"
    },
    "tags": []
   },
   "source": [
    "### **7.2 Filtering Rows**\n",
    "Filter flights with delays greater than 30 minutes:"
   ]
  },
  {
   "cell_type": "code",
   "execution_count": 18,
   "id": "b6b31e3a",
   "metadata": {
    "execution": {
     "iopub.execute_input": "2024-12-24T06:11:41.987756Z",
     "iopub.status.busy": "2024-12-24T06:11:41.987295Z",
     "iopub.status.idle": "2024-12-24T06:11:46.855081Z",
     "shell.execute_reply": "2024-12-24T06:11:46.852175Z"
    },
    "papermill": {
     "duration": 4.895325,
     "end_time": "2024-12-24T06:11:46.860816",
     "exception": false,
     "start_time": "2024-12-24T06:11:41.965491",
     "status": "completed"
    },
    "tags": []
   },
   "outputs": [
    {
     "name": "stdout",
     "output_type": "stream",
     "text": [
      "+-----+------+----+-----------+-------+-------------+-----------+--------------+-------------------+-------------------+--------------+---------------+--------+----------+--------------+------------+--------+--------+---------+-------+-----------------+------------+-------------+--------+---------+-------------------+\n",
      "|YEAR_|MONTH_|DAY_|DAY_OF_WEEK|AIRLINE|FLIGHT_NUMBER|TAIL_NUMBER|ORIGIN_AIRPORT|DESTINATION_AIRPORT|SCHEDULED_DEPARTURE|DEPARTURE_TIME|DEPARTURE_DELAY|TAXI_OUT|WHEELS_OFF|SCHEDULED_TIME|ELAPSED_TIME|AIR_TIME|DISTANCE|WHEELS_ON|TAXI_IN|SCHEDULED_ARRIVAL|ARRIVAL_TIME|ARRIVAL_DELAY|DIVERTED|CANCELLED|       duration_hrs|\n",
      "+-----+------+----+-----------+-------+-------------+-----------+--------------+-------------------+-------------------+--------------+---------------+--------+----------+--------------+------------+--------+--------+---------+-------+-----------------+------------+-------------+--------+---------+-------------------+\n",
      "| 2015|     1|  22|          4|     MQ|         3328|     N902MQ|           ACT|                DFW|                604|           553|            407|       9|      1300|            46|          42|      26|      89|     1326|      7|              650|        1333|          403|       0|        0|0.43333333333333335|\n",
      "| 2015|     2|   6|          5|     MQ|         3328|     N830MQ|           ACT|                DFW|                604|           553|            357|       4|      1205|            46|          49|      28|      89|     1233|     17|              650|        1250|          360|       0|        0| 0.4666666666666667|\n",
      "| 2015|     2|  24|          2|     MQ|         3328|     N843MQ|           ACT|                DFW|                604|           553|            246|      22|      1032|            46|          67|      26|      89|     1058|     19|              650|        1117|          267|       0|        0|0.43333333333333335|\n",
      "| 2015|     2|  27|          5|     MQ|         3328|     N806MQ|           ACT|                DFW|                604|           553|            188|       8|       920|            46|          42|      27|      89|      947|      7|              650|         954|          184|       0|        0|               0.45|\n",
      "| 2015|     1|   4|          7|     MQ|         2799|     N652MQ|           ACT|                DFW|               1020|          1033|             68|      11|      1139|            45|          47|      25|      89|     1204|     11|             1105|        1215|           70|       0|        0| 0.4166666666666667|\n",
      "+-----+------+----+-----------+-------+-------------+-----------+--------------+-------------------+-------------------+--------------+---------------+--------+----------+--------------+------------+--------+--------+---------+-------+-----------------+------------+-------------+--------+---------+-------------------+\n",
      "only showing top 5 rows\n",
      "\n"
     ]
    }
   ],
   "source": [
    "delayed_flights = flights.filter(F.col(\"DEPARTURE_DELAY\") > 30)\n",
    "delayed_flights.show(5)"
   ]
  },
  {
   "cell_type": "markdown",
   "id": "b23712bd",
   "metadata": {
    "papermill": {
     "duration": 0.038617,
     "end_time": "2024-12-24T06:11:46.936066",
     "exception": false,
     "start_time": "2024-12-24T06:11:46.897449",
     "status": "completed"
    },
    "tags": []
   },
   "source": [
    "### **7.3 Grouping and Aggregations**\n",
    "Find the average delay for each airline:"
   ]
  },
  {
   "cell_type": "code",
   "execution_count": 19,
   "id": "0d81a808",
   "metadata": {
    "execution": {
     "iopub.execute_input": "2024-12-24T06:11:47.012637Z",
     "iopub.status.busy": "2024-12-24T06:11:47.012142Z",
     "iopub.status.idle": "2024-12-24T06:11:48.994309Z",
     "shell.execute_reply": "2024-12-24T06:11:48.989743Z"
    },
    "papermill": {
     "duration": 2.021071,
     "end_time": "2024-12-24T06:11:48.996839",
     "exception": false,
     "start_time": "2024-12-24T06:11:46.975768",
     "status": "completed"
    },
    "tags": []
   },
   "outputs": [
    {
     "name": "stdout",
     "output_type": "stream",
     "text": [
      "+-------+------------------+\n",
      "|AIRLINE|         avg_delay|\n",
      "+-------+------------------+\n",
      "|     UA|15.004406090907015|\n",
      "|     NK| 15.96033040995309|\n",
      "|     AA| 11.31399604301428|\n",
      "|     EV|11.305963706994227|\n",
      "|     B6|15.646344249018835|\n",
      "|     DL|  9.69044519479815|\n",
      "|     OO|11.255128432571732|\n",
      "|     F9| 22.99734133206081|\n",
      "|     US| 7.707486949230478|\n",
      "|     MQ| 17.33153725214843|\n",
      "|     HA| 1.568103021297672|\n",
      "|     AS|2.9537380968460862|\n",
      "|     VX|10.315870421993656|\n",
      "|     WN|10.090957912503498|\n",
      "+-------+------------------+\n",
      "\n"
     ]
    }
   ],
   "source": [
    "avg_delay = flights.groupBy(\"AIRLINE\").agg(F.avg(\"DEPARTURE_DELAY\").alias(\"avg_delay\"))\n",
    "avg_delay.show()"
   ]
  },
  {
   "cell_type": "markdown",
   "id": "c27f8dfe",
   "metadata": {
    "papermill": {
     "duration": 0.023073,
     "end_time": "2024-12-24T06:11:49.058128",
     "exception": false,
     "start_time": "2024-12-24T06:11:49.035055",
     "status": "completed"
    },
    "tags": []
   },
   "source": [
    "## **Step 8: SQL Queries**\n",
    "\n",
    "PySpark supports SQL queries using temporary views. \n",
    "\n",
    "### **8.1 Creating a Temporary View**"
   ]
  },
  {
   "cell_type": "code",
   "execution_count": 20,
   "id": "890f77e2",
   "metadata": {
    "execution": {
     "iopub.execute_input": "2024-12-24T06:11:49.102100Z",
     "iopub.status.busy": "2024-12-24T06:11:49.101413Z",
     "iopub.status.idle": "2024-12-24T06:11:49.161697Z",
     "shell.execute_reply": "2024-12-24T06:11:49.160255Z"
    },
    "papermill": {
     "duration": 0.085367,
     "end_time": "2024-12-24T06:11:49.164382",
     "exception": false,
     "start_time": "2024-12-24T06:11:49.079015",
     "status": "completed"
    },
    "tags": []
   },
   "outputs": [],
   "source": [
    "flights.createOrReplaceTempView(\"flights_view\")"
   ]
  },
  {
   "cell_type": "markdown",
   "id": "33e8fb1d",
   "metadata": {
    "papermill": {
     "duration": 0.037219,
     "end_time": "2024-12-24T06:11:49.239941",
     "exception": false,
     "start_time": "2024-12-24T06:11:49.202722",
     "status": "completed"
    },
    "tags": []
   },
   "source": [
    "### **8.2 Running SQL Queries**"
   ]
  },
  {
   "cell_type": "code",
   "execution_count": 21,
   "id": "0cb629ea",
   "metadata": {
    "execution": {
     "iopub.execute_input": "2024-12-24T06:11:49.315998Z",
     "iopub.status.busy": "2024-12-24T06:11:49.315492Z",
     "iopub.status.idle": "2024-12-24T06:11:51.725836Z",
     "shell.execute_reply": "2024-12-24T06:11:51.722528Z"
    },
    "papermill": {
     "duration": 2.45169,
     "end_time": "2024-12-24T06:11:51.728335",
     "exception": false,
     "start_time": "2024-12-24T06:11:49.276645",
     "status": "completed"
    },
    "tags": []
   },
   "outputs": [
    {
     "name": "stdout",
     "output_type": "stream",
     "text": [
      "+-------+------------------+\n",
      "|AIRLINE|         avg_delay|\n",
      "+-------+------------------+\n",
      "|     F9| 22.99734133206081|\n",
      "|     MQ| 17.33153725214843|\n",
      "|     NK| 15.96033040995309|\n",
      "|     B6|15.646344249018835|\n",
      "|     UA|15.004406090907015|\n",
      "|     AA| 11.31399604301428|\n",
      "|     EV|11.305963706994227|\n",
      "|     OO|11.255128432571732|\n",
      "|     VX|10.315870421993656|\n",
      "|     WN|10.090957912503498|\n",
      "|     DL|  9.69044519479815|\n",
      "|     US| 7.707486949230478|\n",
      "|     AS|2.9537380968460862|\n",
      "|     HA| 1.568103021297672|\n",
      "+-------+------------------+\n",
      "\n"
     ]
    }
   ],
   "source": [
    "sql_result = spark.sql(\"\"\"\n",
    "    SELECT AIRLINE, AVG(DEPARTURE_DELAY) as avg_delay\n",
    "    FROM flights_view\n",
    "    GROUP BY AIRLINE\n",
    "    ORDER BY avg_delay DESC\n",
    "\"\"\")\n",
    "sql_result.show()"
   ]
  },
  {
   "cell_type": "markdown",
   "id": "8124fcb3",
   "metadata": {
    "papermill": {
     "duration": 0.022564,
     "end_time": "2024-12-24T06:11:51.776195",
     "exception": false,
     "start_time": "2024-12-24T06:11:51.753631",
     "status": "completed"
    },
    "tags": []
   },
   "source": [
    "## **Step 9: Joining DataFrames**\n",
    "\n",
    "### **Joining Flights with Airlines**"
   ]
  },
  {
   "cell_type": "code",
   "execution_count": 22,
   "id": "07f9106e",
   "metadata": {
    "execution": {
     "iopub.execute_input": "2024-12-24T06:11:51.821827Z",
     "iopub.status.busy": "2024-12-24T06:11:51.821300Z",
     "iopub.status.idle": "2024-12-24T06:11:56.930995Z",
     "shell.execute_reply": "2024-12-24T06:11:56.928755Z"
    },
    "papermill": {
     "duration": 5.138197,
     "end_time": "2024-12-24T06:11:56.935581",
     "exception": false,
     "start_time": "2024-12-24T06:11:51.797384",
     "status": "completed"
    },
    "tags": []
   },
   "outputs": [
    {
     "name": "stdout",
     "output_type": "stream",
     "text": [
      "+-----+------+----+-----------+-------+-------------+-----------+--------------+-------------------+-------------------+--------------+---------------+--------+----------+--------------+------------+--------+--------+---------+-------+-----------------+------------+-------------+--------+---------+-------------------+---------+--------------------+\n",
      "|YEAR_|MONTH_|DAY_|DAY_OF_WEEK|AIRLINE|FLIGHT_NUMBER|TAIL_NUMBER|ORIGIN_AIRPORT|DESTINATION_AIRPORT|SCHEDULED_DEPARTURE|DEPARTURE_TIME|DEPARTURE_DELAY|TAXI_OUT|WHEELS_OFF|SCHEDULED_TIME|ELAPSED_TIME|AIR_TIME|DISTANCE|WHEELS_ON|TAXI_IN|SCHEDULED_ARRIVAL|ARRIVAL_TIME|ARRIVAL_DELAY|DIVERTED|CANCELLED|       duration_hrs|IATA_CODE|             AIRLINE|\n",
      "+-----+------+----+-----------+-------+-------------+-----------+--------------+-------------------+-------------------+--------------+---------------+--------+----------+--------------+------------+--------+--------+---------+-------+-----------------+------------+-------------+--------+---------+-------------------+---------+--------------------+\n",
      "| 2015|     1|   6|          2|     MQ|         3328|     N821MQ|           ACT|                DFW|                604|           553|             11|       0|      NULL|            46|           0|       0|      89|     NULL|   NULL|              650|        NULL|           57|       0|        1|                0.0|       MQ|American Eagle Ai...|\n",
      "| 2015|     1|   7|          3|     MQ|         3328|     N845MQ|           ACT|                DFW|                604|           553|             -3|       9|       610|            46|          36|      23|      89|      633|      4|              650|         637|          -13|       0|        0|0.38333333333333336|       MQ|American Eagle Ai...|\n",
      "| 2015|     1|   8|          4|     MQ|         3328|     N817MQ|           ACT|                DFW|                604|           553|            -10|      12|       606|            46|          41|      22|      89|      628|      7|              650|         635|          -15|       0|        0|0.36666666666666664|       MQ|American Eagle Ai...|\n",
      "| 2015|     1|   9|          5|     MQ|         3328|     N831MQ|           ACT|                DFW|                604|           553|             -4|       7|       607|            46|          40|      26|      89|      633|      7|              650|         640|          -10|       0|        0|0.43333333333333335|       MQ|American Eagle Ai...|\n",
      "| 2015|     1|  10|          6|     MQ|         3328|     N689MQ|           ACT|                DFW|                604|           553|             -7|      14|       611|            46|          49|      30|      89|      641|      5|              650|         646|           -4|       0|        0|                0.5|       MQ|American Eagle Ai...|\n",
      "+-----+------+----+-----------+-------+-------------+-----------+--------------+-------------------+-------------------+--------------+---------------+--------+----------+--------------+------------+--------+--------+---------+-------+-----------------+------------+-------------+--------+---------+-------------------+---------+--------------------+\n",
      "only showing top 5 rows\n",
      "\n"
     ]
    }
   ],
   "source": [
    "flights_with_airlines = flights.join(airlines, flights.AIRLINE == airlines.IATA_CODE, \"inner\")\n",
    "flights_with_airlines.show(5)"
   ]
  },
  {
   "cell_type": "markdown",
   "id": "993da3ae",
   "metadata": {
    "papermill": {
     "duration": 0.02111,
     "end_time": "2024-12-24T06:11:56.978144",
     "exception": false,
     "start_time": "2024-12-24T06:11:56.957034",
     "status": "completed"
    },
    "tags": []
   },
   "source": [
    "## **Step 10: Saving the Data**\n",
    "\n",
    "Save the DataFrame in Parquet format for optimized storage and querying:"
   ]
  },
  {
   "cell_type": "code",
   "execution_count": 23,
   "id": "68d722cf",
   "metadata": {
    "execution": {
     "iopub.execute_input": "2024-12-24T06:11:57.025264Z",
     "iopub.status.busy": "2024-12-24T06:11:57.024882Z",
     "iopub.status.idle": "2024-12-24T06:12:08.809478Z",
     "shell.execute_reply": "2024-12-24T06:12:08.808220Z"
    },
    "papermill": {
     "duration": 11.812574,
     "end_time": "2024-12-24T06:12:08.814090",
     "exception": false,
     "start_time": "2024-12-24T06:11:57.001516",
     "status": "completed"
    },
    "tags": []
   },
   "outputs": [],
   "source": [
    "flights.write.parquet(\"flights.parquet\", mode=\"overwrite\")"
   ]
  },
  {
   "cell_type": "markdown",
   "id": "f9edeab1",
   "metadata": {
    "papermill": {
     "duration": 0.020395,
     "end_time": "2024-12-24T06:12:08.857896",
     "exception": false,
     "start_time": "2024-12-24T06:12:08.837501",
     "status": "completed"
    },
    "tags": []
   },
   "source": [
    "## **Step 11: Advanced PySpark**\n",
    "\n",
    "### **11.1 Caching**\n",
    "Cache data for faster repeated operations:"
   ]
  },
  {
   "cell_type": "code",
   "execution_count": 24,
   "id": "d3d10f6e",
   "metadata": {
    "execution": {
     "iopub.execute_input": "2024-12-24T06:12:08.904123Z",
     "iopub.status.busy": "2024-12-24T06:12:08.903690Z",
     "iopub.status.idle": "2024-12-24T06:12:08.993926Z",
     "shell.execute_reply": "2024-12-24T06:12:08.992093Z"
    },
    "papermill": {
     "duration": 0.116042,
     "end_time": "2024-12-24T06:12:08.996352",
     "exception": false,
     "start_time": "2024-12-24T06:12:08.880310",
     "status": "completed"
    },
    "tags": []
   },
   "outputs": [
    {
     "name": "stdout",
     "output_type": "stream",
     "text": [
      "True\n"
     ]
    }
   ],
   "source": [
    "## **Step 11: Advanced PySpark**\n",
    "\n",
    "flights.cache()\n",
    "print(flights.is_cached)  # True if cached"
   ]
  },
  {
   "cell_type": "markdown",
   "id": "24f81e56",
   "metadata": {
    "papermill": {
     "duration": 0.020709,
     "end_time": "2024-12-24T06:12:09.042259",
     "exception": false,
     "start_time": "2024-12-24T06:12:09.021550",
     "status": "completed"
    },
    "tags": []
   },
   "source": [
    "### **11.2 Partitioning**\n",
    "Partition the data for better performance in distributed systems:"
   ]
  },
  {
   "cell_type": "code",
   "execution_count": 25,
   "id": "647649f6",
   "metadata": {
    "execution": {
     "iopub.execute_input": "2024-12-24T06:12:09.086910Z",
     "iopub.status.busy": "2024-12-24T06:12:09.086517Z",
     "iopub.status.idle": "2024-12-24T06:12:09.097678Z",
     "shell.execute_reply": "2024-12-24T06:12:09.096292Z"
    },
    "papermill": {
     "duration": 0.036568,
     "end_time": "2024-12-24T06:12:09.100214",
     "exception": false,
     "start_time": "2024-12-24T06:12:09.063646",
     "status": "completed"
    },
    "tags": []
   },
   "outputs": [],
   "source": [
    "flights = flights.repartition(5)  # 5 partitions"
   ]
  },
  {
   "cell_type": "markdown",
   "id": "f23ab630",
   "metadata": {
    "papermill": {
     "duration": 0.021241,
     "end_time": "2024-12-24T06:12:09.149432",
     "exception": false,
     "start_time": "2024-12-24T06:12:09.128191",
     "status": "completed"
    },
    "tags": []
   },
   "source": [
    "### **11.3 Writing Custom Functions**\n",
    "Apply a custom Python function using `.withColumn`:"
   ]
  },
  {
   "cell_type": "code",
   "execution_count": 26,
   "id": "df1afff4",
   "metadata": {
    "execution": {
     "iopub.execute_input": "2024-12-24T06:12:09.193613Z",
     "iopub.status.busy": "2024-12-24T06:12:09.193243Z",
     "iopub.status.idle": "2024-12-24T06:12:27.091841Z",
     "shell.execute_reply": "2024-12-24T06:12:27.090570Z"
    },
    "papermill": {
     "duration": 17.928356,
     "end_time": "2024-12-24T06:12:27.098886",
     "exception": false,
     "start_time": "2024-12-24T06:12:09.170530",
     "status": "completed"
    },
    "tags": []
   },
   "outputs": [
    {
     "name": "stdout",
     "output_type": "stream",
     "text": [
      "+---------------+-----------+\n",
      "|DEPARTURE_DELAY|Delay_Label|\n",
      "+---------------+-----------+\n",
      "|            108| High Delay|\n",
      "|             87| High Delay|\n",
      "|            -11|  Low Delay|\n",
      "|             -5|  Low Delay|\n",
      "|              0|  Low Delay|\n",
      "+---------------+-----------+\n",
      "only showing top 5 rows\n",
      "\n"
     ]
    }
   ],
   "source": [
    "from pyspark.sql.types import StringType\n",
    "\n",
    "def label_delay(delay):\n",
    "    return \"High Delay\" if delay > 60 else \"Low Delay\"\n",
    "\n",
    "# Register the function\n",
    "label_delay_udf = F.udf(label_delay, StringType())\n",
    "\n",
    "# Apply to DataFrame\n",
    "flights = flights.withColumn(\"Delay_Label\", label_delay_udf(\"DEPARTURE_DELAY\"))\n",
    "flights.select(\"DEPARTURE_DELAY\", \"Delay_Label\").show(5)"
   ]
  },
  {
   "cell_type": "markdown",
   "id": "5a219343",
   "metadata": {
    "papermill": {
     "duration": 0.03226,
     "end_time": "2024-12-24T06:12:27.171789",
     "exception": false,
     "start_time": "2024-12-24T06:12:27.139529",
     "status": "completed"
    },
    "tags": []
   },
   "source": [
    "## **Step 12: Visualization**\n",
    "\n",
    "To visualize the results, convert to Pandas:"
   ]
  },
  {
   "cell_type": "code",
   "execution_count": 27,
   "id": "c2c8e221",
   "metadata": {
    "execution": {
     "iopub.execute_input": "2024-12-24T06:12:27.281310Z",
     "iopub.status.busy": "2024-12-24T06:12:27.280967Z",
     "iopub.status.idle": "2024-12-24T06:12:30.321933Z",
     "shell.execute_reply": "2024-12-24T06:12:30.319861Z"
    },
    "papermill": {
     "duration": 3.132506,
     "end_time": "2024-12-24T06:12:30.325275",
     "exception": false,
     "start_time": "2024-12-24T06:12:27.192769",
     "status": "completed"
    },
    "tags": []
   },
   "outputs": [
    {
     "data": {
      "image/png": "[encoded data removed]",
      "text/plain": [
       "<Figure size 1000x600 with 1 Axes>"
      ]
     },
     "metadata": {},
     "output_type": "display_data"
    }
   ],
   "source": [
    "import matplotlib.pyplot as plt\n",
    "\n",
    "# Example: Plot average delays per airline\n",
    "avg_delay_pd = avg_delay.toPandas()\n",
    "avg_delay_pd.plot(kind='bar', x='AIRLINE', y='avg_delay', legend=False, figsize=(10, 6))\n",
    "plt.title(\"Average Delay by Airline\")\n",
    "plt.ylabel(\"Average Delay (minutes)\")\n",
    "plt.show()"
   ]
  },
  {
   "cell_type": "markdown",
   "id": "37af6f6f",
   "metadata": {
    "papermill": {
     "duration": 0.020981,
     "end_time": "2024-12-24T06:12:30.369152",
     "exception": false,
     "start_time": "2024-12-24T06:12:30.348171",
     "status": "completed"
    },
    "tags": []
   },
   "source": [
    "---\n",
    "### **Advanced Topics in PySpark: Machine Learning and Optimization**\n",
    "\n",
    "This section explores how to apply **machine learning (ML)** and **optimization techniques** using PySpark. We'll use the **Flight Delay dataset** to predict delays and optimize data processing workflows.\n"
   ]
  },
  {
   "cell_type": "markdown",
   "id": "d8f7bc9d",
   "metadata": {
    "papermill": {
     "duration": 0.02379,
     "end_time": "2024-12-24T06:12:30.414940",
     "exception": false,
     "start_time": "2024-12-24T06:12:30.391150",
     "status": "completed"
    },
    "tags": []
   },
   "source": [
    "## **Step 13: Introduction to PySpark MLlib**\n",
    "\n",
    "PySpark’s `MLlib` provides tools for machine learning, including:\n",
    "- Data preparation\n",
    "- Feature transformation\n",
    "- Model training and evaluation\n",
    "\n",
    "### **MLlib Key Concepts**\n",
    "1. **DataFrame-Based API**: Works seamlessly with PySpark DataFrames.\n",
    "2. **Pipeline Architecture**: Simplifies building workflows by chaining steps.\n",
    "3. **Scalability**: Optimized for big data."
   ]
  },
  {
   "cell_type": "markdown",
   "id": "cf4b5498",
   "metadata": {
    "papermill": {
     "duration": 0.021908,
     "end_time": "2024-12-24T06:12:30.459820",
     "exception": false,
     "start_time": "2024-12-24T06:12:30.437912",
     "status": "completed"
    },
    "tags": []
   },
   "source": [
    "## **Step 14: Feature Engineering**\n",
    "\n",
    "Machine learning requires numerical features. Here’s how to prepare the data:\n",
    "\n",
    "### **14.1 Label Encoding**\n",
    "Convert categorical columns (e.g., `AIRLINE`) to numeric values:"
   ]
  },
  {
   "cell_type": "code",
   "execution_count": 28,
   "id": "83e1fa8b",
   "metadata": {
    "execution": {
     "iopub.execute_input": "2024-12-24T06:12:30.521963Z",
     "iopub.status.busy": "2024-12-24T06:12:30.521412Z",
     "iopub.status.idle": "2024-12-24T06:12:35.676311Z",
     "shell.execute_reply": "2024-12-24T06:12:35.672718Z"
    },
    "papermill": {
     "duration": 5.195973,
     "end_time": "2024-12-24T06:12:35.679398",
     "exception": false,
     "start_time": "2024-12-24T06:12:30.483425",
     "status": "completed"
    },
    "tags": []
   },
   "outputs": [
    {
     "name": "stdout",
     "output_type": "stream",
     "text": [
      "+-------+---------------+\n",
      "|AIRLINE|AIRLINE_Indexed|\n",
      "+-------+---------------+\n",
      "|     EV|            2.0|\n",
      "|     EV|            2.0|\n",
      "|     EV|            2.0|\n",
      "|     EV|            2.0|\n",
      "|     EV|            2.0|\n",
      "+-------+---------------+\n",
      "only showing top 5 rows\n",
      "\n"
     ]
    }
   ],
   "source": [
    "from pyspark.ml.feature import StringIndexer\n",
    "\n",
    "indexer = StringIndexer(inputCol=\"AIRLINE\", outputCol=\"AIRLINE_Indexed\")\n",
    "flights = indexer.fit(flights).transform(flights)\n",
    "flights.select(\"AIRLINE\", \"AIRLINE_Indexed\").show(5)"
   ]
  },
  {
   "cell_type": "markdown",
   "id": "ab6a8d50",
   "metadata": {
    "papermill": {
     "duration": 0.021927,
     "end_time": "2024-12-24T06:12:35.731979",
     "exception": false,
     "start_time": "2024-12-24T06:12:35.710052",
     "status": "completed"
    },
    "tags": []
   },
   "source": [
    "### **14.2 Vector Assembler**\n",
    "Combine multiple columns into a single feature vector:"
   ]
  },
  {
   "cell_type": "code",
   "execution_count": 29,
   "id": "1f73d35b",
   "metadata": {
    "execution": {
     "iopub.execute_input": "2024-12-24T06:12:35.777854Z",
     "iopub.status.busy": "2024-12-24T06:12:35.777394Z",
     "iopub.status.idle": "2024-12-24T06:12:38.158356Z",
     "shell.execute_reply": "2024-12-24T06:12:38.156938Z"
    },
    "papermill": {
     "duration": 2.407448,
     "end_time": "2024-12-24T06:12:38.161151",
     "exception": false,
     "start_time": "2024-12-24T06:12:35.753703",
     "status": "completed"
    },
    "tags": []
   },
   "outputs": [
    {
     "name": "stdout",
     "output_type": "stream",
     "text": [
      "+------+----+---------------+--------+---------------+\n",
      "|MONTH_|DAY_|AIRLINE_Indexed|DISTANCE|DEPARTURE_DELAY|\n",
      "+------+----+---------------+--------+---------------+\n",
      "|  NULL|NULL|           NULL|    NULL|           NULL|\n",
      "+------+----+---------------+--------+---------------+\n",
      "\n"
     ]
    }
   ],
   "source": [
    "flights.select([F.sum(F.when(F.col(c).isNull(), 1)).alias(c) for c in [\"MONTH_\", \"DAY_\", \"AIRLINE_Indexed\", \"DISTANCE\", \"DEPARTURE_DELAY\"]]).show()\n"
   ]
  },
  {
   "cell_type": "code",
   "execution_count": 30,
   "id": "3c2dbe7b",
   "metadata": {
    "execution": {
     "iopub.execute_input": "2024-12-24T06:12:38.212170Z",
     "iopub.status.busy": "2024-12-24T06:12:38.211800Z",
     "iopub.status.idle": "2024-12-24T06:12:38.246849Z",
     "shell.execute_reply": "2024-12-24T06:12:38.245081Z"
    },
    "papermill": {
     "duration": 0.064578,
     "end_time": "2024-12-24T06:12:38.249017",
     "exception": false,
     "start_time": "2024-12-24T06:12:38.184439",
     "status": "completed"
    },
    "tags": []
   },
   "outputs": [],
   "source": [
    "flights = flights.fillna({\n",
    "    \"MONTH_\": 1,               # Default to January\n",
    "    \"DAY_\": 1,                 # Default to the 1st day of the month\n",
    "    \"AIRLINE_Indexed\": 0.0,    # Default to an index value\n",
    "    \"DISTANCE\": 0,             # Default distance\n",
    "    \"DEPARTURE_DELAY\": 0       # Default delay\n",
    "})"
   ]
  },
  {
   "cell_type": "code",
   "execution_count": 31,
   "id": "890f7b0e",
   "metadata": {
    "execution": {
     "iopub.execute_input": "2024-12-24T06:12:38.296438Z",
     "iopub.status.busy": "2024-12-24T06:12:38.296053Z",
     "iopub.status.idle": "2024-12-24T06:12:40.858807Z",
     "shell.execute_reply": "2024-12-24T06:12:40.857197Z"
    },
    "papermill": {
     "duration": 2.589076,
     "end_time": "2024-12-24T06:12:40.860497",
     "exception": false,
     "start_time": "2024-12-24T06:12:38.271421",
     "status": "completed"
    },
    "tags": []
   },
   "outputs": [
    {
     "name": "stdout",
     "output_type": "stream",
     "text": [
      "+-------------------------+-------------+\n",
      "|features                 |ARRIVAL_DELAY|\n",
      "+-------------------------+-------------+\n",
      "|[2.0,16.0,2.0,378.0,49.0]|34           |\n",
      "|[2.0,12.0,2.0,378.0,-2.0]|33           |\n",
      "|[2.0,12.0,2.0,378.0,-5.0]|17           |\n",
      "|[2.0,26.0,2.0,378.0,-5.0]|-24          |\n",
      "|[2.0,19.0,2.0,378.0,8.0] |7            |\n",
      "+-------------------------+-------------+\n",
      "only showing top 5 rows\n",
      "\n"
     ]
    }
   ],
   "source": [
    "from pyspark.ml.feature import VectorAssembler\n",
    "\n",
    "assembler = VectorAssembler(\n",
    "    inputCols=[\"MONTH_\", \"DAY_\", \"AIRLINE_Indexed\", \"DISTANCE\", \"DEPARTURE_DELAY\"],\n",
    "    outputCol=\"features\"\n",
    ")\n",
    "flights = assembler.transform(flights)\n",
    "flights.select(\"features\", \"ARRIVAL_DELAY\").show(5, truncate=False)"
   ]
  },
  {
   "cell_type": "markdown",
   "id": "042146c5",
   "metadata": {
    "papermill": {
     "duration": 0.022409,
     "end_time": "2024-12-24T06:12:40.904797",
     "exception": false,
     "start_time": "2024-12-24T06:12:40.882388",
     "status": "completed"
    },
    "tags": []
   },
   "source": [
    "## **Step 15: Splitting the Data**\n",
    "\n",
    "Split the dataset into training and testing sets:"
   ]
  },
  {
   "cell_type": "code",
   "execution_count": 32,
   "id": "78e046fe",
   "metadata": {
    "execution": {
     "iopub.execute_input": "2024-12-24T06:12:40.950541Z",
     "iopub.status.busy": "2024-12-24T06:12:40.950200Z",
     "iopub.status.idle": "2024-12-24T06:12:43.425356Z",
     "shell.execute_reply": "2024-12-24T06:12:43.424320Z"
    },
    "papermill": {
     "duration": 2.500655,
     "end_time": "2024-12-24T06:12:43.427608",
     "exception": false,
     "start_time": "2024-12-24T06:12:40.926953",
     "status": "completed"
    },
    "tags": []
   },
   "outputs": [],
   "source": [
    "flights.filter(F.col(\"ARRIVAL_DELAY\").isNull()).count()  # Count nulls\n",
    "flights.filter(F.isnan(\"ARRIVAL_DELAY\")).count()        # Count NaN values\n",
    "flights = flights.fillna({\"ARRIVAL_DELAY\": 0})"
   ]
  },
  {
   "cell_type": "code",
   "execution_count": 33,
   "id": "79b07c50",
   "metadata": {
    "execution": {
     "iopub.execute_input": "2024-12-24T06:12:43.473588Z",
     "iopub.status.busy": "2024-12-24T06:12:43.473198Z",
     "iopub.status.idle": "2024-12-24T06:13:04.863222Z",
     "shell.execute_reply": "2024-12-24T06:13:04.861900Z"
    },
    "papermill": {
     "duration": 21.41558,
     "end_time": "2024-12-24T06:13:04.865930",
     "exception": false,
     "start_time": "2024-12-24T06:12:43.450350",
     "status": "completed"
    },
    "tags": []
   },
   "outputs": [
    {
     "name": "stdout",
     "output_type": "stream",
     "text": [
      "Training Data Count: 838546\n",
      "Test Data Count: 210029\n"
     ]
    }
   ],
   "source": [
    "train_data, test_data = flights.randomSplit([0.8, 0.2], seed=42)\n",
    "print(f\"Training Data Count: {train_data.count()}\")\n",
    "print(f\"Test Data Count: {test_data.count()}\")"
   ]
  },
  {
   "cell_type": "markdown",
   "id": "825495f3",
   "metadata": {
    "papermill": {
     "duration": 0.023416,
     "end_time": "2024-12-24T06:13:04.911694",
     "exception": false,
     "start_time": "2024-12-24T06:13:04.888278",
     "status": "completed"
    },
    "tags": []
   },
   "source": [
    "## **Step 16: Building a Machine Learning Model**\n",
    "\n",
    "### **16.1 Linear Regression**\n",
    "Train a regression model to predict `ARRIVAL_DELAY`:"
   ]
  },
  {
   "cell_type": "code",
   "execution_count": 34,
   "id": "e2207514",
   "metadata": {
    "execution": {
     "iopub.execute_input": "2024-12-24T06:13:04.970349Z",
     "iopub.status.busy": "2024-12-24T06:13:04.969906Z",
     "iopub.status.idle": "2024-12-24T06:13:28.804268Z",
     "shell.execute_reply": "2024-12-24T06:13:28.802343Z"
    },
    "papermill": {
     "duration": 23.872998,
     "end_time": "2024-12-24T06:13:28.806536",
     "exception": false,
     "start_time": "2024-12-24T06:13:04.933538",
     "status": "completed"
    },
    "tags": []
   },
   "outputs": [
    {
     "name": "stdout",
     "output_type": "stream",
     "text": [
      "Coefficients: [2.47120258963848,0.0015124431360829973,0.8166959731972462,-0.0006612515087532476,1.024591248547874]\n",
      "Intercept: -4.86385642606268\n"
     ]
    }
   ],
   "source": [
    "from pyspark.ml.regression import LinearRegression\n",
    "\n",
    "lr = LinearRegression(featuresCol=\"features\", labelCol=\"ARRIVAL_DELAY\")\n",
    "lr_model = lr.fit(train_data)\n",
    "\n",
    "print(f\"Coefficients: {lr_model.coefficients}\")\n",
    "print(f\"Intercept: {lr_model.intercept}\")"
   ]
  },
  {
   "cell_type": "markdown",
   "id": "2e839e5a",
   "metadata": {
    "papermill": {
     "duration": 0.022522,
     "end_time": "2024-12-24T06:13:28.851978",
     "exception": false,
     "start_time": "2024-12-24T06:13:28.829456",
     "status": "completed"
    },
    "tags": []
   },
   "source": [
    "### **16.2 Evaluating the Model**\n",
    "Evaluate the model on test data:"
   ]
  },
  {
   "cell_type": "code",
   "execution_count": 35,
   "id": "df8ab50a",
   "metadata": {
    "execution": {
     "iopub.execute_input": "2024-12-24T06:13:28.898458Z",
     "iopub.status.busy": "2024-12-24T06:13:28.898064Z",
     "iopub.status.idle": "2024-12-24T06:13:37.744394Z",
     "shell.execute_reply": "2024-12-24T06:13:37.742806Z"
    },
    "papermill": {
     "duration": 8.872538,
     "end_time": "2024-12-24T06:13:37.746375",
     "exception": false,
     "start_time": "2024-12-24T06:13:28.873837",
     "status": "completed"
    },
    "tags": []
   },
   "outputs": [
    {
     "name": "stdout",
     "output_type": "stream",
     "text": [
      "RMSE: 33.514249981469305\n",
      "R^2: 0.5902764656968167\n"
     ]
    }
   ],
   "source": [
    "test_results = lr_model.evaluate(test_data)\n",
    "\n",
    "print(f\"RMSE: {test_results.rootMeanSquaredError}\")\n",
    "print(f\"R^2: {test_results.r2}\")"
   ]
  },
  {
   "cell_type": "markdown",
   "id": "0673589f",
   "metadata": {
    "papermill": {
     "duration": 0.022482,
     "end_time": "2024-12-24T06:13:37.796255",
     "exception": false,
     "start_time": "2024-12-24T06:13:37.773773",
     "status": "completed"
    },
    "tags": []
   },
   "source": [
    "### **16.3 Random Forest for Classification**\n",
    "Use Random Forest to classify flights as **on-time** or **delayed**:"
   ]
  },
  {
   "cell_type": "code",
   "execution_count": 36,
   "id": "ae7d4879",
   "metadata": {
    "execution": {
     "iopub.execute_input": "2024-12-24T06:13:37.846962Z",
     "iopub.status.busy": "2024-12-24T06:13:37.846331Z",
     "iopub.status.idle": "2024-12-24T06:13:39.271030Z",
     "shell.execute_reply": "2024-12-24T06:13:39.269002Z"
    },
    "papermill": {
     "duration": 1.453021,
     "end_time": "2024-12-24T06:13:39.274065",
     "exception": false,
     "start_time": "2024-12-24T06:13:37.821044",
     "status": "completed"
    },
    "tags": []
   },
   "outputs": [
    {
     "name": "stdout",
     "output_type": "stream",
     "text": [
      "+-------------+-------+\n",
      "|ARRIVAL_DELAY|Delayed|\n",
      "+-------------+-------+\n",
      "|          -13|      0|\n",
      "|            3|      0|\n",
      "|            0|      0|\n",
      "|            5|      0|\n",
      "|           84|      1|\n",
      "+-------------+-------+\n",
      "only showing top 5 rows\n",
      "\n",
      "root\n",
      " |-- YEAR_: integer (nullable = true)\n",
      " |-- MONTH_: integer (nullable = false)\n",
      " |-- DAY_: integer (nullable = false)\n",
      " |-- DAY_OF_WEEK: integer (nullable = true)\n",
      " |-- AIRLINE: string (nullable = true)\n",
      " |-- FLIGHT_NUMBER: integer (nullable = true)\n",
      " |-- TAIL_NUMBER: string (nullable = false)\n",
      " |-- ORIGIN_AIRPORT: string (nullable = true)\n",
      " |-- DESTINATION_AIRPORT: string (nullable = true)\n",
      " |-- SCHEDULED_DEPARTURE: integer (nullable = true)\n",
      " |-- DEPARTURE_TIME: integer (nullable = true)\n",
      " |-- DEPARTURE_DELAY: integer (nullable = false)\n",
      " |-- TAXI_OUT: integer (nullable = false)\n",
      " |-- WHEELS_OFF: integer (nullable = true)\n",
      " |-- SCHEDULED_TIME: integer (nullable = true)\n",
      " |-- ELAPSED_TIME: integer (nullable = false)\n",
      " |-- AIR_TIME: integer (nullable = false)\n",
      " |-- DISTANCE: integer (nullable = false)\n",
      " |-- WHEELS_ON: integer (nullable = true)\n",
      " |-- TAXI_IN: integer (nullable = true)\n",
      " |-- SCHEDULED_ARRIVAL: integer (nullable = true)\n",
      " |-- ARRIVAL_TIME: integer (nullable = true)\n",
      " |-- ARRIVAL_DELAY: integer (nullable = false)\n",
      " |-- DIVERTED: integer (nullable = true)\n",
      " |-- CANCELLED: integer (nullable = true)\n",
      " |-- duration_hrs: double (nullable = true)\n",
      " |-- Delay_Label: string (nullable = true)\n",
      " |-- AIRLINE_Indexed: double (nullable = false)\n",
      " |-- features: vector (nullable = true)\n",
      " |-- Delayed: integer (nullable = false)\n",
      "\n"
     ]
    }
   ],
   "source": [
    "flights = flights.withColumn(\"Delayed\", F.when(F.col(\"ARRIVAL_DELAY\") > 15, 1).otherwise(0))\n",
    "flights.select(\"ARRIVAL_DELAY\", \"Delayed\").show(5)\n",
    "flights.printSchema()"
   ]
  },
  {
   "cell_type": "code",
   "execution_count": 37,
   "id": "9a2cec38",
   "metadata": {
    "execution": {
     "iopub.execute_input": "2024-12-24T06:13:39.350062Z",
     "iopub.status.busy": "2024-12-24T06:13:39.349555Z",
     "iopub.status.idle": "2024-12-24T06:14:35.706766Z",
     "shell.execute_reply": "2024-12-24T06:14:35.705149Z"
    },
    "papermill": {
     "duration": 56.418684,
     "end_time": "2024-12-24T06:14:35.732942",
     "exception": false,
     "start_time": "2024-12-24T06:13:39.314258",
     "status": "completed"
    },
    "tags": []
   },
   "outputs": [
    {
     "name": "stdout",
     "output_type": "stream",
     "text": [
      "+-------+----------+----------------------------------------+\n",
      "|Delayed|prediction|probability                             |\n",
      "+-------+----------+----------------------------------------+\n",
      "|0      |0.0       |[0.9308914874442996,0.0691085125557004] |\n",
      "|1      |1.0       |[0.37357082800619834,0.6264291719938017]|\n",
      "|0      |0.0       |[0.9308914874442996,0.0691085125557004] |\n",
      "|0      |0.0       |[0.9308914874442996,0.0691085125557004] |\n",
      "|1      |0.0       |[0.9308914874442996,0.0691085125557004] |\n",
      "+-------+----------+----------------------------------------+\n",
      "only showing top 5 rows\n",
      "\n"
     ]
    }
   ],
   "source": [
    "from pyspark.ml.classification import RandomForestClassifier\n",
    "\n",
    "train_data, test_data = flights.randomSplit([0.8, 0.2], seed=42)\n",
    "\n",
    "# Add a binary label for delay classification\n",
    "flights = flights.withColumn(\"Delayed\", F.when(F.col(\"ARRIVAL_DELAY\") > 15, 1).otherwise(0))\n",
    "\n",
    "# Train the model\n",
    "rf = RandomForestClassifier(featuresCol=\"features\", labelCol=\"Delayed\")\n",
    "rf_model = rf.fit(train_data)\n",
    "\n",
    "# Predict\n",
    "predictions = rf_model.transform(test_data)\n",
    "predictions.select(\"Delayed\", \"prediction\", \"probability\").show(5, truncate=False)"
   ]
  },
  {
   "cell_type": "markdown",
   "id": "73ad035b",
   "metadata": {
    "papermill": {
     "duration": 0.021741,
     "end_time": "2024-12-24T06:14:35.777097",
     "exception": false,
     "start_time": "2024-12-24T06:14:35.755356",
     "status": "completed"
    },
    "tags": []
   },
   "source": [
    "### **16.4 Model Evaluation**\n",
    "Evaluate classification accuracy:"
   ]
  },
  {
   "cell_type": "code",
   "execution_count": 38,
   "id": "e8308d3a",
   "metadata": {
    "execution": {
     "iopub.execute_input": "2024-12-24T06:14:35.826777Z",
     "iopub.status.busy": "2024-12-24T06:14:35.826335Z",
     "iopub.status.idle": "2024-12-24T06:14:45.965048Z",
     "shell.execute_reply": "2024-12-24T06:14:45.963822Z"
    },
    "papermill": {
     "duration": 10.165123,
     "end_time": "2024-12-24T06:14:45.967209",
     "exception": false,
     "start_time": "2024-12-24T06:14:35.802086",
     "status": "completed"
    },
    "tags": []
   },
   "outputs": [
    {
     "name": "stdout",
     "output_type": "stream",
     "text": [
      "Accuracy: 0.91094563131758\n"
     ]
    }
   ],
   "source": [
    "from pyspark.ml.evaluation import MulticlassClassificationEvaluator\n",
    "\n",
    "evaluator = MulticlassClassificationEvaluator(labelCol=\"Delayed\", metricName=\"accuracy\")\n",
    "accuracy = evaluator.evaluate(predictions)\n",
    "print(f\"Accuracy: {accuracy}\")"
   ]
  },
  {
   "cell_type": "markdown",
   "id": "58035add",
   "metadata": {
    "papermill": {
     "duration": 0.04169,
     "end_time": "2024-12-24T06:14:46.078625",
     "exception": false,
     "start_time": "2024-12-24T06:14:46.036935",
     "status": "completed"
    },
    "tags": []
   },
   "source": [
    "## **Step 17: Optimization Techniques**\n",
    "\n",
    "Optimization is critical for processing large datasets efficiently. Here’s how to optimize PySpark workflows:\n",
    "### **17.1 Partitioning**\n",
    "Repartitioning improves parallelism for large datasets:"
   ]
  },
  {
   "cell_type": "code",
   "execution_count": 39,
   "id": "f0f08e6d",
   "metadata": {
    "execution": {
     "iopub.execute_input": "2024-12-24T06:14:46.163782Z",
     "iopub.status.busy": "2024-12-24T06:14:46.163261Z",
     "iopub.status.idle": "2024-12-24T06:14:55.135468Z",
     "shell.execute_reply": "2024-12-24T06:14:55.134224Z"
    },
    "papermill": {
     "duration": 9.017424,
     "end_time": "2024-12-24T06:14:55.137409",
     "exception": false,
     "start_time": "2024-12-24T06:14:46.119985",
     "status": "completed"
    },
    "tags": []
   },
   "outputs": [
    {
     "name": "stdout",
     "output_type": "stream",
     "text": [
      "Number of partitions: 10\n"
     ]
    }
   ],
   "source": [
    "flights = flights.repartition(10)  # Repartition to 10 partitions\n",
    "print(f\"Number of partitions: {flights.rdd.getNumPartitions()}\")"
   ]
  },
  {
   "cell_type": "markdown",
   "id": "2ad6f146",
   "metadata": {
    "papermill": {
     "duration": 0.022027,
     "end_time": "2024-12-24T06:14:55.182648",
     "exception": false,
     "start_time": "2024-12-24T06:14:55.160621",
     "status": "completed"
    },
    "tags": []
   },
   "source": [
    "### **17.2 Caching**\n",
    "Cache frequently used data:"
   ]
  },
  {
   "cell_type": "code",
   "execution_count": 40,
   "id": "649e3de7",
   "metadata": {
    "execution": {
     "iopub.execute_input": "2024-12-24T06:14:55.230807Z",
     "iopub.status.busy": "2024-12-24T06:14:55.230336Z",
     "iopub.status.idle": "2024-12-24T06:15:10.149516Z",
     "shell.execute_reply": "2024-12-24T06:15:10.144917Z"
    },
    "papermill": {
     "duration": 14.947871,
     "end_time": "2024-12-24T06:15:10.153332",
     "exception": false,
     "start_time": "2024-12-24T06:14:55.205461",
     "status": "completed"
    },
    "tags": []
   },
   "outputs": [
    {
     "data": {
      "text/plain": [
       "1048575"
      ]
     },
     "execution_count": 40,
     "metadata": {},
     "output_type": "execute_result"
    }
   ],
   "source": [
    "flights.cache()\n",
    "flights.count()  # Trigger caching"
   ]
  },
  {
   "cell_type": "markdown",
   "id": "d5f3bc1b",
   "metadata": {
    "papermill": {
     "duration": 0.033414,
     "end_time": "2024-12-24T06:15:10.215687",
     "exception": false,
     "start_time": "2024-12-24T06:15:10.182273",
     "status": "completed"
    },
    "tags": []
   },
   "source": [
    "### **17.3 Broadcast Variables**\n",
    "Use broadcast variables for small lookup tables:"
   ]
  },
  {
   "cell_type": "code",
   "execution_count": 41,
   "id": "7d46710f",
   "metadata": {
    "execution": {
     "iopub.execute_input": "2024-12-24T06:15:10.292707Z",
     "iopub.status.busy": "2024-12-24T06:15:10.291237Z",
     "iopub.status.idle": "2024-12-24T06:15:10.732477Z",
     "shell.execute_reply": "2024-12-24T06:15:10.730511Z"
    },
    "papermill": {
     "duration": 0.47813,
     "end_time": "2024-12-24T06:15:10.735356",
     "exception": false,
     "start_time": "2024-12-24T06:15:10.257226",
     "status": "completed"
    },
    "tags": []
   },
   "outputs": [
    {
     "name": "stdout",
     "output_type": "stream",
     "text": [
      "+-----+------+----+-----------+-------+-------------+-----------+--------------+-------------------+-------------------+--------------+---------------+--------+----------+--------------+------------+--------+--------+---------+-------+-----------------+------------+-------------+--------+---------+------------------+-----------+---------------+--------------------+-------+---------+--------------------+\n",
      "|YEAR_|MONTH_|DAY_|DAY_OF_WEEK|AIRLINE|FLIGHT_NUMBER|TAIL_NUMBER|ORIGIN_AIRPORT|DESTINATION_AIRPORT|SCHEDULED_DEPARTURE|DEPARTURE_TIME|DEPARTURE_DELAY|TAXI_OUT|WHEELS_OFF|SCHEDULED_TIME|ELAPSED_TIME|AIR_TIME|DISTANCE|WHEELS_ON|TAXI_IN|SCHEDULED_ARRIVAL|ARRIVAL_TIME|ARRIVAL_DELAY|DIVERTED|CANCELLED|      duration_hrs|Delay_Label|AIRLINE_Indexed|            features|Delayed|IATA_CODE|             AIRLINE|\n",
      "+-----+------+----+-----------+-------+-------------+-----------+--------------+-------------------+-------------------+--------------+---------------+--------+----------+--------------+------------+--------+--------+---------+-------+-----------------+------------+-------------+--------+---------+------------------+-----------+---------------+--------------------+-------+---------+--------------------+\n",
      "| 2015|     1|  10|          6|     DL|         2625|     N371NW|           HDN|                ATL|               1321|          1311|            100|      17|      1518|           191|         184|     158|    1340|     1956|      9|             1832|        2005|           93|       0|        0|2.6333333333333333| High Delay|            1.0|[1.0,10.0,1.0,134...|      1|       DL|Delta Air Lines Inc.|\n",
      "| 2015|     1|  16|          5|     DL|         2465|     N900DE|           ATL|                BDL|               1229|          1225|             -2|      11|      1238|           136|         129|     114|     859|     1432|      4|             1445|        1436|           -9|       0|        0|               1.9|  Low Delay|            1.0|[1.0,16.0,1.0,859...|      0|       DL|Delta Air Lines Inc.|\n",
      "| 2015|     2|  17|          2|     OO|         5474|     N584SW|           LAX|                CLD|               1151|          1151|              0|      14|      1205|            46|          42|      24|      86|     1229|      4|             1237|        1233|           -4|       0|        0|               0.4|  Low Delay|            3.0|[2.0,17.0,3.0,86....|      0|       OO|Skywest Airlines ...|\n",
      "| 2015|     1|  17|          6|     US|          725|     N152UW|           CLT|                MCO|               1445|          1441|             -1|      10|      1454|           100|          82|      67|     468|     1601|      5|             1625|        1606|          -19|       0|        0|1.1166666666666667|  Low Delay|            6.0|[1.0,17.0,6.0,468...|      0|       US|     US Airways Inc.|\n",
      "| 2015|     1|  12|          1|     US|         1744|     N704US|           BOS|                PHL|                630|           625|             -6|      28|       652|            92|          95|      63|     280|      755|      4|              802|         759|           -3|       0|        0|              1.05|  Low Delay|            6.0|[1.0,12.0,6.0,280...|      0|       US|     US Airways Inc.|\n",
      "+-----+------+----+-----------+-------+-------------+-----------+--------------+-------------------+-------------------+--------------+---------------+--------+----------+--------------+------------+--------+--------+---------+-------+-----------------+------------+-------------+--------+---------+------------------+-----------+---------------+--------------------+-------+---------+--------------------+\n",
      "only showing top 5 rows\n",
      "\n"
     ]
    }
   ],
   "source": [
    "from pyspark.sql.functions import broadcast\n",
    "\n",
    "airlines_broadcast = broadcast(airlines)\n",
    "flights_with_airlines = flights.join(airlines_broadcast, flights.AIRLINE == airlines.IATA_CODE)\n",
    "flights_with_airlines.show(5)"
   ]
  },
  {
   "cell_type": "markdown",
   "id": "da4b25c5",
   "metadata": {
    "papermill": {
     "duration": 0.023045,
     "end_time": "2024-12-24T06:15:10.782601",
     "exception": false,
     "start_time": "2024-12-24T06:15:10.759556",
     "status": "completed"
    },
    "tags": []
   },
   "source": [
    "### **17.4 Using Parquet for Storage**\n",
    "Parquet is optimized for Spark:"
   ]
  },
  {
   "cell_type": "code",
   "execution_count": 42,
   "id": "29934bab",
   "metadata": {
    "execution": {
     "iopub.execute_input": "2024-12-24T06:15:10.830945Z",
     "iopub.status.busy": "2024-12-24T06:15:10.830533Z",
     "iopub.status.idle": "2024-12-24T06:15:16.495277Z",
     "shell.execute_reply": "2024-12-24T06:15:16.494059Z"
    },
    "papermill": {
     "duration": 5.691919,
     "end_time": "2024-12-24T06:15:16.497356",
     "exception": false,
     "start_time": "2024-12-24T06:15:10.805437",
     "status": "completed"
    },
    "tags": []
   },
   "outputs": [],
   "source": [
    "flights.write.parquet(\"flights.parquet\", mode=\"overwrite\")\n",
    "optimized_flights = spark.read.parquet(\"flights.parquet\")"
   ]
  },
  {
   "cell_type": "markdown",
   "id": "ba7ceb47",
   "metadata": {
    "papermill": {
     "duration": 0.021961,
     "end_time": "2024-12-24T06:15:16.542979",
     "exception": false,
     "start_time": "2024-12-24T06:15:16.521018",
     "status": "completed"
    },
    "tags": []
   },
   "source": [
    "## **Step 18: Visualization**\n",
    "\n",
    "PySpark lacks native visualization tools, but you can use Pandas and Matplotlib for visualizations:"
   ]
  },
  {
   "cell_type": "code",
   "execution_count": 43,
   "id": "0bb3b756",
   "metadata": {
    "execution": {
     "iopub.execute_input": "2024-12-24T06:15:16.590212Z",
     "iopub.status.busy": "2024-12-24T06:15:16.589831Z",
     "iopub.status.idle": "2024-12-24T06:15:29.962950Z",
     "shell.execute_reply": "2024-12-24T06:15:29.961719Z"
    },
    "papermill": {
     "duration": 13.398804,
     "end_time": "2024-12-24T06:15:29.964806",
     "exception": false,
     "start_time": "2024-12-24T06:15:16.566002",
     "status": "completed"
    },
    "tags": []
   },
   "outputs": [
    {
     "data": {
      "image/png": "[encoded data removed]",
      "text/plain": [
       "<Figure size 640x480 with 1 Axes>"
      ]
     },
     "metadata": {},
     "output_type": "display_data"
    }
   ],
   "source": [
    "import matplotlib.pyplot as plt\n",
    "\n",
    "# Convert predictions to Pandas\n",
    "predictions_pd = predictions.select(\"Delayed\", \"prediction\").toPandas()\n",
    "\n",
    "# Plot predictions\n",
    "predictions_pd[\"prediction\"].value_counts().plot(kind=\"bar\", title=\"Prediction Distribution\")\n",
    "plt.show()"
   ]
  },
  {
   "cell_type": "markdown",
   "id": "7862af1f",
   "metadata": {
    "papermill": {
     "duration": 0.022598,
     "end_time": "2024-12-24T06:15:30.010883",
     "exception": false,
     "start_time": "2024-12-24T06:15:29.988285",
     "status": "completed"
    },
    "tags": []
   },
   "source": [
    "## **Conclusion**\n",
    "\n",
    "PySpark is a robust and versatile framework for big data processing, offering a wide range of tools and functionalities to analyze, transform, and model large datasets efficiently. Through this walkthrough, we explored essential PySpark concepts step-by-step, starting from the basics of creating Spark sessions and loading datasets to advanced techniques like machine learning pipelines, graph processing, and streaming.\n",
    "\n",
    "### **Key Takeaways**\n",
    "1. **Scalability**: PySpark allows you to handle vast amounts of data distributed across clusters, making it ideal for big data analytics.\n",
    "2. **Flexibility**: With its modular structure, PySpark supports batch processing, real-time streaming, and machine learning tasks seamlessly.\n",
    "3. **Integration**: PySpark integrates well with other tools and libraries like Pandas, SQL, and MLlib, allowing flexibility in workflows.\n",
    "4. **Optimization**: Techniques like partitioning, caching, and broadcasting optimize performance for faster execution.\n",
    "5. **Real-World Applications**: PySpark is widely used in industries for applications like predictive modeling, fraud detection, and network analysis.\n",
    "\n",
    "### **Practical Insights**\n",
    "- PySpark's DataFrame API simplifies data manipulation, resembling SQL-like operations for ease of use.\n",
    "- Pipelines in PySpark streamline the workflow by encapsulating multiple stages of data preprocessing and modeling.\n",
    "- Structured Streaming facilitates real-time analytics, making it suitable for monitoring and responding to live events.\n",
    "- GraphFrames extend PySpark’s capability for graph-based problems, enabling relationship and connectivity analysis.\n",
    "\n",
    "### **Future Scope**\n",
    "As data volumes grow exponentially, PySpark will remain a cornerstone of big data analytics. Learning PySpark provides a competitive edge in fields like data science, machine learning, and real-time data engineering. Enhancing skills in advanced topics like Delta Lake, Spark Streaming, and integrating PySpark with cloud services like AWS and Azure will open up more opportunities.\n"
   ]
  }
 ],
 "metadata": {
  "kaggle": {
   "accelerator": "none",
   "dataSources": [
    {
     "datasetId": 2196939,
     "sourceId": 3670164,
     "sourceType": "datasetVersion"
    }
   ],
   "dockerImageVersionId": 30822,
   "isGpuEnabled": false,
   "isInternetEnabled": true,
   "language": "python",
   "sourceType": "notebook"
  },
  "kernelspec": {
   "display_name": "Python 3",
   "language": "python",
   "name": "python3"
  },
  "language_info": {
   "codemirror_mode": {
    "name": "ipython",
    "version": 3
   },
   "file_extension": ".py",
   "mimetype": "text/x-python",
   "name": "python",
   "nbconvert_exporter": "python",
   "pygments_lexer": "ipython3",
   "version": "3.10.12"
  },
  "papermill": {
   "default_parameters": {},
   "duration": 319.000214,
   "end_time": "2024-12-24T06:15:30.858510",
   "environment_variables": {},
   "exception": null,
   "input_path": "__notebook__.ipynb",
   "output_path": "__notebook__.ipynb",
   "parameters": {},
   "start_time": "2024-12-24T06:10:11.858296",
   "version": "2.6.0"
  }
 },
 "nbformat": 4,
 "nbformat_minor": 5
}
