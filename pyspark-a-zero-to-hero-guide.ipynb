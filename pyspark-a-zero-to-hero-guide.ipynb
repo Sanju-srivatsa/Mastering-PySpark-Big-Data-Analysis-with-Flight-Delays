{
 "cells": [
  {
   "cell_type": "markdown",
   "id": "d0375136",
   "metadata": {
    "_cell_guid": "b1076dfc-b9ad-4769-8c92-a6c4dae69d19",
    "_uuid": "8f2839f25d086af736a60e9eeb907d3b93b6e0e5",
    "papermill": {
     "duration": 0.016449,
     "end_time": "2024-12-24T14:12:20.738008",
     "exception": false,
     "start_time": "2024-12-24T14:12:20.721559",
     "status": "completed"
    },
    "tags": []
   },
   "source": [
    "# **Mastering PySpark: Big Data Analysis with Flight Delays**\n",
    "\n",
    "### **Introduction to PySpark**\n",
    "PySpark is the Python API for Apache Spark, an open-source, distributed computing system designed to process large-scale data. PySpark is widely used for big data processing, machine learning, and streaming due to its scalability, speed, and ease of use.\n",
    "\n",
    "---\n",
    "\n",
    "### **Why Use PySpark?**\n",
    "1. **Distributed Computing**: Automatically distributes data and computations across a cluster.\n",
    "2. **Fault Tolerance**: Ensures data is not lost due to node failures.\n",
    "3. **Ease of Use**: Provides simple APIs in Python while harnessing the power of Spark.\n",
    "4. **Big Data Ready**: Efficiently handles datasets too large for a single machine.\n",
    "5. **Integration**: Compatible with Hadoop, SQL, and Python libraries.\n",
    "\n",
    "---\n",
    "\n",
    "### **Core PySpark Concepts and Terminologies**\n",
    "\n",
    "#### **1. SparkSession**\n",
    "- **Definition**: The entry point for any PySpark application, managing configurations and the Spark cluster.\n",
    "- **Usage**:\n",
    "  ```python\n",
    "  from pyspark.sql import SparkSession\n",
    "  spark = SparkSession.builder.appName(\"PySpark Guide\").getOrCreate()\n",
    "  ```\n",
    "\n",
    "#### **2. RDD (Resilient Distributed Dataset)**\n",
    "- **Definition**: The core data structure in Spark, designed for fault-tolerant and distributed data processing.\n",
    "- **Key Features**:\n",
    "  - Immutable: Once created, RDDs cannot be modified.\n",
    "  - Partitioned: Data is split into partitions for parallel processing.\n",
    "  - Lazy Evaluation: Transformations are only executed when an action is triggered.\n",
    "- **Operations**:\n",
    "  - **Transformations**: `map`, `filter`, `flatMap`, `reduceByKey`.\n",
    "  - **Actions**: `collect`, `count`, `take`.\n",
    "\n",
    "#### **3. DataFrames**\n",
    "- **Definition**: A distributed collection of data organized into rows and columns, similar to a database table or Pandas DataFrame.\n",
    "- **Features**:\n",
    "  - Schema support for structured data.\n",
    "  - Optimized for performance with Catalyst Optimizer.\n",
    "- **Operations**:\n",
    "  - Selecting: `select`, `filter`, `where`.\n",
    "  - Aggregations: `groupBy`, `agg`, `count`.\n",
    "\n",
    "#### **4. Dataset**\n",
    "- **Definition**: Strongly-typed DataFrame-like structure introduced for statically-typed languages (Java/Scala). Not common in PySpark.\n",
    "\n",
    "#### **5. PySpark SQL**\n",
    "- **Definition**: Module for querying structured data using SQL.\n",
    "- **Key Operations**:\n",
    "  - Register a DataFrame as a temporary SQL table:\n",
    "    ```python\n",
    "    df.createOrReplaceTempView(\"table_name\")\n",
    "    spark.sql(\"SELECT * FROM table_name\").show()\n",
    "    ```\n",
    "\n",
    "#### **6. PySpark MLlib**\n",
    "- **Definition**: A machine learning library for scalable machine learning.\n",
    "- **Key Features**:\n",
    "  - Classification and Regression: Logistic regression, linear regression.\n",
    "  - Clustering: K-means.\n",
    "  - Recommendation Systems: Collaborative filtering.\n",
    "  - Feature Engineering: VectorAssembler, StandardScaler.\n",
    "  - Model Evaluation: RegressionEvaluator.\n",
    "\n",
    "#### **7. Transformations**\n",
    "- **Definition**: Lazy operations that define how data should be transformed but do not execute immediately.\n",
    "- **Examples**:\n",
    "  - `map()`: Applies a function to each element.\n",
    "  - `filter()`: Filters data based on a condition.\n",
    "\n",
    "#### **8. Actions**\n",
    "- **Definition**: Triggers the execution of transformations and returns a result.\n",
    "- **Examples**:\n",
    "  - `count()`: Counts the number of elements.\n",
    "  - `collect()`: Returns all elements in the RDD/DataFrame.\n",
    "\n",
    "#### **9. Partitions**\n",
    "- **Definition**: Logical divisions of data within an RDD or DataFrame.\n",
    "- **Importance**:\n",
    "  - Improves parallelism.\n",
    "  - Can be controlled using `repartition` or `coalesce`.\n",
    "\n",
    "#### **10. Catalyst Optimizer**\n",
    "- **Definition**: An optimization engine for DataFrame queries to improve execution plans.\n",
    "\n",
    "#### **11. Tungsten Engine**\n",
    "- **Definition**: Optimizes Spark jobs by improving CPU and memory utilization.\n",
    "\n",
    "#### **12. Lazy Evaluation**\n",
    "- **Definition**: Operations are not executed until an action is triggered, optimizing the execution plan.\n",
    "\n",
    "#### **13. Broadcast Variables**\n",
    "- **Definition**: Used to cache a value on all nodes for efficient access.\n",
    "- **Usage**:\n",
    "  ```python\n",
    "  broadcastVar = spark.sparkContext.broadcast([1, 2, 3])\n",
    "  ```\n",
    "\n",
    "#### **14. Accumulators**\n",
    "- **Definition**: Write-only shared variables for aggregating data across nodes.\n",
    "\n",
    "#### **15. PySpark Streaming**\n",
    "- **Definition**: Enables real-time processing of streaming data.\n",
    "- **Key Concepts**:\n",
    "  - DStream: Continuous stream of data.\n",
    "  - Window Operations: Aggregations over a sliding window.\n",
    "\n",
    "#### **16. PySpark Structured Streaming**\n",
    "- **Definition**: High-level API for stream processing using SQL and DataFrames.\n",
    "\n",
    "#### **17. Serialization**\n",
    "- **Definition**: Converts data for transmission over the network or storage.\n",
    "\n",
    "---\n",
    "\n",
    "### **PySpark Architecture**\n",
    "\n",
    "1. **Driver Program**:\n",
    "   - Manages application lifecycle and scheduling tasks.\n",
    "2. **Executors**:\n",
    "   - Run tasks assigned by the driver program.\n",
    "3. **Cluster Manager**:\n",
    "   - Allocates resources for applications (e.g., YARN, Mesos).\n",
    "\n",
    "---"
   ]
  },
  {
   "cell_type": "markdown",
   "id": "6541c8f7",
   "metadata": {
    "papermill": {
     "duration": 0.012938,
     "end_time": "2024-12-24T14:12:20.764465",
     "exception": false,
     "start_time": "2024-12-24T14:12:20.751527",
     "status": "completed"
    },
    "tags": []
   },
   "source": [
    "### **PySpark Walkthrough: Learning PySpark Step by Step with Flight Delay Dataset**\n",
    "\n",
    "This notebook is designed as a **step-by-step guide** to learn PySpark. It explains each concept in detail using the **Flight Delay dataset** and focuses on building an understanding of PySpark, its operations, and real-world applications.\n"
   ]
  },
  {
   "cell_type": "markdown",
   "id": "ead2fd38",
   "metadata": {
    "papermill": {
     "duration": 0.012901,
     "end_time": "2024-12-24T14:12:20.791070",
     "exception": false,
     "start_time": "2024-12-24T14:12:20.778169",
     "status": "completed"
    },
    "tags": []
   },
   "source": [
    "## **Step 1: Understanding PySpark**\n",
    "**What is PySpark?**\n",
    "- PySpark is the Python API for Apache Spark.\n",
    "- Apache Spark is a distributed computing framework for big data processing.\n",
    "- PySpark provides a way to write Spark applications using Python, enabling scalability for large datasets."
   ]
  },
  {
   "cell_type": "markdown",
   "id": "5dbe7c1d",
   "metadata": {
    "papermill": {
     "duration": 0.012868,
     "end_time": "2024-12-24T14:12:20.817463",
     "exception": false,
     "start_time": "2024-12-24T14:12:20.804595",
     "status": "completed"
    },
    "tags": []
   },
   "source": [
    "## **Step 2: Install and Import Libraries**\n",
    "\n",
    "### **Installing PySpark**\n",
    "PySpark can be installed using pip:"
   ]
  },
  {
   "cell_type": "code",
   "execution_count": 1,
   "id": "9796b9a9",
   "metadata": {
    "execution": {
     "iopub.execute_input": "2024-12-24T14:12:20.844959Z",
     "iopub.status.busy": "2024-12-24T14:12:20.844578Z",
     "iopub.status.idle": "2024-12-24T14:13:02.767239Z",
     "shell.execute_reply": "2024-12-24T14:13:02.766040Z"
    },
    "papermill": {
     "duration": 41.938851,
     "end_time": "2024-12-24T14:13:02.769319",
     "exception": false,
     "start_time": "2024-12-24T14:12:20.830468",
     "status": "completed"
    },
    "tags": []
   },
   "outputs": [
    {
     "name": "stdout",
     "output_type": "stream",
     "text": [
      "Collecting pyspark\r\n",
      "  Downloading pyspark-3.5.4.tar.gz (317.3 MB)\r\n",
      "\u001b[2K     \u001b[90m━━━━━━━━━━━━━━━━━━━━━━━━━━━━━━━━━━━━━━━━\u001b[0m \u001b[32m317.3/317.3 MB\u001b[0m \u001b[31m4.7 MB/s\u001b[0m eta \u001b[36m0:00:00\u001b[0m\r\n",
      "\u001b[?25h  Preparing metadata (setup.py) ... \u001b[?25l\u001b[?25hdone\r\n",
      "Requirement already satisfied: py4j==0.10.9.7 in /usr/local/lib/python3.10/dist-packages (from pyspark) (0.10.9.7)\r\n",
      "Building wheels for collected packages: pyspark\r\n",
      "  Building wheel for pyspark (setup.py) ... \u001b[?25l\u001b[?25hdone\r\n",
      "  Created wheel for pyspark: filename=pyspark-3.5.4-py2.py3-none-any.whl size=317849765 sha256=355969435b3899b25b8a2473b4b41e63704659fab7ba1152d479c5c5ab38e4b9\r\n",
      "  Stored in directory: /root/.cache/pip/wheels/d9/1c/98/31e395a42d1735d18d42124971ecbbade844b50bb9845b6f4a\r\n",
      "Successfully built pyspark\r\n",
      "Installing collected packages: pyspark\r\n",
      "Successfully installed pyspark-3.5.4\r\n"
     ]
    }
   ],
   "source": [
    "!pip install pyspark"
   ]
  },
  {
   "cell_type": "markdown",
   "id": "8a656ef1",
   "metadata": {
    "papermill": {
     "duration": 0.018086,
     "end_time": "2024-12-24T14:13:02.805524",
     "exception": false,
     "start_time": "2024-12-24T14:13:02.787438",
     "status": "completed"
    },
    "tags": []
   },
   "source": [
    "### **Importing Required Libraries**"
   ]
  },
  {
   "cell_type": "code",
   "execution_count": 2,
   "id": "133fec55",
   "metadata": {
    "execution": {
     "iopub.execute_input": "2024-12-24T14:13:02.842733Z",
     "iopub.status.busy": "2024-12-24T14:13:02.842368Z",
     "iopub.status.idle": "2024-12-24T14:13:03.310134Z",
     "shell.execute_reply": "2024-12-24T14:13:03.309009Z"
    },
    "papermill": {
     "duration": 0.48871,
     "end_time": "2024-12-24T14:13:03.312151",
     "exception": false,
     "start_time": "2024-12-24T14:13:02.823441",
     "status": "completed"
    },
    "tags": []
   },
   "outputs": [],
   "source": [
    "import os  # For working with file paths\n",
    "import time  # To calculate execution times\n",
    "import pandas as pd  # For handling smaller datasets and debugging\n",
    "import pyspark.sql.functions as F  # For transformations and aggregations\n",
    "from pyspark.sql import SparkSession  # To start a PySpark session"
   ]
  },
  {
   "cell_type": "markdown",
   "id": "e264dddb",
   "metadata": {
    "papermill": {
     "duration": 0.01862,
     "end_time": "2024-12-24T14:13:03.349093",
     "exception": false,
     "start_time": "2024-12-24T14:13:03.330473",
     "status": "completed"
    },
    "tags": []
   },
   "source": [
    "## **Step 3: Creating a SparkSession**\n",
    "\n",
    "A `SparkSession` is the starting point for any PySpark application. It allows us to interact with Spark."
   ]
  },
  {
   "cell_type": "code",
   "execution_count": 3,
   "id": "2dbf9fa1",
   "metadata": {
    "execution": {
     "iopub.execute_input": "2024-12-24T14:13:03.386748Z",
     "iopub.status.busy": "2024-12-24T14:13:03.386216Z",
     "iopub.status.idle": "2024-12-24T14:13:09.684251Z",
     "shell.execute_reply": "2024-12-24T14:13:09.682980Z"
    },
    "papermill": {
     "duration": 6.319135,
     "end_time": "2024-12-24T14:13:09.686374",
     "exception": false,
     "start_time": "2024-12-24T14:13:03.367239",
     "status": "completed"
    },
    "tags": []
   },
   "outputs": [],
   "source": [
    "spark = SparkSession.builder \\\n",
    "    .appName(\"Flight Delay Analysis\") \\\n",
    "    .getOrCreate()"
   ]
  },
  {
   "cell_type": "markdown",
   "id": "03b0fe07",
   "metadata": {
    "papermill": {
     "duration": 0.017849,
     "end_time": "2024-12-24T14:13:09.723460",
     "exception": false,
     "start_time": "2024-12-24T14:13:09.705611",
     "status": "completed"
    },
    "tags": []
   },
   "source": [
    "**Explanation:**\n",
    "- `appName`: Assigns a name to the Spark application.\n",
    "- `getOrCreate`: Creates a new session or retrieves an existing one."
   ]
  },
  {
   "cell_type": "markdown",
   "id": "1ba87756",
   "metadata": {
    "papermill": {
     "duration": 0.021395,
     "end_time": "2024-12-24T14:13:09.769349",
     "exception": false,
     "start_time": "2024-12-24T14:13:09.747954",
     "status": "completed"
    },
    "tags": []
   },
   "source": [
    "## **Step 4: Loading the Dataset**\n",
    "\n",
    "PySpark allows us to load various types of files such as CSV, JSON, and Parquet. Here, we load the datasets."
   ]
  },
  {
   "cell_type": "code",
   "execution_count": 4,
   "id": "9a2c10a2",
   "metadata": {
    "execution": {
     "iopub.execute_input": "2024-12-24T14:13:09.814078Z",
     "iopub.status.busy": "2024-12-24T14:13:09.813509Z",
     "iopub.status.idle": "2024-12-24T14:13:23.789989Z",
     "shell.execute_reply": "2024-12-24T14:13:23.789068Z"
    },
    "papermill": {
     "duration": 13.998826,
     "end_time": "2024-12-24T14:13:23.792155",
     "exception": false,
     "start_time": "2024-12-24T14:13:09.793329",
     "status": "completed"
    },
    "tags": []
   },
   "outputs": [],
   "source": [
    "# File paths for datasets\n",
    "file_path_flights = '/kaggle/input/fligths-delays/flights.csv'\n",
    "file_path_airlines = '/kaggle/input/fligths-delays/airlines.csv'\n",
    "file_path_airports = '/kaggle/input/fligths-delays/airports.csv'\n",
    "\n",
    "# Loading datasets\n",
    "flights = spark.read.csv(file_path_flights, header=True, inferSchema=True)\n",
    "airlines = spark.read.csv(file_path_airlines, header=True, inferSchema=True)\n",
    "airports = spark.read.csv(file_path_airports, header=True, inferSchema=True)"
   ]
  },
  {
   "cell_type": "markdown",
   "id": "76879251",
   "metadata": {
    "papermill": {
     "duration": 0.023231,
     "end_time": "2024-12-24T14:13:23.838039",
     "exception": false,
     "start_time": "2024-12-24T14:13:23.814808",
     "status": "completed"
    },
    "tags": []
   },
   "source": [
    "**Key Options:**\n",
    "- `header=True`: Indicates the first row contains column names.\n",
    "- `inferSchema=True`: Automatically infers the data types for each column."
   ]
  },
  {
   "cell_type": "markdown",
   "id": "b180de4e",
   "metadata": {
    "papermill": {
     "duration": 0.02205,
     "end_time": "2024-12-24T14:13:23.883734",
     "exception": false,
     "start_time": "2024-12-24T14:13:23.861684",
     "status": "completed"
    },
    "tags": []
   },
   "source": [
    "## **Step 5: Exploring the Data**\n",
    "\n",
    "### **5.1 Displaying Rows**\n",
    "Use `.show()` to display rows from a DataFrame:"
   ]
  },
  {
   "cell_type": "code",
   "execution_count": 5,
   "id": "9e7a774a",
   "metadata": {
    "execution": {
     "iopub.execute_input": "2024-12-24T14:13:23.932671Z",
     "iopub.status.busy": "2024-12-24T14:13:23.932208Z",
     "iopub.status.idle": "2024-12-24T14:13:24.817022Z",
     "shell.execute_reply": "2024-12-24T14:13:24.815961Z"
    },
    "papermill": {
     "duration": 0.91223,
     "end_time": "2024-12-24T14:13:24.819764",
     "exception": false,
     "start_time": "2024-12-24T14:13:23.907534",
     "status": "completed"
    },
    "tags": []
   },
   "outputs": [
    {
     "name": "stdout",
     "output_type": "stream",
     "text": [
      "+-----+------+----+-----------+-------+-------------+-----------+--------------+-------------------+-------------------+--------------+---------------+--------+----------+--------------+------------+--------+--------+---------+-------+-----------------+------------+-------------+--------+---------+-------------------+----------------+--------------+-------------+-------------------+-------------+\n",
      "|YEAR_|MONTH_|DAY_|DAY_OF_WEEK|AIRLINE|FLIGHT_NUMBER|TAIL_NUMBER|ORIGIN_AIRPORT|DESTINATION_AIRPORT|SCHEDULED_DEPARTURE|DEPARTURE_TIME|DEPARTURE_DELAY|TAXI_OUT|WHEELS_OFF|SCHEDULED_TIME|ELAPSED_TIME|AIR_TIME|DISTANCE|WHEELS_ON|TAXI_IN|SCHEDULED_ARRIVAL|ARRIVAL_TIME|ARRIVAL_DELAY|DIVERTED|CANCELLED|CANCELLATION_REASON|AIR_SYSTEM_DELAY|SECURITY_DELAY|AIRLINE_DELAY|LATE_AIRCRAFT_DELAY|WEATHER_DELAY|\n",
      "+-----+------+----+-----------+-------+-------------+-----------+--------------+-------------------+-------------------+--------------+---------------+--------+----------+--------------+------------+--------+--------+---------+-------+-----------------+------------+-------------+--------+---------+-------------------+----------------+--------------+-------------+-------------------+-------------+\n",
      "| 2015|     1|   1|          4|     AS|           98|     N407AS|           ANC|                SEA|                  5|          2354|            -11|      21|        15|           205|         194|     169|    1448|      404|      4|              430|         408|          -22|       0|        0|               NULL|            NULL|          NULL|         NULL|               NULL|         NULL|\n",
      "| 2015|     1|   1|          4|     AA|         2336|     N3KUAA|           LAX|                PBI|                 10|             2|             -8|      12|        14|           280|         279|     263|    2330|      737|      4|              750|         741|           -9|       0|        0|               NULL|            NULL|          NULL|         NULL|               NULL|         NULL|\n",
      "| 2015|     1|   1|          4|     US|          840|     N171US|           SFO|                CLT|                 20|            18|             -2|      16|        34|           286|         293|     266|    2296|      800|     11|              806|         811|            5|       0|        0|               NULL|            NULL|          NULL|         NULL|               NULL|         NULL|\n",
      "| 2015|     1|   1|          4|     AA|          258|     N3HYAA|           LAX|                MIA|                 20|            15|             -5|      15|        30|           285|         281|     258|    2342|      748|      8|              805|         756|           -9|       0|        0|               NULL|            NULL|          NULL|         NULL|               NULL|         NULL|\n",
      "| 2015|     1|   1|          4|     AS|          135|     N527AS|           SEA|                ANC|                 25|            24|             -1|      11|        35|           235|         215|     199|    1448|      254|      5|              320|         259|          -21|       0|        0|               NULL|            NULL|          NULL|         NULL|               NULL|         NULL|\n",
      "+-----+------+----+-----------+-------+-------------+-----------+--------------+-------------------+-------------------+--------------+---------------+--------+----------+--------------+------------+--------+--------+---------+-------+-----------------+------------+-------------+--------+---------+-------------------+----------------+--------------+-------------+-------------------+-------------+\n",
      "only showing top 5 rows\n",
      "\n"
     ]
    }
   ],
   "source": [
    "flights.show(5)"
   ]
  },
  {
   "cell_type": "markdown",
   "id": "3d66a2c9",
   "metadata": {
    "papermill": {
     "duration": 0.026302,
     "end_time": "2024-12-24T14:13:24.882422",
     "exception": false,
     "start_time": "2024-12-24T14:13:24.856120",
     "status": "completed"
    },
    "tags": []
   },
   "source": [
    "### **5.2 Checking Schema**\n",
    "Use `.printSchema()` to view the structure of the DataFrame:"
   ]
  },
  {
   "cell_type": "code",
   "execution_count": 6,
   "id": "9b881d03",
   "metadata": {
    "execution": {
     "iopub.execute_input": "2024-12-24T14:13:24.938816Z",
     "iopub.status.busy": "2024-12-24T14:13:24.938391Z",
     "iopub.status.idle": "2024-12-24T14:13:24.948585Z",
     "shell.execute_reply": "2024-12-24T14:13:24.946976Z"
    },
    "papermill": {
     "duration": 0.043825,
     "end_time": "2024-12-24T14:13:24.952319",
     "exception": false,
     "start_time": "2024-12-24T14:13:24.908494",
     "status": "completed"
    },
    "tags": []
   },
   "outputs": [
    {
     "name": "stdout",
     "output_type": "stream",
     "text": [
      "root\n",
      " |-- YEAR_: integer (nullable = true)\n",
      " |-- MONTH_: integer (nullable = true)\n",
      " |-- DAY_: integer (nullable = true)\n",
      " |-- DAY_OF_WEEK: integer (nullable = true)\n",
      " |-- AIRLINE: string (nullable = true)\n",
      " |-- FLIGHT_NUMBER: integer (nullable = true)\n",
      " |-- TAIL_NUMBER: string (nullable = true)\n",
      " |-- ORIGIN_AIRPORT: string (nullable = true)\n",
      " |-- DESTINATION_AIRPORT: string (nullable = true)\n",
      " |-- SCHEDULED_DEPARTURE: integer (nullable = true)\n",
      " |-- DEPARTURE_TIME: integer (nullable = true)\n",
      " |-- DEPARTURE_DELAY: integer (nullable = true)\n",
      " |-- TAXI_OUT: integer (nullable = true)\n",
      " |-- WHEELS_OFF: integer (nullable = true)\n",
      " |-- SCHEDULED_TIME: integer (nullable = true)\n",
      " |-- ELAPSED_TIME: integer (nullable = true)\n",
      " |-- AIR_TIME: integer (nullable = true)\n",
      " |-- DISTANCE: integer (nullable = true)\n",
      " |-- WHEELS_ON: integer (nullable = true)\n",
      " |-- TAXI_IN: integer (nullable = true)\n",
      " |-- SCHEDULED_ARRIVAL: integer (nullable = true)\n",
      " |-- ARRIVAL_TIME: integer (nullable = true)\n",
      " |-- ARRIVAL_DELAY: integer (nullable = true)\n",
      " |-- DIVERTED: integer (nullable = true)\n",
      " |-- CANCELLED: integer (nullable = true)\n",
      " |-- CANCELLATION_REASON: string (nullable = true)\n",
      " |-- AIR_SYSTEM_DELAY: integer (nullable = true)\n",
      " |-- SECURITY_DELAY: integer (nullable = true)\n",
      " |-- AIRLINE_DELAY: integer (nullable = true)\n",
      " |-- LATE_AIRCRAFT_DELAY: integer (nullable = true)\n",
      " |-- WEATHER_DELAY: integer (nullable = true)\n",
      "\n"
     ]
    }
   ],
   "source": [
    "flights.printSchema()"
   ]
  },
  {
   "cell_type": "markdown",
   "id": "cf755358",
   "metadata": {
    "papermill": {
     "duration": 0.026286,
     "end_time": "2024-12-24T14:13:25.006067",
     "exception": false,
     "start_time": "2024-12-24T14:13:24.979781",
     "status": "completed"
    },
    "tags": []
   },
   "source": [
    "**Explanation:**\n",
    "- Shows the column names, data types, and whether the columns allow null values."
   ]
  },
  {
   "cell_type": "markdown",
   "id": "8ca96b8f",
   "metadata": {
    "papermill": {
     "duration": 0.02635,
     "end_time": "2024-12-24T14:13:25.058986",
     "exception": false,
     "start_time": "2024-12-24T14:13:25.032636",
     "status": "completed"
    },
    "tags": []
   },
   "source": [
    "### **5.3 Counting Rows**"
   ]
  },
  {
   "cell_type": "code",
   "execution_count": 7,
   "id": "1686c6fa",
   "metadata": {
    "execution": {
     "iopub.execute_input": "2024-12-24T14:13:25.113987Z",
     "iopub.status.busy": "2024-12-24T14:13:25.113559Z",
     "iopub.status.idle": "2024-12-24T14:13:26.814226Z",
     "shell.execute_reply": "2024-12-24T14:13:26.810609Z"
    },
    "papermill": {
     "duration": 1.731645,
     "end_time": "2024-12-24T14:13:26.817876",
     "exception": false,
     "start_time": "2024-12-24T14:13:25.086231",
     "status": "completed"
    },
    "tags": []
   },
   "outputs": [
    {
     "name": "stdout",
     "output_type": "stream",
     "text": [
      "Number of rows in the Flights dataset: 1048575\n"
     ]
    }
   ],
   "source": [
    "print(f\"Number of rows in the Flights dataset: {flights.count()}\")"
   ]
  },
  {
   "cell_type": "markdown",
   "id": "4be5bf0c",
   "metadata": {
    "papermill": {
     "duration": 0.04144,
     "end_time": "2024-12-24T14:13:26.893531",
     "exception": false,
     "start_time": "2024-12-24T14:13:26.852091",
     "status": "completed"
    },
    "tags": []
   },
   "source": [
    "## **Step 6: Data Cleaning**\n",
    "\n",
    "### **6.1 Handling Missing Data**\n",
    "To check for missing values:"
   ]
  },
  {
   "cell_type": "code",
   "execution_count": 8,
   "id": "2aa879f0",
   "metadata": {
    "execution": {
     "iopub.execute_input": "2024-12-24T14:13:26.981101Z",
     "iopub.status.busy": "2024-12-24T14:13:26.980129Z",
     "iopub.status.idle": "2024-12-24T14:13:32.558334Z",
     "shell.execute_reply": "2024-12-24T14:13:32.556775Z"
    },
    "papermill": {
     "duration": 5.610149,
     "end_time": "2024-12-24T14:13:32.562854",
     "exception": false,
     "start_time": "2024-12-24T14:13:26.952705",
     "status": "completed"
    },
    "tags": []
   },
   "outputs": [
    {
     "name": "stdout",
     "output_type": "stream",
     "text": [
      "Missing Values Per Column:\n",
      "YEAR_: 0\n",
      "MONTH_: 0\n",
      "DAY_: 0\n",
      "DAY_OF_WEEK: 0\n",
      "AIRLINE: 0\n",
      "FLIGHT_NUMBER: 0\n",
      "TAIL_NUMBER: 7750\n",
      "ORIGIN_AIRPORT: 0\n",
      "DESTINATION_AIRPORT: 0\n",
      "SCHEDULED_DEPARTURE: 0\n",
      "DEPARTURE_TIME: 39515\n",
      "DEPARTURE_DELAY: 39515\n",
      "TAXI_OUT: 40229\n",
      "WHEELS_OFF: 40229\n",
      "SCHEDULED_TIME: 2\n",
      "ELAPSED_TIME: 43071\n",
      "AIR_TIME: 43071\n",
      "DISTANCE: 0\n",
      "WHEELS_ON: 41296\n",
      "TAXI_IN: 41296\n",
      "SCHEDULED_ARRIVAL: 0\n",
      "ARRIVAL_TIME: 41296\n",
      "ARRIVAL_DELAY: 43071\n",
      "DIVERTED: 0\n",
      "CANCELLED: 0\n",
      "CANCELLATION_REASON: 1008048\n",
      "AIR_SYSTEM_DELAY: 820047\n",
      "SECURITY_DELAY: 820047\n",
      "AIRLINE_DELAY: 820047\n",
      "LATE_AIRCRAFT_DELAY: 820047\n",
      "WEATHER_DELAY: 820047\n"
     ]
    }
   ],
   "source": [
    "# Count missing values for each column\n",
    "missing_values = flights.select([\n",
    "    F.count(F.when(F.col(c).isNull(), 1)).alias(c) for c in flights.columns\n",
    "]).collect()[0]\n",
    "\n",
    "# Format and print the results\n",
    "print(\"Missing Values Per Column:\")\n",
    "for col, count in missing_values.asDict().items():\n",
    "    print(f\"{col}: {count}\")"
   ]
  },
  {
   "cell_type": "markdown",
   "id": "6043ddb5",
   "metadata": {
    "papermill": {
     "duration": 0.034049,
     "end_time": "2024-12-24T14:13:32.636456",
     "exception": false,
     "start_time": "2024-12-24T14:13:32.602407",
     "status": "completed"
    },
    "tags": []
   },
   "source": [
    "### **Step 6.2: Strategies for Handling Missing Data**\n",
    "\n",
    "#### **1. Dropping Rows or Columns**\n",
    "   - Drop rows or columns with missing data if the proportion of missing values is significant or if the column is not critical for analysis."
   ]
  },
  {
   "cell_type": "code",
   "execution_count": 9,
   "id": "aad464a0",
   "metadata": {
    "execution": {
     "iopub.execute_input": "2024-12-24T14:13:32.687446Z",
     "iopub.status.busy": "2024-12-24T14:13:32.687065Z",
     "iopub.status.idle": "2024-12-24T14:13:32.781849Z",
     "shell.execute_reply": "2024-12-24T14:13:32.780699Z"
    },
    "papermill": {
     "duration": 0.118777,
     "end_time": "2024-12-24T14:13:32.784590",
     "exception": false,
     "start_time": "2024-12-24T14:13:32.665813",
     "status": "completed"
    },
    "tags": []
   },
   "outputs": [],
   "source": [
    "# Drop rows with any missing values\n",
    "flights_cleaned = flights.dropna()\n",
    "\n",
    "# Drop rows with missing values in specific columns\n",
    "flights_cleaned = flights.dropna(subset=['TAIL_NUMBER', 'DEPARTURE_TIME'])\n",
    "\n",
    "# Drop columns with a high proportion of missing values\n",
    "columns_to_drop = ['CANCELLATION_REASON', 'AIR_SYSTEM_DELAY', 'SECURITY_DELAY', \n",
    "                  'AIRLINE_DELAY', 'LATE_AIRCRAFT_DELAY', 'WEATHER_DELAY']\n",
    "flights_cleaned = flights.drop(*columns_to_drop)"
   ]
  },
  {
   "cell_type": "markdown",
   "id": "d06f5cca",
   "metadata": {
    "papermill": {
     "duration": 0.029938,
     "end_time": "2024-12-24T14:13:32.849787",
     "exception": false,
     "start_time": "2024-12-24T14:13:32.819849",
     "status": "completed"
    },
    "tags": []
   },
   "source": [
    "#### **2. Filling Missing Values**\n",
    "   - Replace missing values with statistical measures or placeholders."
   ]
  },
  {
   "cell_type": "code",
   "execution_count": 10,
   "id": "6f4181e4",
   "metadata": {
    "execution": {
     "iopub.execute_input": "2024-12-24T14:13:32.888854Z",
     "iopub.status.busy": "2024-12-24T14:13:32.888447Z",
     "iopub.status.idle": "2024-12-24T14:13:35.098403Z",
     "shell.execute_reply": "2024-12-24T14:13:35.094476Z"
    },
    "papermill": {
     "duration": 2.233231,
     "end_time": "2024-12-24T14:13:35.101902",
     "exception": false,
     "start_time": "2024-12-24T14:13:32.868671",
     "status": "completed"
    },
    "tags": []
   },
   "outputs": [],
   "source": [
    "# Fill missing numerical values with mean or median\n",
    "flights = flights.fillna({'DEPARTURE_DELAY': flights.select(F.mean('DEPARTURE_DELAY')).collect()[0][0]})\n",
    "\n",
    "# Fill missing categorical values with a placeholder\n",
    "flights = flights.fillna({'TAIL_NUMBER': 'Unknown'})"
   ]
  },
  {
   "cell_type": "code",
   "execution_count": 11,
   "id": "5cb9c10e",
   "metadata": {
    "execution": {
     "iopub.execute_input": "2024-12-24T14:13:35.177063Z",
     "iopub.status.busy": "2024-12-24T14:13:35.175232Z",
     "iopub.status.idle": "2024-12-24T14:13:35.309978Z",
     "shell.execute_reply": "2024-12-24T14:13:35.308741Z"
    },
    "papermill": {
     "duration": 0.171304,
     "end_time": "2024-12-24T14:13:35.312596",
     "exception": false,
     "start_time": "2024-12-24T14:13:35.141292",
     "status": "completed"
    },
    "tags": []
   },
   "outputs": [],
   "source": [
    "from pyspark.sql.window import Window\n",
    "\n",
    "# Fill missing values forward\n",
    "window_spec = Window.partitionBy('ORIGIN_AIRPORT').orderBy('SCHEDULED_DEPARTURE')\n",
    "flights = flights.withColumn('DEPARTURE_TIME', \n",
    "                            F.last('DEPARTURE_TIME', ignorenulls=True).over(window_spec))"
   ]
  },
  {
   "cell_type": "code",
   "execution_count": 12,
   "id": "8849fe6e",
   "metadata": {
    "execution": {
     "iopub.execute_input": "2024-12-24T14:13:35.380230Z",
     "iopub.status.busy": "2024-12-24T14:13:35.379767Z",
     "iopub.status.idle": "2024-12-24T14:13:35.435147Z",
     "shell.execute_reply": "2024-12-24T14:13:35.429765Z"
    },
    "papermill": {
     "duration": 0.105123,
     "end_time": "2024-12-24T14:13:35.438197",
     "exception": false,
     "start_time": "2024-12-24T14:13:35.333074",
     "status": "completed"
    },
    "tags": []
   },
   "outputs": [],
   "source": [
    "# Replace missing ARRIVAL_DELAY values with DEPARTURE_DELAY + SCHEDULED_TIME (if logical)\n",
    "flights = flights.withColumn('ARRIVAL_DELAY', \n",
    "                            F.when(F.col('ARRIVAL_DELAY').isNull(), \n",
    "                                   F.col('DEPARTURE_DELAY') + F.col('SCHEDULED_TIME')).otherwise(F.col('ARRIVAL_DELAY')))"
   ]
  },
  {
   "cell_type": "code",
   "execution_count": 13,
   "id": "449d8c41",
   "metadata": {
    "execution": {
     "iopub.execute_input": "2024-12-24T14:13:35.487372Z",
     "iopub.status.busy": "2024-12-24T14:13:35.486948Z",
     "iopub.status.idle": "2024-12-24T14:13:40.201373Z",
     "shell.execute_reply": "2024-12-24T14:13:40.200338Z"
    },
    "papermill": {
     "duration": 4.737224,
     "end_time": "2024-12-24T14:13:40.203589",
     "exception": false,
     "start_time": "2024-12-24T14:13:35.466365",
     "status": "completed"
    },
    "tags": []
   },
   "outputs": [
    {
     "name": "stdout",
     "output_type": "stream",
     "text": [
      "Missing Values Per Column After Final Handling:\n",
      "YEAR_: 0\n",
      "MONTH_: 0\n",
      "DAY_: 0\n",
      "DAY_OF_WEEK: 0\n",
      "AIRLINE: 0\n",
      "FLIGHT_NUMBER: 0\n",
      "TAIL_NUMBER: 7750\n",
      "ORIGIN_AIRPORT: 0\n",
      "DESTINATION_AIRPORT: 0\n",
      "SCHEDULED_DEPARTURE: 0\n",
      "DEPARTURE_TIME: 39515\n",
      "DEPARTURE_DELAY: 39515\n",
      "TAXI_OUT: 40229\n",
      "WHEELS_OFF: 40229\n",
      "SCHEDULED_TIME: 2\n",
      "ELAPSED_TIME: 43071\n",
      "AIR_TIME: 43071\n",
      "DISTANCE: 0\n",
      "WHEELS_ON: 41296\n",
      "TAXI_IN: 41296\n",
      "SCHEDULED_ARRIVAL: 0\n",
      "ARRIVAL_TIME: 41296\n",
      "ARRIVAL_DELAY: 41296\n",
      "DIVERTED: 0\n",
      "CANCELLED: 0\n"
     ]
    }
   ],
   "source": [
    "# Impute ELAPSED_TIME if AIR_TIME, TAXI_OUT, and TAXI_IN are available\n",
    "flights_cleaned = flights_cleaned.withColumn(\n",
    "    'ELAPSED_TIME',\n",
    "    F.when(F.col('ELAPSED_TIME').isNull() & F.col('AIR_TIME').isNotNull() & F.col('TAXI_OUT').isNotNull() & F.col('TAXI_IN').isNotNull(),\n",
    "           F.col('AIR_TIME') + F.col('TAXI_OUT') + F.col('TAXI_IN')).otherwise(F.col('ELAPSED_TIME'))\n",
    ")\n",
    "\n",
    "# Impute AIR_TIME using ELAPSED_TIME\n",
    "flights_cleaned = flights_cleaned.withColumn(\n",
    "    'AIR_TIME',\n",
    "    F.when(F.col('AIR_TIME').isNull() & F.col('ELAPSED_TIME').isNotNull() & F.col('TAXI_OUT').isNotNull() & F.col('TAXI_IN').isNotNull(),\n",
    "           F.col('ELAPSED_TIME') - F.col('TAXI_OUT') - F.col('TAXI_IN')).otherwise(F.col('AIR_TIME'))\n",
    ")\n",
    "\n",
    "# Impute WHEELS_ON using WHEELS_OFF and AIR_TIME\n",
    "flights_cleaned = flights_cleaned.withColumn(\n",
    "    'WHEELS_ON',\n",
    "    F.when(F.col('WHEELS_ON').isNull() & F.col('WHEELS_OFF').isNotNull() & F.col('AIR_TIME').isNotNull(),\n",
    "           F.col('WHEELS_OFF') + F.col('AIR_TIME')).otherwise(F.col('WHEELS_ON'))\n",
    ")\n",
    "\n",
    "# Impute ARRIVAL_TIME using WHEELS_ON and TAXI_IN\n",
    "flights_cleaned = flights_cleaned.withColumn(\n",
    "    'ARRIVAL_TIME',\n",
    "    F.when(F.col('ARRIVAL_TIME').isNull() & F.col('WHEELS_ON').isNotNull() & F.col('TAXI_IN').isNotNull(),\n",
    "           F.col('WHEELS_ON') + F.col('TAXI_IN')).otherwise(F.col('ARRIVAL_TIME'))\n",
    ")\n",
    "\n",
    "# Impute TAXI_IN using ARRIVAL_TIME and WHEELS_ON\n",
    "flights_cleaned = flights_cleaned.withColumn(\n",
    "    'TAXI_IN',\n",
    "    F.when(F.col('TAXI_IN').isNull() & F.col('ARRIVAL_TIME').isNotNull() & F.col('WHEELS_ON').isNotNull(),\n",
    "           F.col('ARRIVAL_TIME') - F.col('WHEELS_ON')).otherwise(F.col('TAXI_IN'))\n",
    ")\n",
    "\n",
    "# Impute ARRIVAL_DELAY using ARRIVAL_TIME and SCHEDULED_ARRIVAL\n",
    "flights_cleaned = flights_cleaned.withColumn(\n",
    "    'ARRIVAL_DELAY',\n",
    "    F.when(F.col('ARRIVAL_DELAY').isNull() & F.col('ARRIVAL_TIME').isNotNull() & F.col('SCHEDULED_ARRIVAL').isNotNull(),\n",
    "           F.col('ARRIVAL_TIME') - F.col('SCHEDULED_ARRIVAL')).otherwise(F.col('ARRIVAL_DELAY'))\n",
    ")\n",
    "\n",
    "# Recheck missing values after further imputation\n",
    "missing_values_final = flights_cleaned.select([\n",
    "    F.count(F.when(F.col(c).isNull(), 1)).alias(c) for c in flights_cleaned.columns\n",
    "]).collect()[0]\n",
    "\n",
    "print(\"Missing Values Per Column After Final Handling:\")\n",
    "for col, count in missing_values_final.asDict().items():\n",
    "    print(f\"{col}: {count}\")\n"
   ]
  },
  {
   "cell_type": "markdown",
   "id": "398be8b9",
   "metadata": {
    "papermill": {
     "duration": 0.033934,
     "end_time": "2024-12-24T14:13:40.272546",
     "exception": false,
     "start_time": "2024-12-24T14:13:40.238612",
     "status": "completed"
    },
    "tags": []
   },
   "source": [
    "### **Step 6.3: Visualizing Missing Data**\n",
    "   - Understanding the extent and patterns of missing data is crucial.\n",
    "\n",
    "   **Visualization**:\n",
    "   PySpark doesn’t have built-in visualization tools, so exporting data to Pandas for missing data visualization is an option:"
   ]
  },
  {
   "cell_type": "code",
   "execution_count": 14,
   "id": "fb24d63b",
   "metadata": {
    "execution": {
     "iopub.execute_input": "2024-12-24T14:13:40.345093Z",
     "iopub.status.busy": "2024-12-24T14:13:40.344534Z",
     "iopub.status.idle": "2024-12-24T14:13:48.366696Z",
     "shell.execute_reply": "2024-12-24T14:13:48.365590Z"
    },
    "papermill": {
     "duration": 8.060931,
     "end_time": "2024-12-24T14:13:48.368470",
     "exception": false,
     "start_time": "2024-12-24T14:13:40.307539",
     "status": "completed"
    },
    "tags": []
   },
   "outputs": [
    {
     "name": "stdout",
     "output_type": "stream",
     "text": [
      "Missing Values Per Column After Handling:\n",
      "YEAR_: 0\n",
      "MONTH_: 0\n",
      "DAY_: 0\n",
      "DAY_OF_WEEK: 0\n",
      "AIRLINE: 0\n",
      "FLIGHT_NUMBER: 0\n",
      "TAIL_NUMBER: 7750\n",
      "ORIGIN_AIRPORT: 0\n",
      "DESTINATION_AIRPORT: 0\n",
      "SCHEDULED_DEPARTURE: 0\n",
      "DEPARTURE_TIME: 39515\n",
      "DEPARTURE_DELAY: 39515\n",
      "TAXI_OUT: 40229\n",
      "WHEELS_OFF: 40229\n",
      "SCHEDULED_TIME: 2\n",
      "ELAPSED_TIME: 43071\n",
      "AIR_TIME: 43071\n",
      "DISTANCE: 0\n",
      "WHEELS_ON: 41296\n",
      "TAXI_IN: 41296\n",
      "SCHEDULED_ARRIVAL: 0\n",
      "ARRIVAL_TIME: 41296\n",
      "ARRIVAL_DELAY: 41296\n",
      "DIVERTED: 0\n",
      "CANCELLED: 0\n"
     ]
    },
    {
     "data": {
      "image/png": "[encoded data removed]",
      "text/plain": [
       "<Figure size 1200x600 with 1 Axes>"
      ]
     },
     "metadata": {},
     "output_type": "display_data"
    }
   ],
   "source": [
    "# Count missing values for each column after handling\n",
    "missing_values_cleaned = flights_cleaned.select([\n",
    "    F.count(F.when(F.col(c).isNull(), 1)).alias(c) for c in flights_cleaned.columns\n",
    "]).collect()[0]\n",
    "\n",
    "# Format and print the results\n",
    "print(\"Missing Values Per Column After Handling:\")\n",
    "for col, count in missing_values_cleaned.asDict().items():\n",
    "    print(f\"{col}: {count}\")\n",
    "\n",
    "# Convert to Pandas for visualization\n",
    "missing_values_df = pd.DataFrame(flights_cleaned.select([\n",
    "    F.count(F.when(F.col(c).isNull(), 1)).alias(c) for c in flights_cleaned.columns\n",
    "]).collect()[0].asDict().items(), columns=['Column', 'MissingCount'])\n",
    "\n",
    "# Plot missing values\n",
    "import seaborn as sns\n",
    "import matplotlib.pyplot as plt\n",
    "\n",
    "plt.figure(figsize=(12, 6))\n",
    "sns.barplot(data=missing_values_df, x='Column', y='MissingCount')\n",
    "plt.title(\"Missing Values Per Column After Handling\")\n",
    "plt.xticks(rotation=90)\n",
    "plt.ylabel(\"Count of Missing Values\")\n",
    "plt.xlabel(\"Columns\")\n",
    "plt.show()"
   ]
  },
  {
   "cell_type": "markdown",
   "id": "daeba65e",
   "metadata": {
    "papermill": {
     "duration": 0.019487,
     "end_time": "2024-12-24T14:13:48.408262",
     "exception": false,
     "start_time": "2024-12-24T14:13:48.388775",
     "status": "completed"
    },
    "tags": []
   },
   "source": [
    "### **6.2 Dropping Columns**\n",
    "Columns that are not needed for analysis can be dropped:"
   ]
  },
  {
   "cell_type": "code",
   "execution_count": 15,
   "id": "e83fcce6",
   "metadata": {
    "execution": {
     "iopub.execute_input": "2024-12-24T14:13:48.449675Z",
     "iopub.status.busy": "2024-12-24T14:13:48.449004Z",
     "iopub.status.idle": "2024-12-24T14:13:48.484459Z",
     "shell.execute_reply": "2024-12-24T14:13:48.483159Z"
    },
    "papermill": {
     "duration": 0.059241,
     "end_time": "2024-12-24T14:13:48.487384",
     "exception": false,
     "start_time": "2024-12-24T14:13:48.428143",
     "status": "completed"
    },
    "tags": []
   },
   "outputs": [],
   "source": [
    "flights = flights.drop('AIR_SYSTEM_DELAY', 'SECURITY_DELAY', 'AIRLINE_DELAY', 'LATE_AIRCRAFT_DELAY', 'WEATHER_DELAY')\n",
    "\n",
    "columns_to_drop = [\n",
    "    \"CANCELLATION_REASON\", \n",
    "    \"AIR_SYSTEM_DELAY\", \n",
    "    \"SECURITY_DELAY\", \n",
    "    \"AIRLINE_DELAY\", \n",
    "    \"LATE_AIRCRAFT_DELAY\", \n",
    "    \"WEATHER_DELAY\"\n",
    "]\n",
    "flights = flights.drop(*columns_to_drop)\n"
   ]
  },
  {
   "cell_type": "markdown",
   "id": "48a879ad",
   "metadata": {
    "papermill": {
     "duration": 0.019914,
     "end_time": "2024-12-24T14:13:48.533789",
     "exception": false,
     "start_time": "2024-12-24T14:13:48.513875",
     "status": "completed"
    },
    "tags": []
   },
   "source": [
    "### **6.3 Replacing Null Values**\n",
    "Replace null values with default values:"
   ]
  },
  {
   "cell_type": "code",
   "execution_count": 16,
   "id": "d929b35f",
   "metadata": {
    "execution": {
     "iopub.execute_input": "2024-12-24T14:13:48.575050Z",
     "iopub.status.busy": "2024-12-24T14:13:48.574662Z",
     "iopub.status.idle": "2024-12-24T14:13:48.603131Z",
     "shell.execute_reply": "2024-12-24T14:13:48.602004Z"
    },
    "papermill": {
     "duration": 0.051516,
     "end_time": "2024-12-24T14:13:48.605400",
     "exception": false,
     "start_time": "2024-12-24T14:13:48.553884",
     "status": "completed"
    },
    "tags": []
   },
   "outputs": [],
   "source": [
    "flights = flights.fillna({\n",
    "    \"DEPARTURE_DELAY\": 0,\n",
    "    \"TAXI_OUT\": 0,\n",
    "    \"ELAPSED_TIME\": 0,\n",
    "    \"AIR_TIME\": 0,\n",
    "    \"DISTANCE\": 0\n",
    "})"
   ]
  },
  {
   "cell_type": "markdown",
   "id": "9943dce1",
   "metadata": {
    "papermill": {
     "duration": 0.020321,
     "end_time": "2024-12-24T14:13:48.646207",
     "exception": false,
     "start_time": "2024-12-24T14:13:48.625886",
     "status": "completed"
    },
    "tags": []
   },
   "source": [
    "## **Step 7: Data Transformation**\n",
    "\n",
    "### **7.1 Adding New Columns**\n",
    "Create a new column for flight duration in hours:"
   ]
  },
  {
   "cell_type": "code",
   "execution_count": 17,
   "id": "c307288c",
   "metadata": {
    "execution": {
     "iopub.execute_input": "2024-12-24T14:13:48.688018Z",
     "iopub.status.busy": "2024-12-24T14:13:48.687628Z",
     "iopub.status.idle": "2024-12-24T14:13:48.873449Z",
     "shell.execute_reply": "2024-12-24T14:13:48.872394Z"
    },
    "papermill": {
     "duration": 0.209545,
     "end_time": "2024-12-24T14:13:48.875984",
     "exception": false,
     "start_time": "2024-12-24T14:13:48.666439",
     "status": "completed"
    },
    "tags": []
   },
   "outputs": [
    {
     "name": "stdout",
     "output_type": "stream",
     "text": [
      "+--------+-----------------+\n",
      "|AIR_TIME|     duration_hrs|\n",
      "+--------+-----------------+\n",
      "|     169|2.816666666666667|\n",
      "|     263|4.383333333333334|\n",
      "|     266|4.433333333333334|\n",
      "|     258|              4.3|\n",
      "|     199|3.316666666666667|\n",
      "+--------+-----------------+\n",
      "only showing top 5 rows\n",
      "\n"
     ]
    }
   ],
   "source": [
    "flights = flights.withColumn(\"duration_hrs\", F.col(\"AIR_TIME\") / 60)\n",
    "flights.select(\"AIR_TIME\", \"duration_hrs\").show(5)"
   ]
  },
  {
   "cell_type": "markdown",
   "id": "c5864dc1",
   "metadata": {
    "papermill": {
     "duration": 0.037114,
     "end_time": "2024-12-24T14:13:48.941883",
     "exception": false,
     "start_time": "2024-12-24T14:13:48.904769",
     "status": "completed"
    },
    "tags": []
   },
   "source": [
    "### **7.2 Filtering Rows**\n",
    "Filter flights with delays greater than 30 minutes:"
   ]
  },
  {
   "cell_type": "code",
   "execution_count": 18,
   "id": "7ded13f4",
   "metadata": {
    "execution": {
     "iopub.execute_input": "2024-12-24T14:13:49.017847Z",
     "iopub.status.busy": "2024-12-24T14:13:49.017088Z",
     "iopub.status.idle": "2024-12-24T14:13:54.076234Z",
     "shell.execute_reply": "2024-12-24T14:13:54.073217Z"
    },
    "papermill": {
     "duration": 5.101148,
     "end_time": "2024-12-24T14:13:54.079252",
     "exception": false,
     "start_time": "2024-12-24T14:13:48.978104",
     "status": "completed"
    },
    "tags": []
   },
   "outputs": [
    {
     "name": "stdout",
     "output_type": "stream",
     "text": [
      "+-----+------+----+-----------+-------+-------------+-----------+--------------+-------------------+-------------------+--------------+---------------+--------+----------+--------------+------------+--------+--------+---------+-------+-----------------+------------+-------------+--------+---------+-------------------+\n",
      "|YEAR_|MONTH_|DAY_|DAY_OF_WEEK|AIRLINE|FLIGHT_NUMBER|TAIL_NUMBER|ORIGIN_AIRPORT|DESTINATION_AIRPORT|SCHEDULED_DEPARTURE|DEPARTURE_TIME|DEPARTURE_DELAY|TAXI_OUT|WHEELS_OFF|SCHEDULED_TIME|ELAPSED_TIME|AIR_TIME|DISTANCE|WHEELS_ON|TAXI_IN|SCHEDULED_ARRIVAL|ARRIVAL_TIME|ARRIVAL_DELAY|DIVERTED|CANCELLED|       duration_hrs|\n",
      "+-----+------+----+-----------+-------+-------------+-----------+--------------+-------------------+-------------------+--------------+---------------+--------+----------+--------------+------------+--------+--------+---------+-------+-----------------+------------+-------------+--------+---------+-------------------+\n",
      "| 2015|     1|  22|          4|     MQ|         3328|     N902MQ|           ACT|                DFW|                604|           553|            407|       9|      1300|            46|          42|      26|      89|     1326|      7|              650|        1333|          403|       0|        0|0.43333333333333335|\n",
      "| 2015|     2|   6|          5|     MQ|         3328|     N830MQ|           ACT|                DFW|                604|           553|            357|       4|      1205|            46|          49|      28|      89|     1233|     17|              650|        1250|          360|       0|        0| 0.4666666666666667|\n",
      "| 2015|     2|  24|          2|     MQ|         3328|     N843MQ|           ACT|                DFW|                604|           553|            246|      22|      1032|            46|          67|      26|      89|     1058|     19|              650|        1117|          267|       0|        0|0.43333333333333335|\n",
      "| 2015|     2|  27|          5|     MQ|         3328|     N806MQ|           ACT|                DFW|                604|           553|            188|       8|       920|            46|          42|      27|      89|      947|      7|              650|         954|          184|       0|        0|               0.45|\n",
      "| 2015|     1|   4|          7|     MQ|         2799|     N652MQ|           ACT|                DFW|               1020|          1033|             68|      11|      1139|            45|          47|      25|      89|     1204|     11|             1105|        1215|           70|       0|        0| 0.4166666666666667|\n",
      "+-----+------+----+-----------+-------+-------------+-----------+--------------+-------------------+-------------------+--------------+---------------+--------+----------+--------------+------------+--------+--------+---------+-------+-----------------+------------+-------------+--------+---------+-------------------+\n",
      "only showing top 5 rows\n",
      "\n"
     ]
    }
   ],
   "source": [
    "delayed_flights = flights.filter(F.col(\"DEPARTURE_DELAY\") > 30)\n",
    "delayed_flights.show(5)"
   ]
  },
  {
   "cell_type": "markdown",
   "id": "e03feee6",
   "metadata": {
    "papermill": {
     "duration": 0.034919,
     "end_time": "2024-12-24T14:13:54.151871",
     "exception": false,
     "start_time": "2024-12-24T14:13:54.116952",
     "status": "completed"
    },
    "tags": []
   },
   "source": [
    "### **7.3 Grouping and Aggregations**\n",
    "Find the average delay for each airline:"
   ]
  },
  {
   "cell_type": "code",
   "execution_count": 19,
   "id": "2aeb103c",
   "metadata": {
    "execution": {
     "iopub.execute_input": "2024-12-24T14:13:54.223891Z",
     "iopub.status.busy": "2024-12-24T14:13:54.222948Z",
     "iopub.status.idle": "2024-12-24T14:13:56.154268Z",
     "shell.execute_reply": "2024-12-24T14:13:56.150015Z"
    },
    "papermill": {
     "duration": 1.970279,
     "end_time": "2024-12-24T14:13:56.157065",
     "exception": false,
     "start_time": "2024-12-24T14:13:54.186786",
     "status": "completed"
    },
    "tags": []
   },
   "outputs": [
    {
     "name": "stdout",
     "output_type": "stream",
     "text": [
      "+-------+------------------+\n",
      "|AIRLINE|         avg_delay|\n",
      "+-------+------------------+\n",
      "|     UA|15.004406090907015|\n",
      "|     NK| 15.96033040995309|\n",
      "|     AA| 11.31399604301428|\n",
      "|     EV|11.305963706994227|\n",
      "|     B6|15.646344249018835|\n",
      "|     DL|  9.69044519479815|\n",
      "|     OO|11.255128432571732|\n",
      "|     F9| 22.99734133206081|\n",
      "|     US| 7.707486949230478|\n",
      "|     MQ| 17.33153725214843|\n",
      "|     HA| 1.568103021297672|\n",
      "|     AS|2.9537380968460862|\n",
      "|     VX|10.315870421993656|\n",
      "|     WN|10.090957912503498|\n",
      "+-------+------------------+\n",
      "\n"
     ]
    }
   ],
   "source": [
    "avg_delay = flights.groupBy(\"AIRLINE\").agg(F.avg(\"DEPARTURE_DELAY\").alias(\"avg_delay\"))\n",
    "avg_delay.show()"
   ]
  },
  {
   "cell_type": "markdown",
   "id": "6676fa36",
   "metadata": {
    "papermill": {
     "duration": 0.036741,
     "end_time": "2024-12-24T14:13:56.230033",
     "exception": false,
     "start_time": "2024-12-24T14:13:56.193292",
     "status": "completed"
    },
    "tags": []
   },
   "source": [
    "## **Step 8: SQL Queries**\n",
    "\n",
    "PySpark supports SQL queries using temporary views. \n",
    "\n",
    "### **8.1 Creating a Temporary View**"
   ]
  },
  {
   "cell_type": "code",
   "execution_count": 20,
   "id": "d864bf9e",
   "metadata": {
    "execution": {
     "iopub.execute_input": "2024-12-24T14:13:56.274347Z",
     "iopub.status.busy": "2024-12-24T14:13:56.273809Z",
     "iopub.status.idle": "2024-12-24T14:13:56.324110Z",
     "shell.execute_reply": "2024-12-24T14:13:56.322935Z"
    },
    "papermill": {
     "duration": 0.074169,
     "end_time": "2024-12-24T14:13:56.326520",
     "exception": false,
     "start_time": "2024-12-24T14:13:56.252351",
     "status": "completed"
    },
    "tags": []
   },
   "outputs": [],
   "source": [
    "flights.createOrReplaceTempView(\"flights_view\")"
   ]
  },
  {
   "cell_type": "markdown",
   "id": "fe02d50c",
   "metadata": {
    "papermill": {
     "duration": 0.02178,
     "end_time": "2024-12-24T14:13:56.376294",
     "exception": false,
     "start_time": "2024-12-24T14:13:56.354514",
     "status": "completed"
    },
    "tags": []
   },
   "source": [
    "### **8.2 Running SQL Queries**"
   ]
  },
  {
   "cell_type": "code",
   "execution_count": 21,
   "id": "0796b683",
   "metadata": {
    "execution": {
     "iopub.execute_input": "2024-12-24T14:13:56.420014Z",
     "iopub.status.busy": "2024-12-24T14:13:56.419498Z",
     "iopub.status.idle": "2024-12-24T14:13:58.663067Z",
     "shell.execute_reply": "2024-12-24T14:13:58.660685Z"
    },
    "papermill": {
     "duration": 2.267739,
     "end_time": "2024-12-24T14:13:58.665249",
     "exception": false,
     "start_time": "2024-12-24T14:13:56.397510",
     "status": "completed"
    },
    "tags": []
   },
   "outputs": [
    {
     "name": "stdout",
     "output_type": "stream",
     "text": [
      "+-------+------------------+\n",
      "|AIRLINE|         avg_delay|\n",
      "+-------+------------------+\n",
      "|     F9| 22.99734133206081|\n",
      "|     MQ| 17.33153725214843|\n",
      "|     NK| 15.96033040995309|\n",
      "|     B6|15.646344249018835|\n",
      "|     UA|15.004406090907015|\n",
      "|     AA| 11.31399604301428|\n",
      "|     EV|11.305963706994227|\n",
      "|     OO|11.255128432571732|\n",
      "|     VX|10.315870421993656|\n",
      "|     WN|10.090957912503498|\n",
      "|     DL|  9.69044519479815|\n",
      "|     US| 7.707486949230478|\n",
      "|     AS|2.9537380968460862|\n",
      "|     HA| 1.568103021297672|\n",
      "+-------+------------------+\n",
      "\n"
     ]
    }
   ],
   "source": [
    "sql_result = spark.sql(\"\"\"\n",
    "    SELECT AIRLINE, AVG(DEPARTURE_DELAY) as avg_delay\n",
    "    FROM flights_view\n",
    "    GROUP BY AIRLINE\n",
    "    ORDER BY avg_delay DESC\n",
    "\"\"\")\n",
    "sql_result.show()"
   ]
  },
  {
   "cell_type": "markdown",
   "id": "751d3ad1",
   "metadata": {
    "papermill": {
     "duration": 0.020366,
     "end_time": "2024-12-24T14:13:58.706592",
     "exception": false,
     "start_time": "2024-12-24T14:13:58.686226",
     "status": "completed"
    },
    "tags": []
   },
   "source": [
    "## **Step 9: Joining DataFrames**\n",
    "\n",
    "### **Joining Flights with Airlines**"
   ]
  },
  {
   "cell_type": "code",
   "execution_count": 22,
   "id": "4ae16be0",
   "metadata": {
    "execution": {
     "iopub.execute_input": "2024-12-24T14:13:58.748873Z",
     "iopub.status.busy": "2024-12-24T14:13:58.748469Z",
     "iopub.status.idle": "2024-12-24T14:14:03.150702Z",
     "shell.execute_reply": "2024-12-24T14:14:03.149604Z"
    },
    "papermill": {
     "duration": 4.426956,
     "end_time": "2024-12-24T14:14:03.154077",
     "exception": false,
     "start_time": "2024-12-24T14:13:58.727121",
     "status": "completed"
    },
    "tags": []
   },
   "outputs": [
    {
     "name": "stdout",
     "output_type": "stream",
     "text": [
      "+-----+------+----+-----------+-------+-------------+-----------+--------------+-------------------+-------------------+--------------+---------------+--------+----------+--------------+------------+--------+--------+---------+-------+-----------------+------------+-------------+--------+---------+-------------------+---------+--------------------+\n",
      "|YEAR_|MONTH_|DAY_|DAY_OF_WEEK|AIRLINE|FLIGHT_NUMBER|TAIL_NUMBER|ORIGIN_AIRPORT|DESTINATION_AIRPORT|SCHEDULED_DEPARTURE|DEPARTURE_TIME|DEPARTURE_DELAY|TAXI_OUT|WHEELS_OFF|SCHEDULED_TIME|ELAPSED_TIME|AIR_TIME|DISTANCE|WHEELS_ON|TAXI_IN|SCHEDULED_ARRIVAL|ARRIVAL_TIME|ARRIVAL_DELAY|DIVERTED|CANCELLED|       duration_hrs|IATA_CODE|             AIRLINE|\n",
      "+-----+------+----+-----------+-------+-------------+-----------+--------------+-------------------+-------------------+--------------+---------------+--------+----------+--------------+------------+--------+--------+---------+-------+-----------------+------------+-------------+--------+---------+-------------------+---------+--------------------+\n",
      "| 2015|     1|   6|          2|     MQ|         3328|     N821MQ|           ACT|                DFW|                604|           553|             11|       0|      NULL|            46|           0|       0|      89|     NULL|   NULL|              650|        NULL|           57|       0|        1|                0.0|       MQ|American Eagle Ai...|\n",
      "| 2015|     1|   7|          3|     MQ|         3328|     N845MQ|           ACT|                DFW|                604|           553|             -3|       9|       610|            46|          36|      23|      89|      633|      4|              650|         637|          -13|       0|        0|0.38333333333333336|       MQ|American Eagle Ai...|\n",
      "| 2015|     1|   8|          4|     MQ|         3328|     N817MQ|           ACT|                DFW|                604|           553|            -10|      12|       606|            46|          41|      22|      89|      628|      7|              650|         635|          -15|       0|        0|0.36666666666666664|       MQ|American Eagle Ai...|\n",
      "| 2015|     1|   9|          5|     MQ|         3328|     N831MQ|           ACT|                DFW|                604|           553|             -4|       7|       607|            46|          40|      26|      89|      633|      7|              650|         640|          -10|       0|        0|0.43333333333333335|       MQ|American Eagle Ai...|\n",
      "| 2015|     1|  10|          6|     MQ|         3328|     N689MQ|           ACT|                DFW|                604|           553|             -7|      14|       611|            46|          49|      30|      89|      641|      5|              650|         646|           -4|       0|        0|                0.5|       MQ|American Eagle Ai...|\n",
      "+-----+------+----+-----------+-------+-------------+-----------+--------------+-------------------+-------------------+--------------+---------------+--------+----------+--------------+------------+--------+--------+---------+-------+-----------------+------------+-------------+--------+---------+-------------------+---------+--------------------+\n",
      "only showing top 5 rows\n",
      "\n"
     ]
    }
   ],
   "source": [
    "flights_with_airlines = flights.join(airlines, flights.AIRLINE == airlines.IATA_CODE, \"inner\")\n",
    "flights_with_airlines.show(5)"
   ]
  },
  {
   "cell_type": "markdown",
   "id": "5bc2171d",
   "metadata": {
    "papermill": {
     "duration": 0.028218,
     "end_time": "2024-12-24T14:14:03.220756",
     "exception": false,
     "start_time": "2024-12-24T14:14:03.192538",
     "status": "completed"
    },
    "tags": []
   },
   "source": [
    "## **Step 10: Saving the Data**\n",
    "\n",
    "Save the DataFrame in Parquet format for optimized storage and querying:"
   ]
  },
  {
   "cell_type": "code",
   "execution_count": 23,
   "id": "cb848ee8",
   "metadata": {
    "execution": {
     "iopub.execute_input": "2024-12-24T14:14:03.263626Z",
     "iopub.status.busy": "2024-12-24T14:14:03.263281Z",
     "iopub.status.idle": "2024-12-24T14:14:14.945286Z",
     "shell.execute_reply": "2024-12-24T14:14:14.944034Z"
    },
    "papermill": {
     "duration": 11.706553,
     "end_time": "2024-12-24T14:14:14.948005",
     "exception": false,
     "start_time": "2024-12-24T14:14:03.241452",
     "status": "completed"
    },
    "tags": []
   },
   "outputs": [],
   "source": [
    "flights.write.parquet(\"flights.parquet\", mode=\"overwrite\")"
   ]
  },
  {
   "cell_type": "markdown",
   "id": "2f92f23a",
   "metadata": {
    "papermill": {
     "duration": 0.020117,
     "end_time": "2024-12-24T14:14:14.989097",
     "exception": false,
     "start_time": "2024-12-24T14:14:14.968980",
     "status": "completed"
    },
    "tags": []
   },
   "source": [
    "## **Step 11: Advanced PySpark**\n",
    "\n",
    "### **11.1 Caching**\n",
    "Cache data for faster repeated operations:"
   ]
  },
  {
   "cell_type": "code",
   "execution_count": 24,
   "id": "5f2ee773",
   "metadata": {
    "execution": {
     "iopub.execute_input": "2024-12-24T14:14:15.031486Z",
     "iopub.status.busy": "2024-12-24T14:14:15.031129Z",
     "iopub.status.idle": "2024-12-24T14:14:15.096685Z",
     "shell.execute_reply": "2024-12-24T14:14:15.095336Z"
    },
    "papermill": {
     "duration": 0.089044,
     "end_time": "2024-12-24T14:14:15.098628",
     "exception": false,
     "start_time": "2024-12-24T14:14:15.009584",
     "status": "completed"
    },
    "tags": []
   },
   "outputs": [
    {
     "name": "stdout",
     "output_type": "stream",
     "text": [
      "True\n"
     ]
    }
   ],
   "source": [
    "## **Step 11: Advanced PySpark**\n",
    "\n",
    "flights.cache()\n",
    "print(flights.is_cached)  # True if cached"
   ]
  },
  {
   "cell_type": "markdown",
   "id": "9ecb5230",
   "metadata": {
    "papermill": {
     "duration": 0.020459,
     "end_time": "2024-12-24T14:14:15.140214",
     "exception": false,
     "start_time": "2024-12-24T14:14:15.119755",
     "status": "completed"
    },
    "tags": []
   },
   "source": [
    "### **11.2 Partitioning**\n",
    "Partition the data for better performance in distributed systems:"
   ]
  },
  {
   "cell_type": "code",
   "execution_count": 25,
   "id": "dabcae3b",
   "metadata": {
    "execution": {
     "iopub.execute_input": "2024-12-24T14:14:15.184894Z",
     "iopub.status.busy": "2024-12-24T14:14:15.184514Z",
     "iopub.status.idle": "2024-12-24T14:14:15.195519Z",
     "shell.execute_reply": "2024-12-24T14:14:15.194222Z"
    },
    "papermill": {
     "duration": 0.037065,
     "end_time": "2024-12-24T14:14:15.197727",
     "exception": false,
     "start_time": "2024-12-24T14:14:15.160662",
     "status": "completed"
    },
    "tags": []
   },
   "outputs": [],
   "source": [
    "flights = flights.repartition(5)  # 5 partitions"
   ]
  },
  {
   "cell_type": "markdown",
   "id": "909d637d",
   "metadata": {
    "papermill": {
     "duration": 0.020059,
     "end_time": "2024-12-24T14:14:15.242028",
     "exception": false,
     "start_time": "2024-12-24T14:14:15.221969",
     "status": "completed"
    },
    "tags": []
   },
   "source": [
    "### **11.3 Writing Custom Functions**\n",
    "Apply a custom Python function using `.withColumn`:"
   ]
  },
  {
   "cell_type": "code",
   "execution_count": 26,
   "id": "b0eb496d",
   "metadata": {
    "execution": {
     "iopub.execute_input": "2024-12-24T14:14:15.284498Z",
     "iopub.status.busy": "2024-12-24T14:14:15.284076Z",
     "iopub.status.idle": "2024-12-24T14:14:33.052137Z",
     "shell.execute_reply": "2024-12-24T14:14:33.049557Z"
    },
    "papermill": {
     "duration": 17.79248,
     "end_time": "2024-12-24T14:14:33.055108",
     "exception": false,
     "start_time": "2024-12-24T14:14:15.262628",
     "status": "completed"
    },
    "tags": []
   },
   "outputs": [
    {
     "name": "stdout",
     "output_type": "stream",
     "text": [
      "+---------------+-----------+\n",
      "|DEPARTURE_DELAY|Delay_Label|\n",
      "+---------------+-----------+\n",
      "|            108| High Delay|\n",
      "|             87| High Delay|\n",
      "|            -11|  Low Delay|\n",
      "|             -5|  Low Delay|\n",
      "|              0|  Low Delay|\n",
      "+---------------+-----------+\n",
      "only showing top 5 rows\n",
      "\n"
     ]
    }
   ],
   "source": [
    "from pyspark.sql.types import StringType\n",
    "\n",
    "def label_delay(delay):\n",
    "    return \"High Delay\" if delay > 60 else \"Low Delay\"\n",
    "\n",
    "# Register the function\n",
    "label_delay_udf = F.udf(label_delay, StringType())\n",
    "\n",
    "# Apply to DataFrame\n",
    "flights = flights.withColumn(\"Delay_Label\", label_delay_udf(\"DEPARTURE_DELAY\"))\n",
    "flights.select(\"DEPARTURE_DELAY\", \"Delay_Label\").show(5)"
   ]
  },
  {
   "cell_type": "markdown",
   "id": "2f313093",
   "metadata": {
    "papermill": {
     "duration": 0.020403,
     "end_time": "2024-12-24T14:14:33.099706",
     "exception": false,
     "start_time": "2024-12-24T14:14:33.079303",
     "status": "completed"
    },
    "tags": []
   },
   "source": [
    "## **Step 12: Visualization**\n",
    "\n",
    "To visualize the results, convert to Pandas:"
   ]
  },
  {
   "cell_type": "code",
   "execution_count": 27,
   "id": "4bf8dc1d",
   "metadata": {
    "execution": {
     "iopub.execute_input": "2024-12-24T14:14:33.232418Z",
     "iopub.status.busy": "2024-12-24T14:14:33.231998Z",
     "iopub.status.idle": "2024-12-24T14:14:36.358552Z",
     "shell.execute_reply": "2024-12-24T14:14:36.357178Z"
    },
    "papermill": {
     "duration": 3.240521,
     "end_time": "2024-12-24T14:14:36.360581",
     "exception": false,
     "start_time": "2024-12-24T14:14:33.120060",
     "status": "completed"
    },
    "tags": []
   },
   "outputs": [
    {
     "data": {
      "image/png": "[encoded data removed]",
      "text/plain": [
       "<Figure size 1000x600 with 1 Axes>"
      ]
     },
     "metadata": {},
     "output_type": "display_data"
    }
   ],
   "source": [
    "import matplotlib.pyplot as plt\n",
    "\n",
    "# Example: Plot average delays per airline\n",
    "avg_delay_pd = avg_delay.toPandas()\n",
    "avg_delay_pd.plot(kind='bar', x='AIRLINE', y='avg_delay', legend=False, figsize=(10, 6))\n",
    "plt.title(\"Average Delay by Airline\")\n",
    "plt.ylabel(\"Average Delay (minutes)\")\n",
    "plt.show()"
   ]
  },
  {
   "cell_type": "markdown",
   "id": "c26f1515",
   "metadata": {
    "papermill": {
     "duration": 0.02093,
     "end_time": "2024-12-24T14:14:36.403107",
     "exception": false,
     "start_time": "2024-12-24T14:14:36.382177",
     "status": "completed"
    },
    "tags": []
   },
   "source": [
    "---\n",
    "### **Advanced Topics in PySpark: Machine Learning and Optimization**\n",
    "\n",
    "This section explores how to apply **machine learning (ML)** and **optimization techniques** using PySpark. We'll use the **Flight Delay dataset** to predict delays and optimize data processing workflows.\n"
   ]
  },
  {
   "cell_type": "markdown",
   "id": "e8e00be7",
   "metadata": {
    "papermill": {
     "duration": 0.021079,
     "end_time": "2024-12-24T14:14:36.445532",
     "exception": false,
     "start_time": "2024-12-24T14:14:36.424453",
     "status": "completed"
    },
    "tags": []
   },
   "source": [
    "## **Step 13: Introduction to PySpark MLlib**\n",
    "\n",
    "PySpark’s `MLlib` provides tools for machine learning, including:\n",
    "- Data preparation\n",
    "- Feature transformation\n",
    "- Model training and evaluation\n",
    "\n",
    "### **MLlib Key Concepts**\n",
    "1. **DataFrame-Based API**: Works seamlessly with PySpark DataFrames.\n",
    "2. **Pipeline Architecture**: Simplifies building workflows by chaining steps.\n",
    "3. **Scalability**: Optimized for big data."
   ]
  },
  {
   "cell_type": "markdown",
   "id": "6fbb73f8",
   "metadata": {
    "papermill": {
     "duration": 0.021537,
     "end_time": "2024-12-24T14:14:36.488284",
     "exception": false,
     "start_time": "2024-12-24T14:14:36.466747",
     "status": "completed"
    },
    "tags": []
   },
   "source": [
    "## **Step 14: Feature Engineering**\n",
    "\n",
    "Machine learning requires numerical features. Here’s how to prepare the data:\n",
    "\n",
    "### **14.1 Label Encoding**\n",
    "Convert categorical columns (e.g., `AIRLINE`) to numeric values:"
   ]
  },
  {
   "cell_type": "code",
   "execution_count": 28,
   "id": "22f9a901",
   "metadata": {
    "execution": {
     "iopub.execute_input": "2024-12-24T14:14:36.532518Z",
     "iopub.status.busy": "2024-12-24T14:14:36.532167Z",
     "iopub.status.idle": "2024-12-24T14:14:41.409499Z",
     "shell.execute_reply": "2024-12-24T14:14:41.408318Z"
    },
    "papermill": {
     "duration": 4.902713,
     "end_time": "2024-12-24T14:14:41.412424",
     "exception": false,
     "start_time": "2024-12-24T14:14:36.509711",
     "status": "completed"
    },
    "tags": []
   },
   "outputs": [
    {
     "name": "stdout",
     "output_type": "stream",
     "text": [
      "+-------+---------------+\n",
      "|AIRLINE|AIRLINE_Indexed|\n",
      "+-------+---------------+\n",
      "|     EV|            2.0|\n",
      "|     EV|            2.0|\n",
      "|     EV|            2.0|\n",
      "|     EV|            2.0|\n",
      "|     EV|            2.0|\n",
      "+-------+---------------+\n",
      "only showing top 5 rows\n",
      "\n"
     ]
    }
   ],
   "source": [
    "from pyspark.ml.feature import StringIndexer\n",
    "\n",
    "indexer = StringIndexer(inputCol=\"AIRLINE\", outputCol=\"AIRLINE_Indexed\")\n",
    "flights = indexer.fit(flights).transform(flights)\n",
    "flights.select(\"AIRLINE\", \"AIRLINE_Indexed\").show(5)"
   ]
  },
  {
   "cell_type": "markdown",
   "id": "621c858d",
   "metadata": {
    "papermill": {
     "duration": 0.028182,
     "end_time": "2024-12-24T14:14:41.469224",
     "exception": false,
     "start_time": "2024-12-24T14:14:41.441042",
     "status": "completed"
    },
    "tags": []
   },
   "source": [
    "### **14.2 Vector Assembler**\n",
    "Combine multiple columns into a single feature vector:"
   ]
  },
  {
   "cell_type": "code",
   "execution_count": 29,
   "id": "9a5e3f99",
   "metadata": {
    "execution": {
     "iopub.execute_input": "2024-12-24T14:14:41.522981Z",
     "iopub.status.busy": "2024-12-24T14:14:41.522542Z",
     "iopub.status.idle": "2024-12-24T14:14:44.192666Z",
     "shell.execute_reply": "2024-12-24T14:14:44.191707Z"
    },
    "papermill": {
     "duration": 2.69687,
     "end_time": "2024-12-24T14:14:44.196391",
     "exception": false,
     "start_time": "2024-12-24T14:14:41.499521",
     "status": "completed"
    },
    "tags": []
   },
   "outputs": [
    {
     "name": "stdout",
     "output_type": "stream",
     "text": [
      "+------+----+---------------+--------+---------------+\n",
      "|MONTH_|DAY_|AIRLINE_Indexed|DISTANCE|DEPARTURE_DELAY|\n",
      "+------+----+---------------+--------+---------------+\n",
      "|  NULL|NULL|           NULL|    NULL|           NULL|\n",
      "+------+----+---------------+--------+---------------+\n",
      "\n"
     ]
    }
   ],
   "source": [
    "flights.select([F.sum(F.when(F.col(c).isNull(), 1)).alias(c) for c in [\"MONTH_\", \"DAY_\", \"AIRLINE_Indexed\", \"DISTANCE\", \"DEPARTURE_DELAY\"]]).show()\n"
   ]
  },
  {
   "cell_type": "code",
   "execution_count": 30,
   "id": "3b1fc918",
   "metadata": {
    "execution": {
     "iopub.execute_input": "2024-12-24T14:14:44.272659Z",
     "iopub.status.busy": "2024-12-24T14:14:44.271972Z",
     "iopub.status.idle": "2024-12-24T14:14:44.312631Z",
     "shell.execute_reply": "2024-12-24T14:14:44.308197Z"
    },
    "papermill": {
     "duration": 0.083391,
     "end_time": "2024-12-24T14:14:44.317730",
     "exception": false,
     "start_time": "2024-12-24T14:14:44.234339",
     "status": "completed"
    },
    "tags": []
   },
   "outputs": [],
   "source": [
    "flights = flights.fillna({\n",
    "    \"MONTH_\": 1,               # Default to January\n",
    "    \"DAY_\": 1,                 # Default to the 1st day of the month\n",
    "    \"AIRLINE_Indexed\": 0.0,    # Default to an index value\n",
    "    \"DISTANCE\": 0,             # Default distance\n",
    "    \"DEPARTURE_DELAY\": 0       # Default delay\n",
    "})"
   ]
  },
  {
   "cell_type": "code",
   "execution_count": 31,
   "id": "28e36c38",
   "metadata": {
    "execution": {
     "iopub.execute_input": "2024-12-24T14:14:44.366310Z",
     "iopub.status.busy": "2024-12-24T14:14:44.365920Z",
     "iopub.status.idle": "2024-12-24T14:14:47.384237Z",
     "shell.execute_reply": "2024-12-24T14:14:47.383043Z"
    },
    "papermill": {
     "duration": 3.044402,
     "end_time": "2024-12-24T14:14:47.387198",
     "exception": false,
     "start_time": "2024-12-24T14:14:44.342796",
     "status": "completed"
    },
    "tags": []
   },
   "outputs": [
    {
     "name": "stdout",
     "output_type": "stream",
     "text": [
      "+-------------------------+-------------+\n",
      "|features                 |ARRIVAL_DELAY|\n",
      "+-------------------------+-------------+\n",
      "|[2.0,16.0,2.0,378.0,49.0]|34           |\n",
      "|[2.0,12.0,2.0,378.0,-2.0]|33           |\n",
      "|[2.0,12.0,2.0,378.0,-5.0]|17           |\n",
      "|[2.0,26.0,2.0,378.0,-5.0]|-24          |\n",
      "|[2.0,19.0,2.0,378.0,8.0] |7            |\n",
      "+-------------------------+-------------+\n",
      "only showing top 5 rows\n",
      "\n"
     ]
    }
   ],
   "source": [
    "from pyspark.ml.feature import VectorAssembler\n",
    "\n",
    "assembler = VectorAssembler(\n",
    "    inputCols=[\"MONTH_\", \"DAY_\", \"AIRLINE_Indexed\", \"DISTANCE\", \"DEPARTURE_DELAY\"],\n",
    "    outputCol=\"features\"\n",
    ")\n",
    "flights = assembler.transform(flights)\n",
    "flights.select(\"features\", \"ARRIVAL_DELAY\").show(5, truncate=False)"
   ]
  },
  {
   "cell_type": "markdown",
   "id": "9d5ffc32",
   "metadata": {
    "papermill": {
     "duration": 0.021269,
     "end_time": "2024-12-24T14:14:47.430673",
     "exception": false,
     "start_time": "2024-12-24T14:14:47.409404",
     "status": "completed"
    },
    "tags": []
   },
   "source": [
    "## **Step 15: Splitting the Data**\n",
    "\n",
    "Split the dataset into training and testing sets:"
   ]
  },
  {
   "cell_type": "code",
   "execution_count": 32,
   "id": "c72b2c37",
   "metadata": {
    "execution": {
     "iopub.execute_input": "2024-12-24T14:14:47.475441Z",
     "iopub.status.busy": "2024-12-24T14:14:47.475052Z",
     "iopub.status.idle": "2024-12-24T14:14:49.832427Z",
     "shell.execute_reply": "2024-12-24T14:14:49.831162Z"
    },
    "papermill": {
     "duration": 2.382561,
     "end_time": "2024-12-24T14:14:49.834650",
     "exception": false,
     "start_time": "2024-12-24T14:14:47.452089",
     "status": "completed"
    },
    "tags": []
   },
   "outputs": [],
   "source": [
    "flights.filter(F.col(\"ARRIVAL_DELAY\").isNull()).count()  # Count nulls\n",
    "flights.filter(F.isnan(\"ARRIVAL_DELAY\")).count()        # Count NaN values\n",
    "flights = flights.fillna({\"ARRIVAL_DELAY\": 0})"
   ]
  },
  {
   "cell_type": "code",
   "execution_count": 33,
   "id": "680ac96c",
   "metadata": {
    "execution": {
     "iopub.execute_input": "2024-12-24T14:14:49.887813Z",
     "iopub.status.busy": "2024-12-24T14:14:49.887282Z",
     "iopub.status.idle": "2024-12-24T14:15:11.180702Z",
     "shell.execute_reply": "2024-12-24T14:15:11.179557Z"
    },
    "papermill": {
     "duration": 21.31929,
     "end_time": "2024-12-24T14:15:11.183276",
     "exception": false,
     "start_time": "2024-12-24T14:14:49.863986",
     "status": "completed"
    },
    "tags": []
   },
   "outputs": [
    {
     "name": "stdout",
     "output_type": "stream",
     "text": [
      "Training Data Count: 838546\n",
      "Test Data Count: 210029\n"
     ]
    }
   ],
   "source": [
    "train_data, test_data = flights.randomSplit([0.8, 0.2], seed=42)\n",
    "print(f\"Training Data Count: {train_data.count()}\")\n",
    "print(f\"Test Data Count: {test_data.count()}\")"
   ]
  },
  {
   "cell_type": "markdown",
   "id": "9d4be330",
   "metadata": {
    "papermill": {
     "duration": 0.02124,
     "end_time": "2024-12-24T14:15:11.239564",
     "exception": false,
     "start_time": "2024-12-24T14:15:11.218324",
     "status": "completed"
    },
    "tags": []
   },
   "source": [
    "## **Step 16: Building a Machine Learning Model**\n",
    "\n",
    "### **16.1 Linear Regression**\n",
    "Train a regression model to predict `ARRIVAL_DELAY`:"
   ]
  },
  {
   "cell_type": "code",
   "execution_count": 34,
   "id": "64177473",
   "metadata": {
    "execution": {
     "iopub.execute_input": "2024-12-24T14:15:11.298961Z",
     "iopub.status.busy": "2024-12-24T14:15:11.298526Z",
     "iopub.status.idle": "2024-12-24T14:15:34.395321Z",
     "shell.execute_reply": "2024-12-24T14:15:34.394137Z"
    },
    "papermill": {
     "duration": 23.135353,
     "end_time": "2024-12-24T14:15:34.397110",
     "exception": false,
     "start_time": "2024-12-24T14:15:11.261757",
     "status": "completed"
    },
    "tags": []
   },
   "outputs": [
    {
     "name": "stdout",
     "output_type": "stream",
     "text": [
      "Coefficients: [2.47120258963848,0.0015124431360829973,0.8166959731972462,-0.0006612515087532476,1.024591248547874]\n",
      "Intercept: -4.86385642606268\n"
     ]
    }
   ],
   "source": [
    "from pyspark.ml.regression import LinearRegression\n",
    "\n",
    "lr = LinearRegression(featuresCol=\"features\", labelCol=\"ARRIVAL_DELAY\")\n",
    "lr_model = lr.fit(train_data)\n",
    "\n",
    "print(f\"Coefficients: {lr_model.coefficients}\")\n",
    "print(f\"Intercept: {lr_model.intercept}\")"
   ]
  },
  {
   "cell_type": "markdown",
   "id": "1bfed3f0",
   "metadata": {
    "papermill": {
     "duration": 0.021064,
     "end_time": "2024-12-24T14:15:34.439880",
     "exception": false,
     "start_time": "2024-12-24T14:15:34.418816",
     "status": "completed"
    },
    "tags": []
   },
   "source": [
    "### **16.2 Evaluating the Model**\n",
    "Evaluate the model on test data:"
   ]
  },
  {
   "cell_type": "code",
   "execution_count": 35,
   "id": "ba8b9af0",
   "metadata": {
    "execution": {
     "iopub.execute_input": "2024-12-24T14:15:34.485380Z",
     "iopub.status.busy": "2024-12-24T14:15:34.485037Z",
     "iopub.status.idle": "2024-12-24T14:15:42.699349Z",
     "shell.execute_reply": "2024-12-24T14:15:42.698134Z"
    },
    "papermill": {
     "duration": 8.239947,
     "end_time": "2024-12-24T14:15:42.701073",
     "exception": false,
     "start_time": "2024-12-24T14:15:34.461126",
     "status": "completed"
    },
    "tags": []
   },
   "outputs": [
    {
     "name": "stdout",
     "output_type": "stream",
     "text": [
      "RMSE: 33.514249981469305\n",
      "R^2: 0.5902764656968167\n"
     ]
    }
   ],
   "source": [
    "test_results = lr_model.evaluate(test_data)\n",
    "\n",
    "print(f\"RMSE: {test_results.rootMeanSquaredError}\")\n",
    "print(f\"R^2: {test_results.r2}\")"
   ]
  },
  {
   "cell_type": "markdown",
   "id": "24e3eb5a",
   "metadata": {
    "papermill": {
     "duration": 0.02101,
     "end_time": "2024-12-24T14:15:42.743699",
     "exception": false,
     "start_time": "2024-12-24T14:15:42.722689",
     "status": "completed"
    },
    "tags": []
   },
   "source": [
    "### **16.3 Random Forest for Classification**\n",
    "Use Random Forest to classify flights as **on-time** or **delayed**:"
   ]
  },
  {
   "cell_type": "code",
   "execution_count": 36,
   "id": "1da8ccec",
   "metadata": {
    "execution": {
     "iopub.execute_input": "2024-12-24T14:15:42.789126Z",
     "iopub.status.busy": "2024-12-24T14:15:42.788728Z",
     "iopub.status.idle": "2024-12-24T14:15:44.455922Z",
     "shell.execute_reply": "2024-12-24T14:15:44.454664Z"
    },
    "papermill": {
     "duration": 1.694226,
     "end_time": "2024-12-24T14:15:44.459435",
     "exception": false,
     "start_time": "2024-12-24T14:15:42.765209",
     "status": "completed"
    },
    "tags": []
   },
   "outputs": [
    {
     "name": "stdout",
     "output_type": "stream",
     "text": [
      "+-------------+-------+\n",
      "|ARRIVAL_DELAY|Delayed|\n",
      "+-------------+-------+\n",
      "|          -13|      0|\n",
      "|            3|      0|\n",
      "|            0|      0|\n",
      "|            5|      0|\n",
      "|           84|      1|\n",
      "+-------------+-------+\n",
      "only showing top 5 rows\n",
      "\n",
      "root\n",
      " |-- YEAR_: integer (nullable = true)\n",
      " |-- MONTH_: integer (nullable = false)\n",
      " |-- DAY_: integer (nullable = false)\n",
      " |-- DAY_OF_WEEK: integer (nullable = true)\n",
      " |-- AIRLINE: string (nullable = true)\n",
      " |-- FLIGHT_NUMBER: integer (nullable = true)\n",
      " |-- TAIL_NUMBER: string (nullable = false)\n",
      " |-- ORIGIN_AIRPORT: string (nullable = true)\n",
      " |-- DESTINATION_AIRPORT: string (nullable = true)\n",
      " |-- SCHEDULED_DEPARTURE: integer (nullable = true)\n",
      " |-- DEPARTURE_TIME: integer (nullable = true)\n",
      " |-- DEPARTURE_DELAY: integer (nullable = false)\n",
      " |-- TAXI_OUT: integer (nullable = false)\n",
      " |-- WHEELS_OFF: integer (nullable = true)\n",
      " |-- SCHEDULED_TIME: integer (nullable = true)\n",
      " |-- ELAPSED_TIME: integer (nullable = false)\n",
      " |-- AIR_TIME: integer (nullable = false)\n",
      " |-- DISTANCE: integer (nullable = false)\n",
      " |-- WHEELS_ON: integer (nullable = true)\n",
      " |-- TAXI_IN: integer (nullable = true)\n",
      " |-- SCHEDULED_ARRIVAL: integer (nullable = true)\n",
      " |-- ARRIVAL_TIME: integer (nullable = true)\n",
      " |-- ARRIVAL_DELAY: integer (nullable = false)\n",
      " |-- DIVERTED: integer (nullable = true)\n",
      " |-- CANCELLED: integer (nullable = true)\n",
      " |-- duration_hrs: double (nullable = true)\n",
      " |-- Delay_Label: string (nullable = true)\n",
      " |-- AIRLINE_Indexed: double (nullable = false)\n",
      " |-- features: vector (nullable = true)\n",
      " |-- Delayed: integer (nullable = false)\n",
      "\n"
     ]
    }
   ],
   "source": [
    "flights = flights.withColumn(\"Delayed\", F.when(F.col(\"ARRIVAL_DELAY\") > 15, 1).otherwise(0))\n",
    "flights.select(\"ARRIVAL_DELAY\", \"Delayed\").show(5)\n",
    "flights.printSchema()"
   ]
  },
  {
   "cell_type": "code",
   "execution_count": 37,
   "id": "923ad732",
   "metadata": {
    "execution": {
     "iopub.execute_input": "2024-12-24T14:15:44.505421Z",
     "iopub.status.busy": "2024-12-24T14:15:44.505065Z",
     "iopub.status.idle": "2024-12-24T14:16:37.950274Z",
     "shell.execute_reply": "2024-12-24T14:16:37.948745Z"
    },
    "papermill": {
     "duration": 53.492495,
     "end_time": "2024-12-24T14:16:37.974741",
     "exception": false,
     "start_time": "2024-12-24T14:15:44.482246",
     "status": "completed"
    },
    "tags": []
   },
   "outputs": [
    {
     "name": "stdout",
     "output_type": "stream",
     "text": [
      "+-------+----------+----------------------------------------+\n",
      "|Delayed|prediction|probability                             |\n",
      "+-------+----------+----------------------------------------+\n",
      "|0      |0.0       |[0.9257673684934116,0.07423263150658853]|\n",
      "|1      |1.0       |[0.30712129939409455,0.6928787006059054]|\n",
      "|0      |0.0       |[0.9257673684934116,0.07423263150658853]|\n",
      "|0      |0.0       |[0.9257673684934116,0.07423263150658853]|\n",
      "|1      |0.0       |[0.9257673684934116,0.07423263150658853]|\n",
      "+-------+----------+----------------------------------------+\n",
      "only showing top 5 rows\n",
      "\n"
     ]
    }
   ],
   "source": [
    "from pyspark.ml.classification import RandomForestClassifier\n",
    "\n",
    "train_data, test_data = flights.randomSplit([0.8, 0.2], seed=42)\n",
    "\n",
    "# Add a binary label for delay classification\n",
    "flights = flights.withColumn(\"Delayed\", F.when(F.col(\"ARRIVAL_DELAY\") > 15, 1).otherwise(0))\n",
    "\n",
    "# Train the model\n",
    "rf = RandomForestClassifier(featuresCol=\"features\", labelCol=\"Delayed\")\n",
    "rf_model = rf.fit(train_data)\n",
    "\n",
    "# Predict\n",
    "predictions = rf_model.transform(test_data)\n",
    "predictions.select(\"Delayed\", \"prediction\", \"probability\").show(5, truncate=False)"
   ]
  },
  {
   "cell_type": "markdown",
   "id": "d2ae8a58",
   "metadata": {
    "papermill": {
     "duration": 0.022488,
     "end_time": "2024-12-24T14:16:38.025283",
     "exception": false,
     "start_time": "2024-12-24T14:16:38.002795",
     "status": "completed"
    },
    "tags": []
   },
   "source": [
    "### **16.4 Model Evaluation**\n",
    "Evaluate classification accuracy:"
   ]
  },
  {
   "cell_type": "code",
   "execution_count": 38,
   "id": "77dcfd08",
   "metadata": {
    "execution": {
     "iopub.execute_input": "2024-12-24T14:16:38.070071Z",
     "iopub.status.busy": "2024-12-24T14:16:38.069646Z",
     "iopub.status.idle": "2024-12-24T14:16:47.352404Z",
     "shell.execute_reply": "2024-12-24T14:16:47.351147Z"
    },
    "papermill": {
     "duration": 9.307214,
     "end_time": "2024-12-24T14:16:47.354142",
     "exception": false,
     "start_time": "2024-12-24T14:16:38.046928",
     "status": "completed"
    },
    "tags": []
   },
   "outputs": [
    {
     "name": "stdout",
     "output_type": "stream",
     "text": [
      "Accuracy: 0.9008898771122084\n"
     ]
    }
   ],
   "source": [
    "from pyspark.ml.evaluation import MulticlassClassificationEvaluator\n",
    "\n",
    "evaluator = MulticlassClassificationEvaluator(labelCol=\"Delayed\", metricName=\"accuracy\")\n",
    "accuracy = evaluator.evaluate(predictions)\n",
    "print(f\"Accuracy: {accuracy}\")"
   ]
  },
  {
   "cell_type": "markdown",
   "id": "c0055f43",
   "metadata": {
    "papermill": {
     "duration": 0.021735,
     "end_time": "2024-12-24T14:16:47.398334",
     "exception": false,
     "start_time": "2024-12-24T14:16:47.376599",
     "status": "completed"
    },
    "tags": []
   },
   "source": [
    "## **Step 17: Optimization Techniques**\n",
    "\n",
    "Optimization is critical for processing large datasets efficiently. Here’s how to optimize PySpark workflows:\n",
    "### **17.1 Partitioning**\n",
    "Repartitioning improves parallelism for large datasets:"
   ]
  },
  {
   "cell_type": "code",
   "execution_count": 39,
   "id": "ea78eb2d",
   "metadata": {
    "execution": {
     "iopub.execute_input": "2024-12-24T14:16:47.443652Z",
     "iopub.status.busy": "2024-12-24T14:16:47.443160Z",
     "iopub.status.idle": "2024-12-24T14:16:55.952197Z",
     "shell.execute_reply": "2024-12-24T14:16:55.950920Z"
    },
    "papermill": {
     "duration": 8.534048,
     "end_time": "2024-12-24T14:16:55.954296",
     "exception": false,
     "start_time": "2024-12-24T14:16:47.420248",
     "status": "completed"
    },
    "tags": []
   },
   "outputs": [
    {
     "name": "stdout",
     "output_type": "stream",
     "text": [
      "Number of partitions: 10\n"
     ]
    }
   ],
   "source": [
    "flights = flights.repartition(10)  # Repartition to 10 partitions\n",
    "print(f\"Number of partitions: {flights.rdd.getNumPartitions()}\")"
   ]
  },
  {
   "cell_type": "markdown",
   "id": "29eb7a06",
   "metadata": {
    "papermill": {
     "duration": 0.02137,
     "end_time": "2024-12-24T14:16:55.997574",
     "exception": false,
     "start_time": "2024-12-24T14:16:55.976204",
     "status": "completed"
    },
    "tags": []
   },
   "source": [
    "### **17.2 Caching**\n",
    "Cache frequently used data:"
   ]
  },
  {
   "cell_type": "code",
   "execution_count": 40,
   "id": "560263c8",
   "metadata": {
    "execution": {
     "iopub.execute_input": "2024-12-24T14:16:56.043635Z",
     "iopub.status.busy": "2024-12-24T14:16:56.043241Z",
     "iopub.status.idle": "2024-12-24T14:17:11.250816Z",
     "shell.execute_reply": "2024-12-24T14:17:11.247761Z"
    },
    "papermill": {
     "duration": 15.233603,
     "end_time": "2024-12-24T14:17:11.253697",
     "exception": false,
     "start_time": "2024-12-24T14:16:56.020094",
     "status": "completed"
    },
    "tags": []
   },
   "outputs": [
    {
     "data": {
      "text/plain": [
       "1048575"
      ]
     },
     "execution_count": 40,
     "metadata": {},
     "output_type": "execute_result"
    }
   ],
   "source": [
    "flights.cache()\n",
    "flights.count()  # Trigger caching"
   ]
  },
  {
   "cell_type": "markdown",
   "id": "a0e4c315",
   "metadata": {
    "papermill": {
     "duration": 0.022595,
     "end_time": "2024-12-24T14:17:11.314948",
     "exception": false,
     "start_time": "2024-12-24T14:17:11.292353",
     "status": "completed"
    },
    "tags": []
   },
   "source": [
    "### **17.3 Broadcast Variables**\n",
    "Use broadcast variables for small lookup tables:"
   ]
  },
  {
   "cell_type": "code",
   "execution_count": 41,
   "id": "c6b2dab5",
   "metadata": {
    "execution": {
     "iopub.execute_input": "2024-12-24T14:17:11.360694Z",
     "iopub.status.busy": "2024-12-24T14:17:11.360312Z",
     "iopub.status.idle": "2024-12-24T14:17:11.721900Z",
     "shell.execute_reply": "2024-12-24T14:17:11.720849Z"
    },
    "papermill": {
     "duration": 0.387475,
     "end_time": "2024-12-24T14:17:11.724452",
     "exception": false,
     "start_time": "2024-12-24T14:17:11.336977",
     "status": "completed"
    },
    "tags": []
   },
   "outputs": [
    {
     "name": "stdout",
     "output_type": "stream",
     "text": [
      "+-----+------+----+-----------+-------+-------------+-----------+--------------+-------------------+-------------------+--------------+---------------+--------+----------+--------------+------------+--------+--------+---------+-------+-----------------+------------+-------------+--------+---------+------------------+-----------+---------------+--------------------+-------+---------+--------------------+\n",
      "|YEAR_|MONTH_|DAY_|DAY_OF_WEEK|AIRLINE|FLIGHT_NUMBER|TAIL_NUMBER|ORIGIN_AIRPORT|DESTINATION_AIRPORT|SCHEDULED_DEPARTURE|DEPARTURE_TIME|DEPARTURE_DELAY|TAXI_OUT|WHEELS_OFF|SCHEDULED_TIME|ELAPSED_TIME|AIR_TIME|DISTANCE|WHEELS_ON|TAXI_IN|SCHEDULED_ARRIVAL|ARRIVAL_TIME|ARRIVAL_DELAY|DIVERTED|CANCELLED|      duration_hrs|Delay_Label|AIRLINE_Indexed|            features|Delayed|IATA_CODE|             AIRLINE|\n",
      "+-----+------+----+-----------+-------+-------------+-----------+--------------+-------------------+-------------------+--------------+---------------+--------+----------+--------------+------------+--------+--------+---------+-------+-----------------+------------+-------------+--------+---------+------------------+-----------+---------------+--------------------+-------+---------+--------------------+\n",
      "| 2015|     1|  10|          6|     DL|         2625|     N371NW|           HDN|                ATL|               1321|          1311|            100|      17|      1518|           191|         184|     158|    1340|     1956|      9|             1832|        2005|           93|       0|        0|2.6333333333333333| High Delay|            1.0|[1.0,10.0,1.0,134...|      1|       DL|Delta Air Lines Inc.|\n",
      "| 2015|     1|  16|          5|     DL|         2465|     N900DE|           ATL|                BDL|               1229|          1225|             -2|      11|      1238|           136|         129|     114|     859|     1432|      4|             1445|        1436|           -9|       0|        0|               1.9|  Low Delay|            1.0|[1.0,16.0,1.0,859...|      0|       DL|Delta Air Lines Inc.|\n",
      "| 2015|     2|  17|          2|     OO|         5474|     N584SW|           LAX|                CLD|               1151|          1151|              0|      14|      1205|            46|          42|      24|      86|     1229|      4|             1237|        1233|           -4|       0|        0|               0.4|  Low Delay|            3.0|[2.0,17.0,3.0,86....|      0|       OO|Skywest Airlines ...|\n",
      "| 2015|     1|  17|          6|     US|          725|     N152UW|           CLT|                MCO|               1445|          1441|             -1|      10|      1454|           100|          82|      67|     468|     1601|      5|             1625|        1606|          -19|       0|        0|1.1166666666666667|  Low Delay|            6.0|[1.0,17.0,6.0,468...|      0|       US|     US Airways Inc.|\n",
      "| 2015|     1|  12|          1|     US|         1744|     N704US|           BOS|                PHL|                630|           625|             -6|      28|       652|            92|          95|      63|     280|      755|      4|              802|         759|           -3|       0|        0|              1.05|  Low Delay|            6.0|[1.0,12.0,6.0,280...|      0|       US|     US Airways Inc.|\n",
      "+-----+------+----+-----------+-------+-------------+-----------+--------------+-------------------+-------------------+--------------+---------------+--------+----------+--------------+------------+--------+--------+---------+-------+-----------------+------------+-------------+--------+---------+------------------+-----------+---------------+--------------------+-------+---------+--------------------+\n",
      "only showing top 5 rows\n",
      "\n"
     ]
    }
   ],
   "source": [
    "from pyspark.sql.functions import broadcast\n",
    "\n",
    "airlines_broadcast = broadcast(airlines)\n",
    "flights_with_airlines = flights.join(airlines_broadcast, flights.AIRLINE == airlines.IATA_CODE)\n",
    "flights_with_airlines.show(5)"
   ]
  },
  {
   "cell_type": "markdown",
   "id": "c0a79402",
   "metadata": {
    "papermill": {
     "duration": 0.031959,
     "end_time": "2024-12-24T14:17:11.796013",
     "exception": false,
     "start_time": "2024-12-24T14:17:11.764054",
     "status": "completed"
    },
    "tags": []
   },
   "source": [
    "### **17.4 Using Parquet for Storage**\n",
    "Parquet is optimized for Spark:"
   ]
  },
  {
   "cell_type": "code",
   "execution_count": 42,
   "id": "0d539566",
   "metadata": {
    "execution": {
     "iopub.execute_input": "2024-12-24T14:17:11.843138Z",
     "iopub.status.busy": "2024-12-24T14:17:11.842524Z",
     "iopub.status.idle": "2024-12-24T14:17:16.907481Z",
     "shell.execute_reply": "2024-12-24T14:17:16.906706Z"
    },
    "papermill": {
     "duration": 5.090847,
     "end_time": "2024-12-24T14:17:16.909249",
     "exception": false,
     "start_time": "2024-12-24T14:17:11.818402",
     "status": "completed"
    },
    "tags": []
   },
   "outputs": [],
   "source": [
    "flights.write.parquet(\"flights.parquet\", mode=\"overwrite\")\n",
    "optimized_flights = spark.read.parquet(\"flights.parquet\")"
   ]
  },
  {
   "cell_type": "markdown",
   "id": "72c3bb74",
   "metadata": {
    "papermill": {
     "duration": 0.029406,
     "end_time": "2024-12-24T14:17:16.977514",
     "exception": false,
     "start_time": "2024-12-24T14:17:16.948108",
     "status": "completed"
    },
    "tags": []
   },
   "source": [
    "## **Step 18: Visualization**\n",
    "\n",
    "PySpark lacks native visualization tools, but you can use Pandas and Matplotlib for visualizations:"
   ]
  },
  {
   "cell_type": "code",
   "execution_count": 43,
   "id": "d7f05574",
   "metadata": {
    "execution": {
     "iopub.execute_input": "2024-12-24T14:17:17.026447Z",
     "iopub.status.busy": "2024-12-24T14:17:17.026091Z",
     "iopub.status.idle": "2024-12-24T14:17:30.052902Z",
     "shell.execute_reply": "2024-12-24T14:17:30.051713Z"
    },
    "papermill": {
     "duration": 13.052573,
     "end_time": "2024-12-24T14:17:30.054626",
     "exception": false,
     "start_time": "2024-12-24T14:17:17.002053",
     "status": "completed"
    },
    "tags": []
   },
   "outputs": [
    {
     "data": {
      "image/png": "[encoded data removed]",
      "text/plain": [
       "<Figure size 640x480 with 1 Axes>"
      ]
     },
     "metadata": {},
     "output_type": "display_data"
    }
   ],
   "source": [
    "import matplotlib.pyplot as plt\n",
    "\n",
    "# Convert predictions to Pandas\n",
    "predictions_pd = predictions.select(\"Delayed\", \"prediction\").toPandas()\n",
    "\n",
    "# Plot predictions\n",
    "predictions_pd[\"prediction\"].value_counts().plot(kind=\"bar\", title=\"Prediction Distribution\")\n",
    "plt.show()"
   ]
  },
  {
   "cell_type": "markdown",
   "id": "cc4d4348",
   "metadata": {
    "papermill": {
     "duration": 0.022461,
     "end_time": "2024-12-24T14:17:30.100372",
     "exception": false,
     "start_time": "2024-12-24T14:17:30.077911",
     "status": "completed"
    },
    "tags": []
   },
   "source": [
    "## **Conclusion**\n",
    "\n",
    "PySpark is a robust and versatile framework for big data processing, offering a wide range of tools and functionalities to analyze, transform, and model large datasets efficiently. Through this walkthrough, we explored essential PySpark concepts step-by-step, starting from the basics of creating Spark sessions and loading datasets to advanced techniques like machine learning pipelines, graph processing, and streaming.\n",
    "\n",
    "### **Key Takeaways**\n",
    "1. **Scalability**: PySpark allows you to handle vast amounts of data distributed across clusters, making it ideal for big data analytics.\n",
    "2. **Flexibility**: With its modular structure, PySpark supports batch processing, real-time streaming, and machine learning tasks seamlessly.\n",
    "3. **Integration**: PySpark integrates well with other tools and libraries like Pandas, SQL, and MLlib, allowing flexibility in workflows.\n",
    "4. **Optimization**: Techniques like partitioning, caching, and broadcasting optimize performance for faster execution.\n",
    "5. **Real-World Applications**: PySpark is widely used in industries for applications like predictive modeling, fraud detection, and network analysis.\n",
    "\n",
    "### **Practical Insights**\n",
    "- PySpark's DataFrame API simplifies data manipulation, resembling SQL-like operations for ease of use.\n",
    "- Pipelines in PySpark streamline the workflow by encapsulating multiple stages of data preprocessing and modeling.\n",
    "- Structured Streaming facilitates real-time analytics, making it suitable for monitoring and responding to live events.\n",
    "- GraphFrames extend PySpark’s capability for graph-based problems, enabling relationship and connectivity analysis.\n",
    "\n",
    "### **Future Scope**\n",
    "As data volumes grow exponentially, PySpark will remain a cornerstone of big data analytics. Learning PySpark provides a competitive edge in fields like data science, machine learning, and real-time data engineering. Enhancing skills in advanced topics like Delta Lake, Spark Streaming, and integrating PySpark with cloud services like AWS and Azure will open up more opportunities.\n"
   ]
  }
 ],
 "metadata": {
  "kaggle": {
   "accelerator": "none",
   "dataSources": [
    {
     "datasetId": 2196939,
     "sourceId": 3670164,
     "sourceType": "datasetVersion"
    }
   ],
   "dockerImageVersionId": 30822,
   "isGpuEnabled": false,
   "isInternetEnabled": true,
   "language": "python",
   "sourceType": "notebook"
  },
  "kernelspec": {
   "display_name": "Python 3",
   "language": "python",
   "name": "python3"
  },
  "language_info": {
   "codemirror_mode": {
    "name": "ipython",
    "version": 3
   },
   "file_extension": ".py",
   "mimetype": "text/x-python",
   "name": "python",
   "nbconvert_exporter": "python",
   "pygments_lexer": "ipython3",
   "version": "3.10.12"
  },
  "papermill": {
   "default_parameters": {},
   "duration": 312.502782,
   "end_time": "2024-12-24T14:17:30.954410",
   "environment_variables": {},
   "exception": null,
   "input_path": "__notebook__.ipynb",
   "output_path": "__notebook__.ipynb",
   "parameters": {},
   "start_time": "2024-12-24T14:12:18.451628",
   "version": "2.6.0"
  }
 },
 "nbformat": 4,
 "nbformat_minor": 5
}
